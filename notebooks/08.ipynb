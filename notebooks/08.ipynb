{
  "cells": [
    {
      "cell_type": "markdown",
      "source": "# 木",
      "metadata": {}
    },
    {
      "cell_type": "markdown",
      "source": "",
      "metadata": {}
    },
    {
      "cell_type": "markdown",
      "source": "## 木構造：問題にチャレンジする前に",
      "metadata": {}
    },
    {
      "cell_type": "markdown",
      "source": "\nキーワード：根付き木，節点（node），辺（edge），親（parent），子（child），兄弟（sibling），根（root），内部接点（internal node），葉（leaf），次数（degree），深さ（depth），高さ（height）",
      "metadata": {}
    },
    {
      "cell_type": "markdown",
      "source": "### ♠木を扱うライブラリ",
      "metadata": {}
    },
    {
      "cell_type": "markdown",
      "source": "\n根付き木の表現の問題をnetworkxで解く例を後で示すが，AIZU Online Judgeでは使えないし，そもそも，ここで扱う問題では，あまり御利益がない。\n\n|                  | anytree        | networkx                     |\n|------------------|----------------|------------------------------|\n| 用途             | 木構造         | グラフ（後の章でも使える。） |\n| Google Colab     | 要インストール | ○                            |\n| ノードの種類判別 | ○              | △                            |\n| 深さ             | ○              | △                            |\n| 高さ             | ○              | ×                            |\n| 子の取得         | ○              | ○                            |\n| 木の巡回         | inorder以外は○ | ×                            |\n| 可視化           | ○              | ○                            |",
      "metadata": {}
    },
    {
      "cell_type": "markdown",
      "source": "### プログラミングテクニック",
      "metadata": {}
    },
    {
      "cell_type": "markdown",
      "source": "\nprintで改行しない。",
      "metadata": {}
    },
    {
      "cell_type": "code",
      "execution_count": null,
      "metadata": {},
      "outputs": [],
      "source": [
        "print(\"foo\", end=\"\")\n",
        "print(\"bar\")"
      ]
    },
    {
      "cell_type": "markdown",
      "source": "入力の，後ろの方をまとめてリストに格納する方法",
      "metadata": {}
    },
    {
      "cell_type": "code",
      "execution_count": null,
      "metadata": {},
      "outputs": [],
      "source": [
        "a, *b = [1, 2, 3, 4]\n",
        "print(a)\n",
        "print(b)"
      ]
    },
    {
      "cell_type": "markdown",
      "source": "文字列表示で便利な機能",
      "metadata": {}
    },
    {
      "cell_type": "code",
      "execution_count": null,
      "metadata": {},
      "outputs": [],
      "source": [
        "foo = 123\n",
        "print(f'foo = {foo}')\n",
        "print(f'{foo = }')"
      ]
    },
    {
      "cell_type": "markdown",
      "source": "Noneと空のリストの検査\n\n| チェック内容           | 安全な書き方        | 危険な書き方 |\n|------------------------|---------------------|--------------|\n| `a` が `None` か       | `if a is None:`     | `if not a:`  |\n| `a` が `None` でないか | `if a is not None:` | `if a:`      |\n| リスト`a`が空か        | `if len(a) == 0:`   | `if not a:`  |\n| リスト`a`が空でないか  | `if len(a) > 0:`    | `if a:`      |",
      "metadata": {}
    },
    {
      "cell_type": "markdown",
      "source": "## 根付き木の表現",
      "metadata": {}
    },
    {
      "cell_type": "markdown",
      "source": "\n問題：[ALDS 1_7_A](https://onlinejudge.u-aizu.ac.jp/courses/lesson/1/ALDS1/7/ALDS1_7_A) (Rooted Trees)",
      "metadata": {}
    },
    {
      "cell_type": "code",
      "execution_count": null,
      "metadata": {},
      "outputs": [],
      "source": [
        "%%writefile input1.dat\n",
        "13\n",
        "0 3 1 4 10\n",
        "1 2 2 3\n",
        "2 0\n",
        "3 0\n",
        "4 3 5 6 7\n",
        "5 0\n",
        "6 0\n",
        "7 2 8 9\n",
        "8 0\n",
        "9 0\n",
        "10 2 11 12\n",
        "11 0\n",
        "12 0"
      ]
    },
    {
      "cell_type": "markdown",
      "source": "### ♠networkxを使った解法",
      "metadata": {}
    },
    {
      "cell_type": "code",
      "execution_count": null,
      "metadata": {},
      "outputs": [],
      "source": [
        "import networkx as nx\n",
        "\n",
        "with open('input1.dat') as f: lines = f.readlines()\n",
        "\n",
        "G = nx.DiGraph()\n",
        "\n",
        "n = int(lines[0])\n",
        "for line in lines[1:]:\n",
        "  parent, _, *children = list(map(int, line.split()))\n",
        "  for child in children: G.add_edge(parent, child)\n",
        "  # ここで親子関係や子のリストを記憶すれば話は簡単だが，ここでは汎用的な方法を示す。\n",
        "\n",
        "def node_type(G, node):\n",
        "  if G.in_degree(node) == 0: return \"root\"    # 入次数が0なら根\n",
        "  elif G.out_degree(node) == 0: return \"leaf\" # 出次数が0なら葉\n",
        "  return \"internal\"                           # 他は内部節点\n",
        "\n",
        "# 入次数が0のものが根（根付き木では1個しかない）\n",
        "root = [node for node, degree in G.in_degree() if degree == 0][0]\n",
        "\n",
        "# 根からの距離が深さ\n",
        "depths = nx.single_source_shortest_path_length(G, root)\n",
        "\n",
        "# 全てのノードについて，親を探す\n",
        "parents = {root: -1} # 根の親はない\n",
        "for u, v in nx.bfs_edges(G, root): parents[v] = u\n",
        "\n",
        "for i in range(n):\n",
        "  parent = parents[i]\n",
        "  depth = depths[i]\n",
        "  nodetype = node_type(G, i)\n",
        "  children = sorted(G.successors(i)) # 入力から明らかだが，ここでは改めて求める。\n",
        "  print(f'node {i}: {parent = }, {depth = }, {nodetype}, {children}')\n",
        "\n",
        "# おまけ（可視化）\n",
        "import graphviz\n",
        "dot = graphviz.Digraph()\n",
        "dot.edges((str(u), str(v)) for u, v in G.edges)\n",
        "dot"
      ]
    },
    {
      "cell_type": "markdown",
      "source": "anytreeのコードは，このコードをAIで翻訳すれば得られるだろう。",
      "metadata": {}
    },
    {
      "cell_type": "markdown",
      "source": "### 自分で実装する",
      "metadata": {}
    },
    {
      "cell_type": "markdown",
      "source": "\n教科書では**左子右兄弟表現**を使っているが，ここでは最低限の実装で済ませる（教科書も，左子右兄弟表現はこの問題でしか使っていない）。\n\nここで理解したいこと：\n\n-   ノードをクラスで表現する。\n-   木の操作（ここでは深さの計算）には再帰が向いている。",
      "metadata": {}
    },
    {
      "cell_type": "code",
      "execution_count": null,
      "metadata": {},
      "outputs": [],
      "source": [
        "%%writefile test.py\n",
        "class Node:\n",
        "  def __init__(self, key):\n",
        "    self.key = key\n",
        "    self.parent = None\n",
        "    self.children = []\n",
        "    \n",
        "  def getDepth(self):\n",
        "    # 自分で実装する。\n",
        "\n",
        "  def getNodetype(self):\n",
        "    if self.parent is None: return \"root\"\n",
        "    if len(self.children) > 0: return \"internal node\"\n",
        "    return \"leaf\"\n",
        "  \n",
        "  def __str__(self):\n",
        "    parent = self.parent.key if self.parent is not None else -1\n",
        "    depth = self.getDepth()\n",
        "    return f'node {self.key}: {parent = }, {depth = }, {self.getNodetype()}, {self.children}'\n",
        "\n",
        "# 入力\n",
        "n = int(input())\n",
        "T = [Node(k) for k in range(n)] # ノードをリストを木とみなす。\n",
        "\n",
        "for _ in range(n):\n",
        "  k, _, *children = map(int, input().split())\n",
        "  node = T[k]\n",
        "  node.children = children\n",
        "  for c in children: T[c].parent = node\n",
        "\n",
        "for node in T: print(node)"
      ]
    },
    {
      "cell_type": "code",
      "execution_count": null,
      "metadata": {},
      "outputs": [],
      "source": [
        "!python3 test.py < input1.dat"
      ]
    },
    {
      "cell_type": "markdown",
      "source": "うまく行ったら提出する。",
      "metadata": {}
    },
    {
      "cell_type": "markdown",
      "source": "## 二分木の表現",
      "metadata": {}
    },
    {
      "cell_type": "markdown",
      "source": "\n問題：[ALDS 1_7_B](https://onlinejudge.u-aizu.ac.jp/courses/lesson/1/ALDS1/7/ALDS1_7_B) (Binary Tree)\n\nここで理解したいこと：\n\n-   二分木のノードの実装\n-   （再帰）兄弟を求めるときは，自分が左の子なのか右の子なのかを知る必要がある。\n-   （再帰）ノードの高さは，左の子の高さと右の子の高さの最大値に1を足すことで求められる。",
      "metadata": {}
    },
    {
      "cell_type": "code",
      "execution_count": null,
      "metadata": {},
      "outputs": [],
      "source": [
        "%%writefile input2.dat\n",
        "9\n",
        "0 1 4\n",
        "1 2 3\n",
        "2 -1 -1\n",
        "3 -1 -1\n",
        "4 5 8\n",
        "5 6 7\n",
        "6 -1 -1\n",
        "7 -1 -1\n",
        "8 -1 -1"
      ]
    },
    {
      "cell_type": "code",
      "execution_count": null,
      "metadata": {},
      "outputs": [],
      "source": [
        "%%writefile test.py\n",
        "class Node:\n",
        "  def __init__(self, key):\n",
        "    self.key = key\n",
        "    self.parent = None\n",
        "    self.left = None\n",
        "    self.right = None\n",
        "  \n",
        "  def getDepth(self):\n",
        "    if self.parent is None: return 0\n",
        "    return self.parent.getDepth() + 1\n",
        "\n",
        "  def getNodetype(self):\n",
        "    if self.parent is None: return \"root\"\n",
        "    if self.left is not None or self.right is not None: return \"internal node\"\n",
        "    return \"leaf\"\n",
        "  \n",
        "  def getSibling(self):\n",
        "    if self.parent is None: return None\n",
        "    # 自分で書く。\n",
        "  \n",
        "  def getDegree(self):\n",
        "    degree = 0\n",
        "    if self.left: degree += 1\n",
        "    if self.right: degree += 1\n",
        "    return degree\n",
        "  \n",
        "  def getHeight(self):\n",
        "    # 自分で書く。\n",
        "    if self.left is not None: return self.left.getHeight() + 1\n",
        "    if self.right is not None: return self.right.getHeight() + 1\n",
        "    return 0\n",
        "  \n",
        "  def __str__(self):\n",
        "    parent = self.parent.key if self.parent is not None else -1\n",
        "    sibling = self.getSibling().key if self.getSibling() is not None else -1\n",
        "    degree = self.getDegree()\n",
        "    depth = self.getDepth()\n",
        "    height = self.getHeight()\n",
        "    return f'node {self.key}: {parent = }, {sibling = }, {degree = }, {depth = }, {height = }, {self.getNodetype()}'\n",
        "\n",
        "n = int(input())\n",
        "T = [Node(k) for k in range(n)] # ノードをリストを木とみなす。\n",
        "\n",
        "for _ in range(n):\n",
        "  k, left, right = map(int, input().split())\n",
        "  node = T[k]\n",
        "  if left != -1: node.left = T[left]\n",
        "  if right != -1: node.right = T[right]\n",
        "  if node.left is not None: node.left.parent = node\n",
        "  if node.right is not None: node.right.parent = node\n",
        "\n",
        "for node in T: print(node)"
      ]
    },
    {
      "cell_type": "code",
      "execution_count": null,
      "metadata": {},
      "outputs": [],
      "source": [
        "!python3 test.py < input2.dat"
      ]
    },
    {
      "cell_type": "markdown",
      "source": "うまく行ったら提出する。",
      "metadata": {}
    },
    {
      "cell_type": "markdown",
      "source": "## 木の巡回",
      "metadata": {}
    },
    {
      "cell_type": "markdown",
      "source": "\n問題：[ALDS 1_7_C](https://onlinejudge.u-aizu.ac.jp/courses/lesson/1/ALDS1/7/ALDS1_7_C) (Tree Walk)\n\nここで理解したいこと：\n\n-   木の巡回方法3種類",
      "metadata": {}
    },
    {
      "cell_type": "code",
      "execution_count": null,
      "metadata": {},
      "outputs": [],
      "source": [
        "%%writefile test.py\n",
        "class Node:\n",
        "  def __init__(self, key):\n",
        "    self.key = key\n",
        "    self.parent = None\n",
        "    self.left = None\n",
        "    self.right = None\n",
        "  \n",
        "n = int(input())\n",
        "T = [Node(k) for k in range(n)] # ノードをリストを木とみなす。\n",
        "\n",
        "for _ in range(n):\n",
        "  k, left, right = map(int, input().split())\n",
        "  node = T[k]\n",
        "  if left != -1: node.left = T[left]\n",
        "  if right != -1: node.right = T[right]\n",
        "  if node.left is not None: node.left.parent = node\n",
        "  if node.right is not None: node.right.parent = node\n",
        "\n",
        "# ここまでは前と同じ\n",
        "\n",
        "def preParse(u):\n",
        "  if u is None: return\n",
        "  print(f' {u.key}', end='')\n",
        "  preParse(u.left)\n",
        "  preParse(u.right)\n",
        "\n",
        "def inParse(u):\n",
        "  # 自分で書く。\n",
        "\n",
        "def postParse(u):\n",
        "  if u is None: return\n",
        "  postParse(u.left)\n",
        "  postParse(u.right)\n",
        "  print(f' {u.key}', end='')\n",
        "\n",
        "# 親のないノードが根である。\n",
        "root = [node for node in T if node.parent is None][0]\n",
        "\n",
        "print(\"Preorder\")\n",
        "preParse(root)\n",
        "print()\n",
        "\n",
        "print(\"Inorder\")\n",
        "inParse(root)\n",
        "print()\n",
        "\n",
        "print(\"Postorder\")\n",
        "postParse(root)\n",
        "print()"
      ]
    },
    {
      "cell_type": "code",
      "execution_count": null,
      "metadata": {},
      "outputs": [],
      "source": [
        "!python3 test.py < input2.dat"
      ]
    },
    {
      "cell_type": "markdown",
      "source": "うまく行ったら提出する。",
      "metadata": {}
    },
    {
      "cell_type": "markdown",
      "source": "## ♠木の巡回の応用：木の復元",
      "metadata": {}
    },
    {
      "cell_type": "markdown",
      "source": "\n問題：[ALDS 1_7_D](https://onlinejudge.u-aizu.ac.jp/courses/lesson/1/ALDS1/7/ALDS1_7_D) (Reconstruction of a Tree)",
      "metadata": {}
    },
    {
      "cell_type": "markdown",
      "source": "## 宿題",
      "metadata": {}
    },
    {
      "cell_type": "markdown",
      "source": "\n以下の問題をAC（Accepted）にする。Pythonを使うこと。\n\n-   [ALDS 1_7_A](https://onlinejudge.u-aizu.ac.jp/courses/lesson/1/ALDS1/7/ALDS1_7_A) (Rooted Trees)\n-   [ALDS 1_7_B](https://onlinejudge.u-aizu.ac.jp/courses/lesson/1/ALDS1/7/ALDS1_7_B) (Binary Tree)\n-   [ALDS 1_7_C](https://onlinejudge.u-aizu.ac.jp/courses/lesson/1/ALDS1/7/ALDS1_7_C) (Tree Walk)\n-   ♠[ALDS 1_7_D](https://onlinejudge.u-aizu.ac.jp/courses/lesson/1/ALDS1/7/ALDS1_7_D) (Reconstruction of a Tree)\n\n以上",
      "metadata": {}
    }
  ],
  "nbformat": 4,
  "nbformat_minor": 5,
  "metadata": {}
}
