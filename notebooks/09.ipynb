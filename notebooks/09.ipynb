{
  "cells": [
    {
      "cell_type": "markdown",
      "source": "# 二分探索木",
      "metadata": {}
    },
    {
      "cell_type": "markdown",
      "source": "",
      "metadata": {}
    },
    {
      "cell_type": "markdown",
      "source": "## 二分探索木：問題にチャレンジする前に",
      "metadata": {}
    },
    {
      "cell_type": "markdown",
      "source": "",
      "metadata": {}
    },
    {
      "cell_type": "markdown",
      "source": "### トレードオフ",
      "metadata": {}
    },
    {
      "cell_type": "markdown",
      "source": "\n| データ構造              | 探索        | 挿入        | 削除        |\n|-------------------------|-------------|-------------|-------------|\n| 配列（Python のリスト） | $O(n)$      | $O(n)$      | $O(n)$      |\n| 整列済み配列            | $O(\\log n)$ | $O(n)$      | $O(n)$      |\n| 双方向連結リスト        | $O(n)$      | $O(1)$      | $O(1)$      |\n| **二分探索木**          | $O(\\log n)$ | $O(\\log n)$ | $O(\\log n)$ |",
      "metadata": {}
    },
    {
      "cell_type": "markdown",
      "source": "### クラス図",
      "metadata": {}
    },
    {
      "cell_type": "markdown",
      "source": "\nこの資料の最後（全てのクラスが定義できたもの）のコードをAIに渡して，次のプロンプトを実行する。\n\n> Google Colab内で有効なクラス図を描いて<br>（ここにコードを貼り付ける）",
      "metadata": {}
    },
    {
      "cell_type": "code",
      "execution_count": null,
      "metadata": {},
      "outputs": [],
      "source": [
        "# ------------------ クラス図を描くセル ------------------\n",
        "from graphviz import Digraph\n",
        "from IPython.display import Image, display\n",
        "\n",
        "dot = Digraph(comment='BST Classes', format='png')\n",
        "dot.attr('node', shape='record', fontsize='11')\n",
        "\n",
        "# 各クラス（フィールド／主なメソッドは必要に応じて省略・追加可）\n",
        "dot.node('Node',\n",
        "          '{Node| key : int\\\\l parent : Node\\\\l left : Node\\\\l right : Node\\\\l}')\n",
        "\n",
        "dot.node('Tree',\n",
        "          '{Tree| root : Node\\\\l| insert(z)\\\\l}')\n",
        "\n",
        "dot.node('Tree2',\n",
        "          '{Tree2| | find(k) : Node\\\\l}')\n",
        "\n",
        "dot.node('Tree3',\n",
        "          '{Tree3| | getMinimum(x) : Node\\\\l deleteNode(z) : None\\\\l}')\n",
        "\n",
        "# 継承（open-arrow で「空継承」を表現）\n",
        "dot.edge('Tree2', 'Tree', arrowhead='empty')\n",
        "dot.edge('Tree3', 'Tree2', arrowhead='empty')\n",
        "\n",
        "# 描画して Colab 上に表示\n",
        "diagram_path = dot.render(filename='bst_classes')\n",
        "display(Image(filename=diagram_path))"
      ]
    },
    {
      "cell_type": "markdown",
      "source": "## 二分探索木：挿入",
      "metadata": {}
    },
    {
      "cell_type": "markdown",
      "source": "\n問題：[ALDS1_8_A](https://onlinejudge.u-aizu.ac.jp/courses/lesson/1/ALDS1/8/ALDS1_8_A) (Binary Search Tree I)\n\nちなみに，中間順巡回と先行順巡回を確認して後行順巡回を確認しないのは，前の二つだけ木が決まるからである（教科書8.5節を参照）。",
      "metadata": {}
    },
    {
      "cell_type": "code",
      "execution_count": null,
      "metadata": {},
      "outputs": [],
      "source": [
        "%%writefile input.dat\n",
        "8\n",
        "insert 30\n",
        "insert 88\n",
        "insert 12\n",
        "insert 1\n",
        "insert 20\n",
        "insert 17\n",
        "insert 25\n",
        "print"
      ]
    },
    {
      "cell_type": "code",
      "execution_count": null,
      "metadata": {},
      "outputs": [],
      "source": [
        "%%writefile test.py\n",
        "def preParse(u):\n",
        "  if u is None: return\n",
        "  print(f' {u.key}', end='')\n",
        "  preParse(u.left)\n",
        "  preParse(u.right)\n",
        "\n",
        "def inParse(u):\n",
        "  if u is None: return\n",
        "  inParse(u.left)\n",
        "  print(f' {u.key}', end='')\n",
        "  inParse(u.right)\n",
        "\n",
        "class Node:\n",
        "  def __init__(self, key):\n",
        "    self.key = key\n",
        "    self.parent = None\n",
        "    self.left = None\n",
        "    self.right = None\n",
        "\n",
        "class Tree:\n",
        "  def __init__(self):\n",
        "    self.root = None\n",
        "\n",
        "  def insert(self, z):\n",
        "    x = self.root\n",
        "    y = None\n",
        "    while x is not None:\n",
        "      y = x\n",
        "      if z.key < x.key: x = x.left\n",
        "      else: x = x.right\n",
        "    z.parent = y\n",
        "    if y is None: self.root = z\n",
        "    elif z.key < y.key: y.left = z\n",
        "    else: y.right = z\n",
        "\n",
        "n = int(input())\n",
        "T = Tree()\n",
        "# T2 = Tree() # もう1本必要なら作ればよい。\n",
        "\n",
        "for _ in range(n):\n",
        "  com = input().split()\n",
        "  # 自分で書く。"
      ]
    },
    {
      "cell_type": "code",
      "execution_count": null,
      "metadata": {},
      "outputs": [],
      "source": [
        "!python3 test.py < input.dat"
      ]
    },
    {
      "cell_type": "markdown",
      "source": "## 二分探索木：探索",
      "metadata": {}
    },
    {
      "cell_type": "markdown",
      "source": "\n問題：[ALDS1_8_B](https://onlinejudge.u-aizu.ac.jp/courses/lesson/1/ALDS1/8/ALDS1_8_B) (Binary Search Tree II)",
      "metadata": {}
    },
    {
      "cell_type": "code",
      "execution_count": null,
      "metadata": {},
      "outputs": [],
      "source": [
        "%%writefile input.dat\n",
        "10\n",
        "insert 30\n",
        "insert 88\n",
        "insert 12\n",
        "insert 1\n",
        "insert 20\n",
        "find 12\n",
        "insert 17\n",
        "insert 25\n",
        "find 16\n",
        "print"
      ]
    },
    {
      "cell_type": "code",
      "execution_count": null,
      "metadata": {},
      "outputs": [],
      "source": [
        "%%writefile test.py\n",
        "# preParse, inParse の定義（前と同じ）\n",
        "\n",
        "# Nodeの定義（前と同じ）\n",
        "\n",
        "# Treeの定義（前と同じ）\n",
        "\n",
        "class Tree2(Tree):\n",
        "  def find(self, k):\n",
        "    x = self.root\n",
        "    while x is not None and k != x.key:\n",
        "      if k < x.key: x = x.left\n",
        "      else: x = x.right\n",
        "    return x\n",
        "\n",
        "n = int(input())\n",
        "T = Tree2()\n",
        "\n",
        "for _ in range(n):\n",
        "  com = input().split()\n",
        "  # insertとprint（前と同じ）\n",
        "  # findについて，自分で書く。"
      ]
    },
    {
      "cell_type": "code",
      "execution_count": null,
      "metadata": {},
      "outputs": [],
      "source": [
        "!python3 test.py < input.dat"
      ]
    },
    {
      "cell_type": "markdown",
      "source": "## 二分探索木：削除",
      "metadata": {}
    },
    {
      "cell_type": "markdown",
      "source": "\n問題：[ALDS1_8_C](https://onlinejudge.u-aizu.ac.jp/courses/lesson/1/ALDS1/8/ALDS1_8_C) (Binary Search Tree III)",
      "metadata": {}
    },
    {
      "cell_type": "code",
      "execution_count": null,
      "metadata": {},
      "outputs": [],
      "source": [
        "%%writefile input.dat\n",
        "18\n",
        "insert 8\n",
        "insert 2\n",
        "insert 3\n",
        "insert 7\n",
        "insert 22\n",
        "insert 1\n",
        "find 1\n",
        "find 2\n",
        "find 3\n",
        "find 4\n",
        "find 5\n",
        "find 6\n",
        "find 7\n",
        "find 8\n",
        "print\n",
        "delete 3\n",
        "delete 7\n",
        "print"
      ]
    },
    {
      "cell_type": "code",
      "execution_count": null,
      "metadata": {},
      "outputs": [],
      "source": [
        "%%writefile test.py\n",
        "# Tree2の定義までは前と同じ\n",
        "\n",
        "class Tree3(Tree2):\n",
        "  def getMinimum(self, x):\n",
        "    while x.left is not None: x = x.left\n",
        "    return x\n",
        "\n",
        "  def deleteNode(self, z):\n",
        "    if z.left is None or z.right is None:\n",
        "      y = z\n",
        "    else:\n",
        "      y = self.getMinimum(z.right) # 教科書のgetSuccessor()は不要\n",
        "\n",
        "    # y に残っている唯一の子を x とする\n",
        "    x = y.left if y.left is not None else y.right\n",
        "\n",
        "    # x が存在すれば親ポインタを貼り替え\n",
        "    if x is not None: x.parent = y.parent\n",
        "\n",
        "    # 木の根または親の子ポインタを置換（transplant）\n",
        "    if y.parent is None: self.root = x\n",
        "    elif y == y.parent.left: y.parent.left = x\n",
        "    else: y.parent.right = x\n",
        "\n",
        "    # もし “論理的に削除したいノード” と “実際に削除したノード”が異なればキーをコピーして完了\n",
        "    if y != z: z.key = y.key\n",
        "\n",
        "n = int(input())\n",
        "T = Tree3()\n",
        "\n",
        "for _ in range(n):\n",
        "  com = input().split()\n",
        "  #findの処理まで前と同じ\n",
        "  #deleteについて，自分で書く。"
      ]
    },
    {
      "cell_type": "code",
      "execution_count": null,
      "metadata": {},
      "outputs": [],
      "source": [
        "!python3 test.py < input.dat"
      ]
    }
  ],
  "nbformat": 4,
  "nbformat_minor": 5,
  "metadata": {}
}
