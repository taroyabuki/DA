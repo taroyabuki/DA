{
  "cells": [
    {
      "cell_type": "markdown",
      "source": "# 動的計画法",
      "metadata": {}
    },
    {
      "cell_type": "markdown",
      "source": "",
      "metadata": {}
    },
    {
      "cell_type": "markdown",
      "source": "## 動的計画法とは：問題にチャレンジする前に",
      "metadata": {}
    },
    {
      "cell_type": "markdown",
      "source": "\n問題：[ALDS1_5_A](https://onlinejudge.u-aizu.ac.jp/courses/lesson/1/ALDS1/5/ALDS1_5_A) (Exhaustive Search)",
      "metadata": {}
    },
    {
      "cell_type": "code",
      "execution_count": null,
      "metadata": {},
      "outputs": [],
      "source": [
        "%%writefile input.dat\n",
        "5\n",
        "1 5 7 10 21\n",
        "4\n",
        "2 4 17 8"
      ]
    },
    {
      "cell_type": "markdown",
      "source": "### 以前の方法",
      "metadata": {}
    },
    {
      "cell_type": "code",
      "execution_count": null,
      "metadata": {},
      "outputs": [],
      "source": [
        "%%writefile test.py\n",
        "def solve(i, m):\n",
        "  if m == 0: return True\n",
        "  if i >= n: return False\n",
        "  tmp = solve(i + 1, m) or solve(i + 1, m - A[i])\n",
        "  return tmp\n",
        "\n",
        "n = int(input())\n",
        "A = list(map(int, input().split()))\n",
        "q = int(input())\n",
        "m = list(map(int, input().split()))\n",
        "\n",
        "for x in m: print('yes' if solve(0, x) else 'no')"
      ]
    },
    {
      "cell_type": "code",
      "execution_count": null,
      "metadata": {},
      "outputs": [],
      "source": [
        "!python3 test.py < input.dat"
      ]
    },
    {
      "cell_type": "markdown",
      "source": "### メモ化",
      "metadata": {}
    },
    {
      "cell_type": "markdown",
      "source": "\n同じ計算を何度もする無駄を省くために，solveの結果を記憶することにする（**メモ化**，memoization）。",
      "metadata": {}
    },
    {
      "cell_type": "markdown",
      "source": "#### ライブラリを使う",
      "metadata": {}
    },
    {
      "cell_type": "markdown",
      "source": "\n定義の前に次のコードを追加すると，その関数がメモ化される。",
      "metadata": {}
    },
    {
      "cell_type": "code",
      "execution_count": null,
      "metadata": {},
      "outputs": [],
      "source": [
        "from functools import cache\n",
        "\n",
        "@cache\n",
        "#前と同じ"
      ]
    },
    {
      "cell_type": "code",
      "execution_count": null,
      "metadata": {},
      "outputs": [],
      "source": [
        "!python3 test.py < input.dat"
      ]
    },
    {
      "cell_type": "markdown",
      "source": "#### 自分で実装する",
      "metadata": {}
    },
    {
      "cell_type": "code",
      "execution_count": null,
      "metadata": {},
      "outputs": [],
      "source": [
        "%%writefile test.py\n",
        "dp = {} # 変更点1：結果を記録するための辞書\n",
        "\n",
        "def solve(i, m):\n",
        "  # 変更点2：辞書に入っているならそれを返す。 \n",
        "  if m == 0: return True\n",
        "  if i >= n: return False\n",
        "  tmp = solve(i + 1, m) or solve(i + 1, m - A[i])\n",
        "  # 変更点3：辞書に入れる。\n",
        "  return tmp\n",
        "\n",
        "n = int(input())\n",
        "A = list(map(int, input().split()))\n",
        "q = int(input())\n",
        "m = list(map(int, input().split()))\n",
        "\n",
        "for x in m: print('yes' if solve(0, x) else 'no')"
      ]
    },
    {
      "cell_type": "code",
      "execution_count": null,
      "metadata": {},
      "outputs": [],
      "source": [
        "!python3 test.py < input.dat"
      ]
    },
    {
      "cell_type": "markdown",
      "source": "## フィボナッチ数列",
      "metadata": {}
    },
    {
      "cell_type": "markdown",
      "source": "\n問題：[ALDS1_10_A](https://onlinejudge.u-aizu.ac.jp/courses/lesson/1/ALDS1/10/ALDS1_10_A) (Fibonacci Numbers)\n\n<img src=\"https://ndlsearch.ndl.go.jp/thumbnail/9784794964540.jpg\" width=\"150\"/> エンツェンスベルガー『数の悪魔』（晶文社, 2000）\n\nフィボナッチ数列の定義には二つの流儀がある。\n\n-   定義1: $f_n = f_{n-1} + f_{n-2},\\quad f_0 = 1,\\quad f_1 = 1.$\n-   定義2: $F_n = F_{n-1} + F_{n-2},\\quad F_0 = 0,\\quad F_1 = 1.$\n\n教科書で採用しているのは定義1だが，定義2の方が良い。$f_n=F_{n+1}$ で相互に変換できるから，どちらでもよいと思うかもしれないが，フィボナッチ数列に関する有名な定理で，定義2でしか成り立たないものがある。例えば，$\\mathrm{gcd}(F_m, F_n)=F_{\\mathrm{gcd}(m, n)}$ は，定義2でしか成り立たない（$m=3, n=6$ として試してみよ）。\n\nそこでこの資料では，定義2の$F_n$ を求める方法を実装して，$f_n=F_{n+1}$ から $f_n$ を求めることにする。\n\nフィボナッチ数列に関する話題。★はAizu Online Judgeで使えるもの（NumPyやSymPyを使うコードは使えない）。\n\n-   再帰\n    -   単純な実装★\n    -   メモ化\n        -   ライブラリ★\n        -   自分で書く★\n-   ループ★\n-   ♠漸化式を解く\n    -   数式処理\n    -   紙とペン（**高校数学**）★\n-   ♠行列の累乗\n    -   NumPy\n    -   対角化（**線形代数**）\n        -   数式処理\n        -   紙とペン★\n-   ♠母関数（**微分積分**）\n    -   テイラー近似式\n    -   整数計算★\n-   ♠アート\n\n$f_{10}=F_{11}=89$ を確認しながら進める。",
      "metadata": {}
    },
    {
      "cell_type": "markdown",
      "source": "### 再帰",
      "metadata": {}
    },
    {
      "cell_type": "markdown",
      "source": "",
      "metadata": {}
    },
    {
      "cell_type": "markdown",
      "source": "#### 単純な実装★",
      "metadata": {}
    },
    {
      "cell_type": "code",
      "execution_count": null,
      "metadata": {},
      "outputs": [],
      "source": [
        "%%writefile test.py\n",
        "def fibonacci(n):\n",
        "  # n <= 1 なら n を返す。\n",
        "  # 再帰的に計算した結果を返す。\n",
        "\n",
        "n = int(input())\n",
        "print(fibonacci(n + 1)) # f(n) = F(n + 1)"
      ]
    },
    {
      "cell_type": "code",
      "execution_count": null,
      "metadata": {},
      "outputs": [],
      "source": [
        "!echo 10 | python3 test.py"
      ]
    },
    {
      "cell_type": "markdown",
      "source": "うまく行ったら提出してみる。",
      "metadata": {}
    },
    {
      "cell_type": "markdown",
      "source": "#### メモ化",
      "metadata": {}
    },
    {
      "cell_type": "markdown",
      "source": "",
      "metadata": {}
    },
    {
      "cell_type": "markdown",
      "source": "##### ライブラリ★",
      "metadata": {}
    },
    {
      "cell_type": "code",
      "execution_count": null,
      "metadata": {},
      "outputs": [],
      "source": [
        "%%writefile test.py\n",
        "from functools import cache\n",
        "\n",
        "@cache\n",
        "後は同じ"
      ]
    },
    {
      "cell_type": "code",
      "execution_count": null,
      "metadata": {},
      "outputs": [],
      "source": [
        "!echo 10 | python3 test.py"
      ]
    },
    {
      "cell_type": "markdown",
      "source": "うまく行ったら提出してみる。",
      "metadata": {}
    },
    {
      "cell_type": "markdown",
      "source": "##### 自分で書く★",
      "metadata": {}
    },
    {
      "cell_type": "markdown",
      "source": "\n一度計算した結果を辞書に記録する。（フィボナッチ数列の場合は，番号が0, 1, 2, … のように等間隔だから，リストを使ってもよい。）",
      "metadata": {}
    },
    {
      "cell_type": "code",
      "execution_count": null,
      "metadata": {},
      "outputs": [],
      "source": [
        "%%writefile test.py\n",
        "F = {} # 結果を記録するための辞書\n",
        "\n",
        "def fibonacci(n):\n",
        "  # 辞書にあるならそれを返す。\n",
        "  # 辞書に無いなら\n",
        "  # 計算して\n",
        "  # 辞書に入れて\n",
        "  # 返す。\n",
        "\n",
        "n = int(input())\n",
        "print(fibonacci(n + 1))"
      ]
    },
    {
      "cell_type": "code",
      "execution_count": null,
      "metadata": {},
      "outputs": [],
      "source": [
        "!echo 10 | python3 test.py"
      ]
    },
    {
      "cell_type": "markdown",
      "source": "### ループ",
      "metadata": {}
    },
    {
      "cell_type": "code",
      "execution_count": null,
      "metadata": {},
      "outputs": [],
      "source": [
        "%%writefile test.py\n",
        "def fibonacci(n):\n",
        "  a, b = 0, 1\n",
        "  # 必要な分だけ更新を繰り返す。\n",
        "  return b\n",
        "\n",
        "n = int(input())\n",
        "print(fibonacci(n + 1))"
      ]
    },
    {
      "cell_type": "code",
      "execution_count": null,
      "metadata": {},
      "outputs": [],
      "source": [
        "!echo 10 | python3 test.py"
      ]
    },
    {
      "cell_type": "markdown",
      "source": "### ♠漸化式を解く",
      "metadata": {}
    },
    {
      "cell_type": "markdown",
      "source": "\n次の三項間漸化式を解く。\n$$F_n = F_{n-1} + F_{n-2},\\quad F_0 = 0,\\quad F_1 = 1.$$",
      "metadata": {}
    },
    {
      "cell_type": "markdown",
      "source": "#### 数式処理",
      "metadata": {}
    },
    {
      "cell_type": "markdown",
      "source": "\n数式処理で正確に解く（[WolframAlpha](https://www.wolframalpha.com/input?i=F%28n%29%3DF%28n-1%29%2BF%28n-2%29%2CF%280%29%3D0%2CF%281%29%3D1&lang=ja)）。\n\nPython（SymPy）なら，`rsolve`に`左辺 = 0`あるいは`Eq(左辺, 右辺)`の形式で漸化式を与える。",
      "metadata": {}
    },
    {
      "cell_type": "code",
      "execution_count": null,
      "metadata": {},
      "outputs": [],
      "source": [
        "from sympy import *\n",
        "\n",
        "F = Function('F')\n",
        "var('n')\n",
        "result = rsolve(F(n) - F(n-1) - F(n-2), F(n), {F(0): 0, F(1): 1})\n",
        "#result = rsolve(Eq(F(n), F(n-1) + F(n-2)), F(n), {F(0): 0, F(1): 1})"
      ]
    },
    {
      "cell_type": "markdown",
      "source": "`n`に $0$ から $11$ までの数を代入して，正しいことを確かめる。",
      "metadata": {}
    },
    {
      "cell_type": "code",
      "execution_count": null,
      "metadata": {},
      "outputs": [],
      "source": [
        "[simplify(result.subs(n, i)) for i in range(12)]"
      ]
    },
    {
      "cell_type": "markdown",
      "source": "#### 紙とペン（**高校数学**）",
      "metadata": {}
    },
    {
      "cell_type": "markdown",
      "source": "\n漸化式の特性方程式は\n$$x^2-x-1=0$$\nで，解は $\\dfrac{1\\pm\\sqrt{5}}{2}$ である。特性方程式が異なる解 $\\alpha, \\beta$ をもつとき，漸化式の一般項は $A, B$ を定数として，\n$$F_n=A\\alpha^n+B\\beta^n$$\nと書ける（**高校数学の参考書等を参照**）。特性方程式の解を $\\alpha:=\\dfrac{1+\\sqrt{5}}{2}$，$\\beta:=\\dfrac{1-\\sqrt{5}}{2}$ として，$F_0=0, F_1=1$ となるように $A, B$ を定めると，\n$$F_n=\\dfrac{1}{\\sqrt 5}(\\alpha^n-\\beta^n)$$\nとなる（連立方程式 $A+B=0, A\\alpha+B\\beta=1$ の解は $A=1/\\sqrt{5}, B=-1/\\sqrt{5}$）。\n\nこの結果を使って正確に計算する。",
      "metadata": {}
    },
    {
      "cell_type": "code",
      "execution_count": null,
      "metadata": {},
      "outputs": [],
      "source": [
        "from sympy import *\n",
        "\n",
        "def fibonacci(n):\n",
        "  alpha = (1 + sqrt(5)) / 2\n",
        "  beta  = (1 - sqrt(5)) / 2\n",
        "  return simplify((alpha**n - beta**n) / sqrt(5))\n",
        "\n",
        "print(fibonacci(10 + 1))"
      ]
    },
    {
      "cell_type": "markdown",
      "source": "問題の制約は $n\\le 44$ で，このくらいなら数値計算（近似計算）でも正しい結果が得られる。♠問われているのが $f_{44}=F_{45}$ までなのは，32ビット整数の最大値 $2^{31}-1=2147483647$ を意識してのことだろう。$F_{47}=2971215073$（$=f_{46}$） が32ビット整数の範囲を超える。これを超えてもPythonなら問題なく計算できるが，C言語やC++では注意が必要になる。\n\n次のコードなら，Aizu Online Judgeで提出できる。",
      "metadata": {}
    },
    {
      "cell_type": "code",
      "execution_count": null,
      "metadata": {},
      "outputs": [],
      "source": [
        "%%writefile test.py\n",
        "def fibonacci(n):\n",
        "  alpha = (1 + 5**0.5) / 2\n",
        "  beta  = (1 - 5**0.5) / 2\n",
        "  return round((alpha**n - beta**n) / 5**0.5)\n",
        "\n",
        "n = int(input())\n",
        "print(fibonacci(n + 1))"
      ]
    },
    {
      "cell_type": "code",
      "execution_count": null,
      "metadata": {},
      "outputs": [],
      "source": [
        "!echo 10 | python3 test.py"
      ]
    },
    {
      "cell_type": "markdown",
      "source": "♠数値計算で最初にうまく行かなくなるのは $f_{70}=F_{71}=308061521170129$ である。",
      "metadata": {}
    },
    {
      "cell_type": "code",
      "execution_count": null,
      "metadata": {},
      "outputs": [],
      "source": [
        "# 浮動小数点数による近似計算\n",
        "def f1(n):\n",
        "  alpha = (1 + 5**0.5) / 2\n",
        "  beta  = (1 - 5**0.5) / 2\n",
        "  return round((alpha**n - beta**n) / 5**0.5) # roundで整数にする。\n",
        "\n",
        "from sympy import sqrt, simplify\n",
        "\n",
        "# 数式処理による厳密計算\n",
        "def f2(n):\n",
        "  alpha = (1 + sqrt(5)) / 2\n",
        "  beta  = (1 - sqrt(5)) / 2\n",
        "  return simplify((alpha**n - beta**n) / sqrt(5))\n",
        "\n",
        "n = 0\n",
        "while True:\n",
        "  v1, v2 = f1(n + 1), f2(n + 1)\n",
        "  if v1 != v2:\n",
        "    print(f'{n = }')\n",
        "    print(f'近似計算：{v1}')\n",
        "    print(f'厳密計算：{v2}')\n",
        "    break\n",
        "  n += 1"
      ]
    },
    {
      "cell_type": "markdown",
      "source": "♠問題：[049 - Fibonacci Easy (mod 1000000007)](https://atcoder.jp/contests/math-and-algorithm/tasks/math_and_algorithm_ap)\n\nこれまでに学んだ手法から，適切なものを選べば解ける。",
      "metadata": {}
    },
    {
      "cell_type": "code",
      "execution_count": null,
      "metadata": {},
      "outputs": [],
      "source": [
        "%%writefile test.py\n",
        "#自分で書く"
      ]
    },
    {
      "cell_type": "code",
      "execution_count": null,
      "metadata": {},
      "outputs": [],
      "source": [
        "!echo 8691200 | python3 test.py"
      ]
    },
    {
      "cell_type": "markdown",
      "source": "### ♠行列の累乗",
      "metadata": {}
    },
    {
      "cell_type": "markdown",
      "source": "\nフィボナッチ数列の漸化式は行列を使って\n$$\\begin{pmatrix}F_{n+1}&F_n\\\\F_{n}&F_{n-1}\\end{pmatrix}\n=\\begin{pmatrix}F_n+F_{n-1}&F_{n-1}+F_{n-2}\\\\F_n&F_{n-1}\\end{pmatrix}\n=\\begin{pmatrix}1&1\\\\1&0\\end{pmatrix}\\begin{pmatrix}F_n&F_{n-1}\\\\F_{n-1}&F_{n-2}\\end{pmatrix}\n=\\begin{pmatrix}1&1\\\\1&0\\end{pmatrix}^{n-1}\\begin{pmatrix}F_2&F_1\\\\F_1&F_0\\end{pmatrix}=\\begin{pmatrix}1&1\\\\1&0\\end{pmatrix}^n$$\nと表せる（$F_0=0, F_1=1, F_2=1$ に注意）。\n\n$A=\\begin{pmatrix}1&1\\\\1&0\\end{pmatrix}$とすると，$F_n$ は $A^n$ の $(1, 2)$ 成分が $F_n$ である。例えば，\n$$\\begin{pmatrix}F_3&F_2\\\\F_2&F_1\\end{pmatrix}\n=\\begin{pmatrix}1&1\\\\1&0\\end{pmatrix}^2\n=\\begin{pmatrix}2&1\\\\1&1\\end{pmatrix}$$\nだから，$F_2=1$ である。\n\n$F_{11}=f_{10}$ が欲しければ，$A^{11}$ の $(1, 2)$ 成分，あるいは，$A^{10}$ の $(1, 1)$ 成分を求めればよい。$A^{10}$ を直接計算するのは大変だから，[WolframAlphaを使う](https://www.wolframalpha.com/input?i=%7B%7B1%2C1%7D%2C%7B1%2C0%7D%7D%5E10&lang=ja)。\n\nPython（NumPy）では，行列の累乗は`np.linalg.matrix_power(A, n)`で計算する。`A**n`ではないことに注意。$(1, 2)$ 成分には`[0, 1]`でアクセスする。",
      "metadata": {}
    },
    {
      "cell_type": "code",
      "execution_count": null,
      "metadata": {},
      "outputs": [],
      "source": [
        "import numpy as np\n",
        "\n",
        "A = np.array([[1, 1], [1, 0]])\n",
        "n = 2\n",
        "B = np.linalg.matrix_power(A, n)\n",
        "print(B)\n",
        "print(B[0, 1]) # B=A^nの(1, 2)成分\n",
        "\n",
        "n = 10 + 1\n",
        "B = np.linalg.matrix_power(A, n)\n",
        "print(B)\n",
        "print(B[0, 1])"
      ]
    },
    {
      "cell_type": "markdown",
      "source": "関数にすると次のとおり。",
      "metadata": {}
    },
    {
      "cell_type": "code",
      "execution_count": null,
      "metadata": {},
      "outputs": [],
      "source": [
        "import numpy as np\n",
        "\n",
        "A = np.array([[1, 1], [1, 0]])\n",
        "\n",
        "def fibonacci(n):\n",
        "  return (np.linalg.matrix_power(A, n)[0, 1])\n",
        "\n",
        "print(fibonacci(10 + 1))"
      ]
    },
    {
      "cell_type": "markdown",
      "source": "#### ♠大きな数",
      "metadata": {}
    },
    {
      "cell_type": "markdown",
      "source": "\n♠問題：[054 - Fibonacci Hard (mod 1000000000)](https://atcoder.jp/contests/math-and-algorithm/tasks/math_and_algorithm_at)）。\n\nNumPyの整数のデフォルトは64ビットだから，それを超える計算はできない。できたとしても，$F_{876543210987654321}$ のような大きな数の計算には時間がかかるだろう。次のような方法が考えられる（AtCoderではNumPyが使えるから，行列の乗算の実装の必要はない）。\n\n> Pythonの桁数無限の整数をラップして，乗算と加算をmod 10^9で行うオブジェクトを作る。それを要素とするNumPyの行列\\[\\[1,1\\],\\[1,0\\]\\]の876543210987654321乗の(1,2)成分を求めるコード",
      "metadata": {}
    },
    {
      "cell_type": "markdown",
      "source": "#### 対角化（**線形代数**）",
      "metadata": {}
    },
    {
      "cell_type": "markdown",
      "source": "\n行列の累乗は，対角化を使って計算する。\n\n$P=\\begin{pmatrix}\\beta&\\alpha\\\\1&1\\end{pmatrix}$, $D=\\begin{pmatrix}\\beta&0\\\\0&\\alpha\\end{pmatrix}$とすると，$P^{-1}=\\dfrac{1}{\\sqrt 5}\\begin{pmatrix}-1&\\alpha\\\\1&-\\beta\\end{pmatrix}$ で，$A$ は\n$$P^{-1}AP=D$$\nと対角化される。\n\n$A=PDP^{-1}$ だから，\n$$A^n=(PDP^{-1})^n=(PDP^{-1})\\cdots(PDP^{-1})=PD^nP^{-1}=\\dfrac{1}{\\sqrt 5}\\begin{pmatrix}\\alpha^{n+1}-\\beta^{n+1}&\\alpha^n-\\beta^n\\\\\\alpha^n-\\beta^n&\\alpha^{n-1}-\\beta^{n-1}\\end{pmatrix}$$\nとなる。この $(1, 2)$ 成分が $F_n$ だから，\n$$F_n=\\dfrac{1}{\\sqrt 5}(\\alpha^{n}-\\beta^{n}).$$",
      "metadata": {}
    },
    {
      "cell_type": "markdown",
      "source": "##### 数式処理",
      "metadata": {}
    },
    {
      "cell_type": "markdown",
      "source": "\n[WolframAlphaで対角化](https://www.wolframalpha.com/input?i=diagonalize+%7B%7B1%2C1%7D%2C%7B1%2C0%7D%7D&lang=ja)\n\nPython（SymPy）なら，`diagonalize`（対角化）を使う。",
      "metadata": {}
    },
    {
      "cell_type": "code",
      "execution_count": null,
      "metadata": {},
      "outputs": [],
      "source": [
        "from sympy import *\n",
        "\n",
        "def fibonacci(x):\n",
        "  var('n')\n",
        "  A = Matrix([[1, 1], [1, 0]])\n",
        "  P, D = A.diagonalize()\n",
        "  A_n = P * D**n * P.inv()\n",
        "  return simplify(A_n[0, 1].subs(n, x)) # (1,2)成分のnを引数で置き換える。\n",
        "\n",
        "print(fibonacci(10 + 1))"
      ]
    },
    {
      "cell_type": "markdown",
      "source": "##### 紙とペン",
      "metadata": {}
    },
    {
      "cell_type": "markdown",
      "source": "\n**長崎憲一,\n横山利幸『明解 線形代数』（培風館, 改訂版, 2024）** の方法で対角化する。その結果として，漸化式の解と同じものを得て，漸化式の解を使ったコードと同じコードを書くことになる。♠$A$ は対称行列だから直交行列で対角化できるのだが，ここではそこまでしなくてよい（同書§23を参照）。",
      "metadata": {}
    },
    {
      "cell_type": "markdown",
      "source": "### ♠母関数（**微分積分**）",
      "metadata": {}
    },
    {
      "cell_type": "markdown",
      "source": "\n<img src=\"https://ndlsearch.ndl.go.jp/thumbnail/9784320124646.jpg\" width=\"150\"/> Graham, Knuth, Patashnik『コンピュータの数学』（共立出版, 第2版, 2020） 原題は『Concrete Mathematics』。連続（CONtinuous）と離散（disCRETE）のブレンドが大事だということである。\n\n> この本全体で最も重要な概念，すなわち，**母関数**（generating function）の概念に到達した。\n\n数列 $\\langle a_0, a_1, a_2, \\dots\\rangle$に対して，\n$$A(z):=\\sum_{k\\ge 0}a_kz^k=a_0+a_1z+a_2z^2+\\dots$$\nつまり，$z^k$ の係数が $a_k$ であるような $z$ の多項式（で表される関数）を，その数列の母関数という。",
      "metadata": {}
    },
    {
      "cell_type": "markdown",
      "source": "#### 母関数の例",
      "metadata": {}
    },
    {
      "cell_type": "markdown",
      "source": "\n$\\langle 1, 2, 3, 4,\\dots\\rangle$ （一般項は $a_n=n+1$）の母関数は $A(z)=\\dfrac{1}{(1-z)^2}$である。\n\n1.  数列から母関数へ\n    1.  定義に基づいて計算すると，$\\displaystyle\\sum_{k\\ge 0}(k+1)z^k=\\dfrac{1}{(1-z)^2}$ である（[WolframAlpha](https://www.wolframalpha.com/input?i=Sum+%28k%2B1%29z%5Ek%2C+k%3D0+to+infinity&lang=ja)）。\n    2.  母関数を求める機能を使う（[WolframAlpha](https://www.wolframalpha.com/input?i=GeneratingFunction%5B1%2Bk%2Ck%2Cz%5D&lang=ja)）。\n2.  母関数から数列へ\n    1.  母関数 $A$ の，$z=0$ におけるテイラー近似式の $z^n$ の係数が $a_n$ である。つまり，$a_n=\\dfrac{A^{(n)}(0)} {n!}$ で，この場合は $n+1$ になるはず（[WolframAlpha](https://www.wolframalpha.com/input?i=SeriesCoefficient%5B1%2F%281-z%29%5E2%2C%7Bz%2C0%2Cn%7D%5D&lang=ja)）。\n    2.  テイラー近似式を求める機能を使う（[WolframAlpha](https://www.wolframalpha.com/input?i=series+1%2F%281-z%29%5E2+at+z%3D0+to+order+10&lang=ja)）。\n\nテイラー近似式については，**長崎憲一ほか『明解 微分積分』（培風館, 改訂版, 2019）** の§9を参照。\n\nPython（SymPy）で1の1，つまり $\\displaystyle\\sum_{k\\ge 0}(k+1)z^k=\\dfrac{1}{(1-z)^2}$を確認する。",
      "metadata": {}
    },
    {
      "cell_type": "code",
      "execution_count": null,
      "metadata": {},
      "outputs": [],
      "source": [
        "from sympy import *\n",
        "\n",
        "var('k z')\n",
        "simplify(Sum((k + 1) * z**k, (k, 0, oo)).doit())"
      ]
    },
    {
      "cell_type": "markdown",
      "source": "2の2，つまりテイラー近似式を確認する。",
      "metadata": {}
    },
    {
      "cell_type": "code",
      "execution_count": null,
      "metadata": {},
      "outputs": [],
      "source": [
        "A = 1 / ((1 - z)**2)\n",
        "A.series(z, 0, 10)"
      ]
    },
    {
      "cell_type": "markdown",
      "source": "#### 母関数の応用例",
      "metadata": {}
    },
    {
      "cell_type": "markdown",
      "source": "\n母関数には，今後さまざまなところで再会するだろう。\n\n-   統計学では，確率分布の性質を調べるのに母関数が使われる。\n-   離散数学では，漸化式や組合せを調べるのに使われる。\n\n例：1円，5円，10円，50円，100円硬貨を使って20円にする方法は何通りあるか。490円にする方法は？（使わない硬貨があってもよい。）\n\n母関数は次のとおり（前掲の『コンピュータの数学』を参照）。",
      "metadata": {}
    },
    {
      "cell_type": "code",
      "execution_count": null,
      "metadata": {},
      "outputs": [],
      "source": [
        "from sympy import *\n",
        "A = 1\n",
        "for k in [1, 5, 10, 50, 100]: A /= 1 - z**k\n",
        "A"
      ]
    },
    {
      "cell_type": "markdown",
      "source": "$z=0$ におけるテイラー近似式の $z^{20}$ の係数が，20円にする方法の数である。",
      "metadata": {}
    },
    {
      "cell_type": "code",
      "execution_count": null,
      "metadata": {},
      "outputs": [],
      "source": [
        "n = 20\n",
        "print(A.series(z, 0, n + 1).coeff(z**n))"
      ]
    },
    {
      "cell_type": "markdown",
      "source": "490円にする方法：[WolframAlpha](https://www.wolframalpha.com/input?i=SeriesCoefficient%5B1%2F%28%281-z%29%281-z%5E5%29%281-z%5E10%29%281-z%5E50%29%281-z%5E100%29%29%2C%7Bz%2C0%2C490%7D%5D&lang=ja)\n\nただし，この方法を数式処理が無い環境で使うのは大変だし，数式処理があっても遅いと使えないという問題がある。そういう場合は，教科書17.1節のように，動的計画法を使うことになる。有名な問題だから，いろんな文献で紹介されている。例：https://github.com/okumuralab/algo-c/blob/main/src/change.c （奥村晴彦『C言語による標準アルゴリズム事典』（技術評論社, 改訂新版, 2018））のコードを実行してみる。",
      "metadata": {}
    },
    {
      "cell_type": "code",
      "execution_count": null,
      "metadata": {},
      "outputs": [],
      "source": [
        "%%bash\n",
        "wget -nc -q https://raw.githubusercontent.com/okumuralab/algo-c/refs/heads/main/src/change.c\n",
        "gcc change.c\n",
        "./a.out | head\n",
        "./a.out | tail"
      ]
    },
    {
      "cell_type": "markdown",
      "source": "#### フィボナッチ数列の母関数",
      "metadata": {}
    },
    {
      "cell_type": "markdown",
      "source": "\nフィボナッチ数列の母関数は $A(z)=\\dfrac{z}{1-z-z^2}$ である。理由：フィボナッチ数列 $\\langle0, 1, 1, 2,\\dots\\rangle$ の母関数を $A(z)$ とすると，\n$$(1-z-z^2)A(z)=A(z)-zA(z)-z^2A(z)=(F_0+F_1z+F_2z^2+\\cdots)-(F_0z+F_1z^2+F_2z^2+\\cdots)-(F_0z^2+F_1z^3+F_2z^4+\\cdots)=F_0+(F_1-F_0)z+(F_2-F_1-F_0)z^2+\\cdots=z.$$\n\n1.  数列から母関数へ\n    1.  定義に基づいて計算すると，$\\displaystyle\\sum_{k\\ge 0}F_kz^k=\\dfrac{z}{1-z-z^2}$ である（[WolframAlpha](https://www.wolframalpha.com/input?i=Sum+Fibonacci%28k%29z%5Ek%2C+k%3D0+to+infinity&lang=ja)）。\n    2.  母関数を求める機能を使う（[WolframAlpha](https://www.wolframalpha.com/input?i=GeneratingFunction%5BFibonacci%5Bk%5D%2Ck%2Cz%5D&lang=ja)）。\n2.  母関数から数列へ\n    1.  母関数 $A$ の，$z=0$ におけるテイラー近似式の $z^n$ の係数が $a_n$ である。つまり，$a_n=\\dfrac{A^{(n)}(0)} {n!}$（[WolframAlpha](https://www.wolframalpha.com/input?i=SeriesCoefficient%5Bz%2F%281-z-z%5E2%29%2C%7Bz%2C0%2Cn%7D%5D&lang=ja)）。\n    2.  テイラー近似式を求める機能を使う（[WolframAlpha](https://www.wolframalpha.com/input?i=series+z%2F%281-z-z%5E2%29+at+z%3D0+to+order+10&lang=ja)）。",
      "metadata": {}
    },
    {
      "cell_type": "code",
      "execution_count": null,
      "metadata": {},
      "outputs": [],
      "source": [
        "from sympy import *\n",
        "\n",
        "def fibonacci(n):\n",
        "  var('z')\n",
        "  A = z / (1 - z - z**2)\n",
        "  return diff(A, z, n).subs(z, 0) / factorial(n)\n",
        "  #return A.series(z, 0, n + 1).coeff(z**n)\n",
        "\n",
        "print(fibonacci(10 + 1))"
      ]
    },
    {
      "cell_type": "markdown",
      "source": "#### 整数計算",
      "metadata": {}
    },
    {
      "cell_type": "markdown",
      "source": "\n数式処理（PyhtonならSymPy）があれば，母関数のテイラー近似式からフィボナッチ数列を求められる。しかし，Aizu Online Judgeのように，SymPyが使えない環境もある。ここでは，そういう環境でも使える，母関数の活用法を紹介する。\n\n試しに，$A(\\frac{1}{100})$ を求めてみよう。",
      "metadata": {}
    },
    {
      "cell_type": "code",
      "execution_count": null,
      "metadata": {},
      "outputs": [],
      "source": [
        "from sympy import *\n",
        "\n",
        "var('z')\n",
        "A = Lambda(z, z / (1 - z - z**2))\n",
        "N(A(Rational(1, 100)))"
      ]
    },
    {
      "cell_type": "markdown",
      "source": "2桁ずつ読んでいくと，0, 01, 01, 02, 03, 05, 08, 13, 21，とフィボナッチ数列になっている。このことは，$A(z)=F_0+F_1z+F_2z^2+\\dots$ だから，$A(\\frac{1}{100})$ が\n$$F_0+\\dfrac{F_1}{100}+\\dfrac{F_2}{10000}+\\dfrac{F_3}{1000000}+\\dots\n=0+\\dfrac{1}{100}+\\dfrac{1}{10000}+\\dfrac{2}{1000000}+\\dots\n=0.010102\\cdots$$\nとなることから納得できる。\n\n例えば $F_3$ を知りたいときは，\n\n1.  $A(\\frac{1}{100})$ に$1000000=100^3$を掛けて，$10102.0\\dots$ として\n2.  整数部分だけ残して，$10102$ として，\n3.  $100$ で割った余りを求めて，$2$ を得る\n\nとすればよさそうである。\n\nしかし，試してみると，途中でうまく行かなくなる（$55$ の次は $89$ のはず）。",
      "metadata": {}
    },
    {
      "cell_type": "code",
      "execution_count": null,
      "metadata": {},
      "outputs": [],
      "source": [
        "def fibonacci(n):\n",
        "  var('z')\n",
        "  A = Lambda(z, z / (1 - z - z**2))\n",
        "  p = 100\n",
        "  return int(p**n * A(Rational(1, p))) % p\n",
        "\n",
        "[fibonacci(n) for n in range(15)]"
      ]
    },
    {
      "cell_type": "markdown",
      "source": "うまく行かなくなるのは，$89$ の次が $144$（3桁）で，2桁ずつ読む方法では扱えないからである。\n\n対策として，$A(\\frac{1}{100})$ ではなく，$A(\\frac{1}{10^n})$ として，各数を表すのに使う桁数を増やしていく。そのために`100`を`10**n`に変える（このパラメータを $p$ とする）。実は $p$ はもっと小さくてもよい（例：$p=2^n+1$，あるいは，$p=2^{n+1}$）。",
      "metadata": {}
    },
    {
      "cell_type": "code",
      "execution_count": null,
      "metadata": {},
      "outputs": [],
      "source": [
        "def fibonacci(n):\n",
        "  var('z')\n",
        "  A = Lambda(z, z / (1 - z - z**2))\n",
        "  p = 10**n\n",
        "  return int(p**n * A(Rational(1, p))) % p\n",
        "\n",
        "[fibonacci(n) for n in range(15)]"
      ]
    },
    {
      "cell_type": "markdown",
      "source": "$A(\\frac{1}{p})=\\dfrac{\\frac{1}{p}}{1-p-\\frac{1}{p^2}}$ の分母と分子に $p^2$ を掛けて $A(\\frac{1}{p})=\\dfrac{p}{p^2-p-1}$ とすると，計算しやすくなる。",
      "metadata": {}
    },
    {
      "cell_type": "code",
      "execution_count": null,
      "metadata": {},
      "outputs": [],
      "source": [
        "def fibonacci(n):\n",
        "  p = 10**n\n",
        "  return (p**n * p // (p**2 - p - 1)) % p\n",
        "\n",
        "[fibonacci(n) for n in range(15)]"
      ]
    },
    {
      "cell_type": "markdown",
      "source": "これでオンラインジャッジも通るはずだが，もう少し工夫できる。まず，$F_n$ を求めるのに $10^n$ として 10進数で $n$ 桁使うのは無駄である。$2^{n+1}$ 程度でよい。",
      "metadata": {}
    },
    {
      "cell_type": "code",
      "execution_count": null,
      "metadata": {},
      "outputs": [],
      "source": [
        "def fibonacci(n):\n",
        "  p = 2**(n + 1)\n",
        "  return (p**n * p // (p**2 - p - 1)) % p\n",
        "\n",
        "[fibonacci(n) for n in range(15)]"
      ]
    },
    {
      "cell_type": "markdown",
      "source": "さらに，累乗「`2**(n + 1)`」の代わりにビットシフト「`2 << n`」，剰余「`% p`」の代わりにビット論理積「`& (p - 1)`」を使って高速化を試みる。",
      "metadata": {}
    },
    {
      "cell_type": "code",
      "execution_count": null,
      "metadata": {},
      "outputs": [],
      "source": [
        "%%writefile test.py\n",
        "def fibonacci(n):\n",
        "  p = 2 << n\n",
        "  return ((p << (n * n + n)) // ((p << (n + 1)) - p - 1)) & (p - 1)\n",
        "\n",
        "n = int(input())\n",
        "print(fibonacci(n + 1))"
      ]
    },
    {
      "cell_type": "code",
      "execution_count": null,
      "metadata": {},
      "outputs": [],
      "source": [
        "!echo 10 | python3 test.py"
      ]
    },
    {
      "cell_type": "markdown",
      "source": "### ♠アート",
      "metadata": {}
    },
    {
      "cell_type": "markdown",
      "source": "\nフィボナッチ数列はアートにも使われる。特に，フィボナッチ数列の隣接2項の比 $\\dfrac{F_n}{F_{n-1}}$ は，$n$ が大きくなると**黄金比** $\\phi:=\\dfrac{1+\\sqrt 5}{2}$ に近づく。\n\n[フィボナッチ数（Wikipedia）](https://ja.wikipedia.org/wiki/%E3%83%95%E3%82%A3%E3%83%9C%E3%83%8A%E3%83%83%E3%83%81%E6%95%B0)",
      "metadata": {}
    },
    {
      "cell_type": "markdown",
      "source": "## 最長共通部分列",
      "metadata": {}
    },
    {
      "cell_type": "markdown",
      "source": "",
      "metadata": {}
    },
    {
      "cell_type": "markdown",
      "source": "### 準備：二次元配列の初期化方法",
      "metadata": {}
    },
    {
      "cell_type": "code",
      "execution_count": null,
      "metadata": {},
      "outputs": [],
      "source": [
        "# 悪い例\n",
        "A = [[0] * 3] * 4\n",
        "A"
      ]
    },
    {
      "cell_type": "markdown",
      "source": "実体が同じリストを4個作ってしまう。一部を変えると全部変わる。",
      "metadata": {}
    },
    {
      "cell_type": "code",
      "execution_count": null,
      "metadata": {},
      "outputs": [],
      "source": [
        "A[0][1] = 1\n",
        "A"
      ]
    },
    {
      "cell_type": "code",
      "execution_count": null,
      "metadata": {},
      "outputs": [],
      "source": [
        "# 良い例\n",
        "A = [[0] * 3 for _ in range(4)]\n",
        "A"
      ]
    },
    {
      "cell_type": "code",
      "execution_count": null,
      "metadata": {},
      "outputs": [],
      "source": [
        "A[0][1] = 1\n",
        "A"
      ]
    },
    {
      "cell_type": "markdown",
      "source": "### 本題",
      "metadata": {}
    },
    {
      "cell_type": "markdown",
      "source": "\n問題：[ALDS1_10_C](https://onlinejudge.u-aizu.ac.jp/courses/lesson/1/ALDS1/10/ALDS1_10_C) (Longest Common Subsequence)",
      "metadata": {}
    },
    {
      "cell_type": "code",
      "execution_count": null,
      "metadata": {},
      "outputs": [],
      "source": [
        "%%writefile input.dat\n",
        "3\n",
        "abcbdab\n",
        "bdcaba\n",
        "abc\n",
        "abc\n",
        "abc\n",
        "bc"
      ]
    },
    {
      "cell_type": "markdown",
      "source": "教科書に合わせて，1オリジンのコードを書く。",
      "metadata": {}
    },
    {
      "cell_type": "code",
      "execution_count": null,
      "metadata": {},
      "outputs": [],
      "source": [
        "%%writefile test.py\n",
        "def lcs(X, Y):\n",
        "  m, n = len(X), len(Y)\n",
        "  # 文字列Xを1オリジンにする（先頭は使わない）\n",
        "  # 文字列Yを1オリジンにする（先頭は使わない）\n",
        "  # c[i][j]の初期化。C[i][j]はX[1..i]とY[1..j]のLCSの長さ\n",
        "\n",
        "  # Xの文字についてのループ\n",
        "    # Yの文字についてのループ\n",
        "      # 自分で書く\n",
        "  return c[m][n]\n",
        "\n",
        "q = int(input())\n",
        "for _ in range(q):\n",
        "  s1 = input()\n",
        "  s2 = input()\n",
        "  print(lcs(s1, s2))"
      ]
    },
    {
      "cell_type": "code",
      "execution_count": null,
      "metadata": {},
      "outputs": [],
      "source": [
        "!python3 test.py < input.dat"
      ]
    },
    {
      "cell_type": "markdown",
      "source": "TLEになる場合はPyPyを使う。あるいはC++に翻訳する。\n\n♠[F - LCS](https://atcoder.jp/contests/dp/tasks/dp_f)",
      "metadata": {}
    },
    {
      "cell_type": "markdown",
      "source": "## 連鎖行列積",
      "metadata": {}
    },
    {
      "cell_type": "markdown",
      "source": "\n問題：[ALDS1_10_B](https://onlinejudge.u-aizu.ac.jp/courses/lesson/1/ALDS1/10/ALDS1_10_B) (Matrix Chain Multiplication)",
      "metadata": {}
    },
    {
      "cell_type": "code",
      "execution_count": null,
      "metadata": {},
      "outputs": [],
      "source": [
        "%%writefile input.dat\n",
        "6\n",
        "30 35\n",
        "35 15\n",
        "15 5\n",
        "5 10\n",
        "10 20\n",
        "20 25"
      ]
    },
    {
      "cell_type": "code",
      "execution_count": null,
      "metadata": {},
      "outputs": [],
      "source": [
        "%%writefile test.py\n",
        "n = int(input())\n",
        "p = [None] * (n + 1)\n",
        "m = [[0] * (n + 1) for _ in range(n + 1)]\n",
        "\n",
        "for i in range(1, n + 1):\n",
        "  p[i - 1], p[i] = map(int, input().split())\n",
        "\n",
        "# 教科書のProgram 11.6の5行目以降を実装する。\n",
        "\n",
        "print(m[1][n])"
      ]
    },
    {
      "cell_type": "code",
      "execution_count": null,
      "metadata": {},
      "outputs": [],
      "source": [
        "!python3 test.py < input.dat"
      ]
    },
    {
      "cell_type": "markdown",
      "source": "♠行列の積はNumPyで計算するのが一般的である。`M1`, `M2`, `M3`の積を計算するときに，ここで扱ったようなことは考慮されるか？",
      "metadata": {}
    },
    {
      "cell_type": "markdown",
      "source": "## 宿題",
      "metadata": {}
    },
    {
      "cell_type": "markdown",
      "source": "\n以下の問題をAC（Accepted）にする。Pythonを使うこと。\n\n-   [ALDS1_10_A](https://onlinejudge.u-aizu.ac.jp/courses/lesson/1/ALDS1/10/ALDS1_10_A) (Fibonacci Numbers)\n-   ♠[049 - Fibonacci Easy (mod 1000000007)](https://atcoder.jp/contests/math-and-algorithm/tasks/math_and_algorithm_ap)\n-   ♠[054 - Fibonacci Hard (mod 1000000000)](https://atcoder.jp/contests/math-and-algorithm/tasks/math_and_algorithm_at)）\n-   [ALDS1_10_C](https://onlinejudge.u-aizu.ac.jp/courses/lesson/1/ALDS1/10/ALDS1_10_C) (Longest Common Subsequence)\n-   [ALDS1_10_B](https://onlinejudge.u-aizu.ac.jp/courses/lesson/1/ALDS1/10/ALDS1_10_B) (Matrix Chain Multiplication)\n\n以上",
      "metadata": {}
    }
  ],
  "nbformat": 4,
  "nbformat_minor": 5,
  "metadata": {}
}
