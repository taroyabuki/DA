{
  "cells": [
    {
      "cell_type": "markdown",
      "source": "# 4 データ構造",
      "metadata": {}
    },
    {
      "cell_type": "markdown",
      "source": "\n教科書では，ライブラリを使わずに解決した後で，4.3節でライブラリを使って解決している。\n\nここでは，まずライブラリを使って解決し，その後でライブラリを使わずにデータ構造を実装して解決する。",
      "metadata": {}
    },
    {
      "cell_type": "markdown",
      "source": "## 4.1 データ構造とは：問題にチャレンジする前に",
      "metadata": {}
    },
    {
      "cell_type": "markdown",
      "source": "",
      "metadata": {}
    },
    {
      "cell_type": "markdown",
      "source": "## 4.2 スタック",
      "metadata": {}
    },
    {
      "cell_type": "markdown",
      "source": "\nアルゴリズム図鑑，『独学プログラマー』の第21章\n\n後入れ先出し（Last In First Out，LIFO）のデータ構造である。\n\n問題：[A51](https://atcoder.jp/contests/tessoku-book/tasks/tessoku_book_ay) (Stack)",
      "metadata": {}
    },
    {
      "cell_type": "markdown",
      "source": "### ライブラリを使う場合",
      "metadata": {}
    },
    {
      "cell_type": "markdown",
      "source": "\n`collections.deque`を使う。次のようなメソッドがある。\n\n| 一般的な呼び方 | `A = deque()` | メモ                   |\n|----------------|---------------|------------------------|\n| `push(x)`      | `A.append(x)` | 要素の追加             |\n| `pop()`        | `A.pop()`     | 最後尾要素の削除と取得 |\n| `top()`        | `A[-1]`       | 最後尾要素の取得       |\n\nここで一度提出する。",
      "metadata": {}
    },
    {
      "cell_type": "markdown",
      "source": "### ライブラリを使わない場合",
      "metadata": {}
    },
    {
      "cell_type": "markdown",
      "source": "\n教科書p.86「ポイント」を意識して，クラス`Stack`を実装する。ライブラリを使う場合のコードへの変更が最小限になるようにしよう。`stack = deque()`としていたなら，次の変更が必要だろう。\n\n-   `Stack`の定義を追加する。\n-   `stack = deque()`を`stack = Stack()`に変える。\n-   `stack[-1]`を`stack.top()`に変える。\n\n> PythonでクラスStackを作る。データはリストで管理する。公開メソッドはappend，pop，topだけ。topは最後尾要素の取得（削除しない）\n\n生成されるコードの例を示す。",
      "metadata": {}
    },
    {
      "cell_type": "code",
      "execution_count": null,
      "metadata": {},
      "outputs": [],
      "source": [
        "%%writefile Stack.py\n",
        "class Stack:\n",
        "  def __init__(self):\n",
        "    self._data = []\n",
        "\n",
        "  def append(self, value):\n",
        "    self._data.append(value)\n",
        "\n",
        "  def pop(self):\n",
        "    return self._data.pop()\n",
        "\n",
        "  def top(self):\n",
        "    return self._data[-1]"
      ]
    },
    {
      "cell_type": "markdown",
      "source": "ここでもう一度提出する。\n\n♠次の問題も，二つの方法（ライブラリを使う方法と使わない方法）で解いてみよう。\n\n問題：[ALDS1_3_A](https://onlinejudge.u-aizu.ac.jp/courses/lesson/1/ALDS1/3/ALDS1_3_A) (Stack)",
      "metadata": {}
    },
    {
      "cell_type": "markdown",
      "source": "## 4.3 キュー",
      "metadata": {}
    },
    {
      "cell_type": "markdown",
      "source": "\nアルゴリズム図鑑，『独学プログラマー』の第21章\n\n先入れ先出し（First In First Out，FIFO）のデータ構造である。\n\n問題：[A52](https://atcoder.jp/contests/tessoku-book/tasks/tessoku_book_az) (Queue)",
      "metadata": {}
    },
    {
      "cell_type": "markdown",
      "source": "### ライブラリを使う場合",
      "metadata": {}
    },
    {
      "cell_type": "markdown",
      "source": "\n`collections.deque`を使う。次のようなメソッドがある。\n\n| 一般的な呼び方 | `A = deque()` | メモ                            |\n|----------------|---------------|---------------------------------|\n| `isEmpty()`    | `A`           | 空かどうかを`if A:`で判定する。 |\n| `enqueue(x)`   | `A.append(x)` | 先頭要素の追加                  |\n| `dequeue()`    | `A.popleft()` | 先頭要素の削除と取得            |\n| `front()`      | `A[0]`        | 先頭要素の取得                  |",
      "metadata": {}
    },
    {
      "cell_type": "markdown",
      "source": "### ライブラリを使わない場合",
      "metadata": {}
    },
    {
      "cell_type": "markdown",
      "source": "\nクラス`Queue`を実装する。ここでは，教科書4.3節に合わせてリングバッファを使用する。ライブラリを使う場合のコードへの変更が最小限になるようにしよう。`queue = deque()`としていたなら，次の変更が必要だろう。\n\n-   `Queue`の定義を追加する。\n-   `queue = deque()`を`queue = Queue()`に変える。\n-   `queue[0]`を`queue.front()`に変える。\n\n> PythonでクラスQueueを作る。データはリングバッファで管理する。リングバッファの実体はリストで，最大サイズは100000。公開メソッドはisEmpty, append, popleft, frontだけ。frontは先頭要素の取得（削除しない）\n\n生成されるコードを修正した例を示す。",
      "metadata": {}
    },
    {
      "cell_type": "code",
      "execution_count": null,
      "metadata": {},
      "outputs": [],
      "source": [
        "%%writefile Queue.py\n",
        "class Queue:\n",
        "  def __init__(self):\n",
        "    self.size = 100000\n",
        "    self.buffer = [None] * self.size\n",
        "    self.head = 0\n",
        "    self.tail = 0\n",
        "    self.count = 0\n",
        "\n",
        "  def isEmpty(self):\n",
        "    return self.count == 0\n",
        "\n",
        "  def append(self, value):\n",
        "    if self.count == self.size: raise OverflowError(\"Queue is full\")\n",
        "    self.buffer[self.tail] = value\n",
        "    self.tail = (self.tail + 1) % self.size\n",
        "    self.count += 1\n",
        "\n",
        "  def popleft(self):\n",
        "    if self.isEmpty(): raise IndexError(\"Queue is empty\")\n",
        "    value = self.buffer[self.head]\n",
        "    self.head = (self.head + 1) % self.size\n",
        "    self.count -= 1\n",
        "    return value\n",
        "\n",
        "  def front(self):\n",
        "    if self.isEmpty(): raise IndexError(\"Queue is empty\")\n",
        "    return self.buffer[self.head]"
      ]
    },
    {
      "cell_type": "markdown",
      "source": "♠次の問題も，二つの方法（ライブラリを使う方法と使わない方法）で解いてみよう。\n\n問題：[ALDS1_3_B](https://onlinejudge.u-aizu.ac.jp/courses/lesson/1/ALDS1/3/ALDS1_3_B) (Queue)",
      "metadata": {}
    },
    {
      "cell_type": "markdown",
      "source": "## 4.4 連結リスト",
      "metadata": {}
    },
    {
      "cell_type": "markdown",
      "source": "\nデータ構造でいう**リスト**は「Pythonのリスト」ではない。\n\n-   リスト\n    -   一方向リスト（singly-linked list, one-way list）　アルゴリズム図鑑\n    -   双方向リスト（doubly-linked list, two-way list）\n\n問題：[ALDS1_3_C](https://onlinejudge.u-aizu.ac.jp/courses/lesson/1/ALDS1/3/ALDS1_3_C) (Doubly Linked List)\n\n次のようにPythonのリストを使うとTLEになることを確認する。\n\n``` python\nn = int(input())\nA = []\n\nfor _ in range(n):\n  tmp = input().split()\n  if tmp[0].startswith(\"insert\"): A.insert(0, int(tmp[1]))\n  elif tmp[0].startswith(\"deleteF\"): A.pop(0)\n  elif tmp[0].startswith(\"deleteL\"): A.pop()\n  else: # delete\n    try: A.remove(int(tmp[1]))\n    except ValueError: pass\n\nprint(*A)\n```",
      "metadata": {}
    },
    {
      "cell_type": "markdown",
      "source": "### ライブラリを使う場合",
      "metadata": {}
    },
    {
      "cell_type": "markdown",
      "source": "\n`collections.deque`を代用する。使用するメソッドは表のとおり。\n\n| 教科書         | `A = deque()`     |\n|----------------|-------------------|\n| `insert(x)`    | `A.appendleft(x)` |\n| `deleteKey(x)` | `A.remove(x)`     |\n| `deleteFirst`  | `A.popleft()`     |\n| `deleteLast`   | `A.pop()`         |\n\nヒント：`A.remove(x)`は，`x`が`A`に含まれない場合に`ValueError`を発生させる。ここでは，次のようにしてこれを無視する。\n\n``` python\ntry: A.remove(x)\nexcept ValueError: pass\n```",
      "metadata": {}
    },
    {
      "cell_type": "markdown",
      "source": "### ライブラリを使わない場合",
      "metadata": {}
    },
    {
      "cell_type": "markdown",
      "source": "\n双方向連結リストのクラス`List`を実装する。ライブラリを使う場合のコードへの変更が最小限になるようにしよう。`A = deque()`としていたなら，次の変更が必要だろう。\n\n-   `List`の定義を追加する。\n-   `A = deque()`を`A = List()`に変える。\n-   `print(*A)`を`A.print()`に変える。\n\n> Pythonで双方向連結リストのクラスListを実装する。リストのノードはクラスNodeのインスタンスで，番兵はnilとする。公開メソッドはappendleft，remove，popleft，pop，printだけ。removeは，リストを先頭から走査して，指定した値をもつ要素で最初に見つかるものを削除する。指定した値をもつ要素が存在しない場合はValueErrorを発生させる。popleftとpopではremoveを使えないことに注意する。printはリストの全要素を空白をはさんで連結した文字列を表示する。\n\n生成されるコードを修正した例を示す。",
      "metadata": {}
    },
    {
      "cell_type": "code",
      "execution_count": null,
      "metadata": {},
      "outputs": [],
      "source": [
        "%%writefile List.py\n",
        "class Node:\n",
        "  def __init__(self, value=None):\n",
        "    self.value = value  # ノードの値\n",
        "    self.prev = None  # 前のノードへのポインタ\n",
        "    self.next = None  # 次のノードへのポインタ\n",
        "\n",
        "class List:\n",
        "  def __init__(self):\n",
        "    self.nil = Node()  # 番兵ノード（nil）\n",
        "    self.nil.prev = self.nil  # 番兵の前のノードは自分自身\n",
        "    self.nil.next = self.nil  # 番兵の次のノードは自分自身\n",
        "    self.size = 0  # リストのサイズ\n",
        "\n",
        "  def appendleft(self, value):\n",
        "    \"\"\"リストの先頭に要素を追加\"\"\"\n",
        "    new_node = Node(value)\n",
        "    new_node.next = self.nil.next\n",
        "    new_node.prev = self.nil\n",
        "    self.nil.next.prev = new_node\n",
        "    self.nil.next = new_node\n",
        "    self.size += 1\n",
        "\n",
        "  def remove(self, value):\n",
        "    \"\"\"指定した値を持つ最初のノードを削除\"\"\"\n",
        "    current = self.nil.next\n",
        "    while current != self.nil:\n",
        "      if current.value == value:\n",
        "        current.prev.next = current.next\n",
        "        current.next.prev = current.prev\n",
        "        self.size -= 1\n",
        "        return\n",
        "      current = current.next\n",
        "    raise ValueError(f\"{value} not found in list\")\n",
        "\n",
        "  def popleft(self):\n",
        "    \"\"\"リストの先頭の要素を削除して返す\"\"\"\n",
        "    if self.size == 0:\n",
        "      raise IndexError(\"pop from empty list\")\n",
        "    \n",
        "    # 先頭のノードを削除\n",
        "    value = self.nil.next.value\n",
        "    self.nil.next = self.nil.next.next\n",
        "    self.nil.next.prev = self.nil\n",
        "    self.size -= 1\n",
        "    \n",
        "    return value\n",
        "\n",
        "  def pop(self):\n",
        "    \"\"\"リストの末尾の要素を削除して返す\"\"\"\n",
        "    if self.size == 0:\n",
        "      raise IndexError(\"pop from empty list\")\n",
        "    \n",
        "    # 末尾のノードを削除\n",
        "    value = self.nil.prev.value\n",
        "    self.nil.prev = self.nil.prev.prev\n",
        "    self.nil.prev.next = self.nil\n",
        "    self.size -= 1\n",
        "    \n",
        "    return value\n",
        "\n",
        "  def print(self):\n",
        "    \"\"\"リストの全要素を空白を挟んで連結した文字列を表示\"\"\"\n",
        "    current = self.nil.next\n",
        "    values = []\n",
        "    while current != self.nil:\n",
        "      values.append(str(current.value))\n",
        "      current = current.next\n",
        "    print(\" \".join(values))"
      ]
    },
    {
      "cell_type": "markdown",
      "source": "## 宿題",
      "metadata": {}
    },
    {
      "cell_type": "markdown",
      "source": "\n以下の問題をAC（Accepted）にする。Pythonを使うこと。\n\n-   [A51](https://atcoder.jp/contests/tessoku-book/tasks/tessoku_book_ay) (Stack)\n-   ♠[ALDS1_3_A](https://onlinejudge.u-aizu.ac.jp/courses/lesson/1/ALDS1/3/ALDS1_3_A) (Stack)\n-   [A52](https://atcoder.jp/contests/tessoku-book/tasks/tessoku_book_az) (Queue)\n-   ♠[ALDS1_3_B](https://onlinejudge.u-aizu.ac.jp/courses/lesson/1/ALDS1/3/ALDS1_3_B) (Queue)\n-   [ALDS1_3_C](https://onlinejudge.u-aizu.ac.jp/courses/lesson/1/ALDS1/3/ALDS1_3_C) (Doubly Linked List)\n-   ♠[ALDS1_3_D](https://onlinejudge.u-aizu.ac.jp/courses/lesson/1/ALDS1/3/ALDS1_3_D) (Areas on the Cross-Section Diagram)\n\n以上",
      "metadata": {}
    }
  ],
  "nbformat": 4,
  "nbformat_minor": 5,
  "metadata": {}
}
