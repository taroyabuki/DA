{
  "cells": [
    {
      "cell_type": "markdown",
      "source": "# 4 データ構造",
      "metadata": {}
    },
    {
      "cell_type": "markdown",
      "source": "\n教科書では，ライブラリを使わずに解決した後で，4.3節でライブラリを使って解決している。\n\nここでは，まずライブラリを使って解決し，その後でライブラリを使わずにデータ構造を実装して解決する。",
      "metadata": {}
    },
    {
      "cell_type": "markdown",
      "source": "## 4.1 データ構造とは：問題にチャレンジする前に",
      "metadata": {}
    },
    {
      "cell_type": "markdown",
      "source": "",
      "metadata": {}
    },
    {
      "cell_type": "markdown",
      "source": "## 4.2 スタック",
      "metadata": {}
    },
    {
      "cell_type": "markdown",
      "source": "\nアルゴリズム図鑑，『独学プログラマー』の第21章\n\n後入れ先出し（Last In First Out，LIFO）のデータ構造である。\n\n問題：[A51](https://atcoder.jp/contests/tessoku-book/tasks/tessoku_book_ay) (Stack)\n\n入力例1でやりたいこと：",
      "metadata": {}
    },
    {
      "cell_type": "code",
      "execution_count": null,
      "metadata": {},
      "outputs": [],
      "source": [
        "from collections import deque\n",
        "\n",
        "stack = deque()\n",
        "stack.append(\"futuremap\")\n",
        "stack.append(\"howtospeak\")\n",
        "print(stack[-1])\n",
        "stack.pop()\n",
        "print(stack[-1])"
      ]
    },
    {
      "cell_type": "markdown",
      "source": "これを一般化する。\n\n入力データを作る。",
      "metadata": {}
    },
    {
      "cell_type": "code",
      "execution_count": null,
      "metadata": {},
      "outputs": [],
      "source": [
        "%%writefile input.dat\n",
        "5\n",
        "1 futuremap\n",
        "1 howtospeak\n",
        "2\n",
        "3\n",
        "2"
      ]
    },
    {
      "cell_type": "markdown",
      "source": "出力データを作る。",
      "metadata": {}
    },
    {
      "cell_type": "code",
      "execution_count": null,
      "metadata": {},
      "outputs": [],
      "source": [
        "%%writefile answer.dat\n",
        "howtospeak\n",
        "futuremap"
      ]
    },
    {
      "cell_type": "markdown",
      "source": "### ライブラリを使う場合",
      "metadata": {}
    },
    {
      "cell_type": "markdown",
      "source": "\n`collections.deque`を使う。次のようなメソッドがある。\n\n| 一般的な呼び方 | `A = deque()` | メモ                   |\n|----------------|---------------|------------------------|\n| `push(x)`      | `A.append(x)` | 要素の追加             |\n| `pop()`        | `A.pop()`     | 最後尾要素の削除と取得 |\n| `top()`        | `A[-1]`       | 最後尾要素の取得       |\n\nコードを書く。",
      "metadata": {}
    },
    {
      "cell_type": "code",
      "execution_count": null,
      "metadata": {},
      "outputs": [],
      "source": [
        "%%writefile test.py\n",
        "from collections import deque\n",
        "stack = deque()\n",
        "\n",
        "n = int(input())\n",
        "\n",
        "# 後は自分で書く。"
      ]
    },
    {
      "cell_type": "markdown",
      "source": "実行する。",
      "metadata": {}
    },
    {
      "cell_type": "code",
      "execution_count": null,
      "metadata": {},
      "outputs": [],
      "source": [
        "!python3 test.py < input.dat"
      ]
    },
    {
      "cell_type": "markdown",
      "source": "出力例と比較する。",
      "metadata": {}
    },
    {
      "cell_type": "code",
      "execution_count": null,
      "metadata": {},
      "outputs": [],
      "source": [
        "!python3 test.py < input.dat > output.dat\n",
        "!diff output.dat answer.dat"
      ]
    },
    {
      "cell_type": "markdown",
      "source": "問題がなければ提出する。",
      "metadata": {}
    },
    {
      "cell_type": "markdown",
      "source": "### ライブラリを使わない場合",
      "metadata": {}
    },
    {
      "cell_type": "markdown",
      "source": "",
      "metadata": {}
    },
    {
      "cell_type": "markdown",
      "source": "#### 方法1　クラスStackを作る",
      "metadata": {}
    },
    {
      "cell_type": "markdown",
      "source": "\n教科書p.86「ポイント」を意識して，クラス`Stack`を実装する。ライブラリを使う場合のコードへの変更が最小限になるようにしよう。次の変更が必要だろう。\n\n-   `Stack`の定義を追加する。\n-   `stack = deque()`を`stack = Stack()`に変える。\n\n> PythonでクラスStackを作る。データはリストで管理する。公開メソッドはappend，pop，topだけ。topは最後尾要素の取得（削除しない）。\\[-1\\]で最後尾要素の値を取得できるようにする。\n\n生成されるコードの例を示す。",
      "metadata": {}
    },
    {
      "cell_type": "code",
      "execution_count": null,
      "metadata": {},
      "outputs": [],
      "source": [
        "%%writefile Stack.py\n",
        "class Stack:\n",
        "  def __init__(self):\n",
        "    self.data = []\n",
        "\n",
        "  def append(self, value):\n",
        "    self.data.append(value)\n",
        "\n",
        "  def pop(self):\n",
        "    if not self.data:\n",
        "      raise IndexError(\"pop from empty stack\")\n",
        "    return self.data.pop()\n",
        "\n",
        "  def top(self):\n",
        "    if not self.data:\n",
        "      raise IndexError(\"top from empty stack\")\n",
        "    return self.data[-1]\n",
        "\n",
        "  def __getitem__(self, index):\n",
        "    return self.data[index]"
      ]
    },
    {
      "cell_type": "markdown",
      "source": "ここでもう一度提出する。",
      "metadata": {}
    },
    {
      "cell_type": "markdown",
      "source": "#### 方法2",
      "metadata": {}
    },
    {
      "cell_type": "markdown",
      "source": "\n次のような方法も可能である。\n\n> 次のコードを，collections.dequeの代わりになるクラスStackを実装して書き直して。ただし，書き替えてよいのは最初の2行だけ。<br>\n> （ここに，ライブラリを使う場合のコードを貼り付ける。）",
      "metadata": {}
    },
    {
      "cell_type": "markdown",
      "source": "### ♠逆ポーランド記法",
      "metadata": {}
    },
    {
      "cell_type": "markdown",
      "source": "\nスタックのよくある応用例である。二つの方法（ライブラリを使う方法と使わない方法）で解いてみよう。\n\n問題：[ALDS1_3_A](https://onlinejudge.u-aizu.ac.jp/courses/lesson/1/ALDS1/3/ALDS1_3_A) (Stack)\n\n参考：[電気通信大学の2025年度入試問題から，大問3 - 数式を処理するプログラムを作る](https://note.com/ipsj/n/n4aed36c58756)",
      "metadata": {}
    },
    {
      "cell_type": "markdown",
      "source": "## 4.3 キュー",
      "metadata": {}
    },
    {
      "cell_type": "markdown",
      "source": "\nアルゴリズム図鑑，『独学プログラマー』の第21章\n\n先入れ先出し（First In First Out，FIFO）のデータ構造である。\n\n問題：[A52](https://atcoder.jp/contests/tessoku-book/tasks/tessoku_book_az) (Queue)\n\n入力例1でやりたいこと：",
      "metadata": {}
    },
    {
      "cell_type": "code",
      "execution_count": null,
      "metadata": {},
      "outputs": [],
      "source": [
        "from collections import deque\n",
        "\n",
        "queue = deque()\n",
        "queue.append(\"taro\")\n",
        "queue.append(\"hanako\")\n",
        "print(queue[0])\n",
        "queue.popleft()\n",
        "print(queue[0])"
      ]
    },
    {
      "cell_type": "markdown",
      "source": "これを一般化する。\n\n入力データを作る。",
      "metadata": {}
    },
    {
      "cell_type": "code",
      "execution_count": null,
      "metadata": {},
      "outputs": [],
      "source": [
        "%%writefile input.dat\n",
        "ここにデータを貼り付ける。"
      ]
    },
    {
      "cell_type": "markdown",
      "source": "出力データを作る。",
      "metadata": {}
    },
    {
      "cell_type": "code",
      "execution_count": null,
      "metadata": {},
      "outputs": [],
      "source": [
        "%%writefile answer.dat\n",
        "ここにデータを貼り付ける。"
      ]
    },
    {
      "cell_type": "markdown",
      "source": "### ライブラリを使う場合",
      "metadata": {}
    },
    {
      "cell_type": "markdown",
      "source": "\n`collections.deque`を使う。次のようなメソッドがある。\n\n| 一般的な呼び方 | `A = deque()` | メモ                            |\n|----------------|---------------|---------------------------------|\n| `isEmpty()`    | `A`           | 空かどうかを`if A:`で判定する。 |\n| `enqueue(x)`   | `A.append(x)` | 先頭要素の追加                  |\n| `dequeue()`    | `A.popleft()` | 先頭要素の削除と取得            |\n| `front()`      | `A[0]`        | 先頭要素の取得                  |\n\nコードを書く。",
      "metadata": {}
    },
    {
      "cell_type": "code",
      "execution_count": null,
      "metadata": {},
      "outputs": [],
      "source": [
        "%%writefile test.py\n",
        "from collections import deque\n",
        "\n",
        "# 後は自分で書く。"
      ]
    },
    {
      "cell_type": "markdown",
      "source": "実行する。",
      "metadata": {}
    },
    {
      "cell_type": "code",
      "execution_count": null,
      "metadata": {},
      "outputs": [],
      "source": [
        "!python3 test.py < input.dat"
      ]
    },
    {
      "cell_type": "markdown",
      "source": "出力例と比較する。",
      "metadata": {}
    },
    {
      "cell_type": "code",
      "execution_count": null,
      "metadata": {},
      "outputs": [],
      "source": [
        "!python3 test.py < input.dat > output.dat\n",
        "!diff output.dat answer.dat"
      ]
    },
    {
      "cell_type": "markdown",
      "source": "問題がなければ提出する。",
      "metadata": {}
    },
    {
      "cell_type": "markdown",
      "source": "### ライブラリを使わない場合",
      "metadata": {}
    },
    {
      "cell_type": "markdown",
      "source": "\nクラス`Queue`を実装する。実装方法はいろいろある。\n\n-   **リングバッファ**（教科書4.3節）\n-   双方向リスト（教科書4.4節）\n\nここではリングバッファを試す。ライブラリを使う場合のコードへの変更が最小限になるようにしよう。`queue = deque()`としていたなら，次の変更が必要だろう。\n\n-   `Queue`の定義を追加する。\n-   `queue = deque()`を`queue = Queue()`に変える。\n\n> PythonでクラスQueueを作る。データはリングバッファで管理する。リングバッファの実体はリストで，最大サイズは100000。公開メソッドはisEmpty, append, popleftだけ。\\[0\\]で先頭要素の値を取得できるようにする。\n\n生成されるコードの例を示す。",
      "metadata": {}
    },
    {
      "cell_type": "code",
      "execution_count": null,
      "metadata": {},
      "outputs": [],
      "source": [
        "%%writefile Queue.py\n",
        "class Queue:\n",
        "  def __init__(self):\n",
        "    self.size = 100000\n",
        "    self.buffer = [None] * self.size\n",
        "    self.head = 0\n",
        "    self.tail = 0\n",
        "\n",
        "  def isEmpty(self):\n",
        "    return self.head == self.tail\n",
        "\n",
        "  def append(self, value):\n",
        "    next_tail = (self.tail + 1) % self.size\n",
        "    if next_tail == self.head:\n",
        "      raise OverflowError(\"queue is full\")\n",
        "    self.buffer[self.tail] = value\n",
        "    self.tail = next_tail\n",
        "\n",
        "  def popleft(self):\n",
        "    if self.isEmpty():\n",
        "      raise IndexError(\"pop from empty queue\")\n",
        "    value = self.buffer[self.head]\n",
        "    self.head = (self.head + 1) % self.size\n",
        "    return value\n",
        "\n",
        "  def __getitem__(self, index):\n",
        "    if index != 0:\n",
        "      raise IndexError(\"only index 0 is supported\")\n",
        "    if self.isEmpty():\n",
        "      raise IndexError(\"queue is empty\")\n",
        "    return self.buffer[self.head]```\n",
        "\n",
        "`Queue`を使うコードを提出する。\n",
        "\n",
        "♠次の問題も，二つの方法（ライブラリを使う方法と使わない方法）で解いてみよう。\n",
        "\n",
        "問題：[ALDS1_3_B](https://onlinejudge.u-aizu.ac.jp/courses/lesson/1/ALDS1/3/ALDS1_3_B) (Queue)\n",
        "\n",
        "## 4.4 連結リスト\n",
        "\n",
        "データ構造でいう**リスト**は「Pythonのリスト」ではない。\n",
        "\n",
        "- リスト\n",
        "  - 一方向リスト（singly-linked list, one-way list）　アルゴリズム図鑑\n",
        "  - 双方向リスト（doubly-linked list, two-way list）\n",
        "\n",
        "問題：[ALDS1_3_C](https://onlinejudge.u-aizu.ac.jp/courses/lesson/1/ALDS1/3/ALDS1_3_C) (Doubly Linked List)\n",
        "\n",
        "次のようにPythonのリストを使うとTLEになることを確認する。\n",
        "\n",
        "```python\n",
        "A = [] # Pythonのリストを使う。\n",
        "\n",
        "n = int(input())\n",
        "\n",
        "for _ in range(n):\n",
        "  tmp = input().split()\n",
        "  if tmp[0].startswith(\"insert\"): A.insert(0, int(tmp[1]))\n",
        "  elif tmp[0].startswith(\"deleteF\"): A.pop(0)\n",
        "  elif tmp[0].startswith(\"deleteL\"): A.pop()\n",
        "  else: # delete\n",
        "    try: A.remove(int(tmp[1]))\n",
        "    except ValueError: pass\n",
        "\n",
        "print(*A)"
      ]
    },
    {
      "cell_type": "markdown",
      "source": "### ライブラリを使う場合",
      "metadata": {}
    },
    {
      "cell_type": "markdown",
      "source": "\n`collections.deque`を代用する。使用するメソッドは表のとおり。\n\n| 教科書         | `A = deque()`     |\n|----------------|-------------------|\n| `insert(x)`    | `A.appendleft(x)` |\n| `deleteKey(x)` | `A.remove(x)`     |\n| `deleteFirst`  | `A.popleft()`     |\n| `deleteLast`   | `A.pop()`         |\n\nヒント：`A.remove(x)`は，`x`が`A`に含まれない場合に`ValueError`を発生させる。ここでは，次のようにしてこれを無視する。\n\n``` python\ntry: A.remove(x)\nexcept ValueError: pass\n```\n\n上のリストを使うコードの`A.insert(0, int(tmp[1]))`を`A.appendleft(int(tmp[1]))`に，`A.pop(0)`を`A.popleft()`に代えれば動く。♠`insert`はそのままでもよいのだが，次の`List`で実装しなくて済むように，`appendleft`に代える。\n\n問題がなければ提出する。",
      "metadata": {}
    },
    {
      "cell_type": "markdown",
      "source": "### ライブラリを使わない場合",
      "metadata": {}
    },
    {
      "cell_type": "markdown",
      "source": "\n双方向連結リストのクラス`List`を実装する。ライブラリを使う場合のコードへの変更が最小限になるようにしよう。`A = deque()`としていたなら，次の変更が必要だろう。\n\n-   `List`の定義を追加する。\n-   `A = deque()`を`A = List()`に変える。\n-   `print(*A)`を`A.print()`に変える。\n\n> Pythonで双方向連結リストのクラスListを実装する。リストのノードはクラスNodeのインスタンスで，番兵はnilとする。公開メソッドはappend, appendleft，pop, popleft，removeだけ。removeは，リストを先頭から走査して，指定した値をもつ要素で最初に見つかるものを削除する。指定した値をもつ要素が存在しない場合はValueErrorを発生させる。popとpopleftではremoveを使えないことに注意する。A = List()のとき，print(\\*A)で空白を挟んで全要素を連結した結果が表示される。A\\[0\\]で先頭要素の値，A\\[-1\\]で最後尾要素の値を取得できるようにする。\n\n生成されるコードを修正した例を示す。",
      "metadata": {}
    },
    {
      "cell_type": "code",
      "execution_count": null,
      "metadata": {},
      "outputs": [],
      "source": [
        "%%writefile List.py\n",
        "class Node:\n",
        "  def __init__(self, value=None):\n",
        "    self.value = value\n",
        "    self.prev = None\n",
        "    self.next = None\n",
        "\n",
        "class List:\n",
        "  def __init__(self):\n",
        "    self.nil = Node()\n",
        "    self.nil.next = self.nil\n",
        "    self.nil.prev = self.nil\n",
        "\n",
        "  def append(self, value):\n",
        "    node = Node(value)\n",
        "    last = self.nil.prev\n",
        "    last.next = node\n",
        "    node.prev = last\n",
        "    node.next = self.nil\n",
        "    self.nil.prev = node\n",
        "\n",
        "  def appendleft(self, value):\n",
        "    node = Node(value)\n",
        "    first = self.nil.next\n",
        "    self.nil.next = node\n",
        "    node.prev = self.nil\n",
        "    node.next = first\n",
        "    first.prev = node\n",
        "\n",
        "  def pop(self):\n",
        "    if self.nil.prev == self.nil:\n",
        "      raise IndexError(\"pop from empty list\")\n",
        "    node = self.nil.prev\n",
        "    prev = node.prev\n",
        "    prev.next = self.nil\n",
        "    self.nil.prev = prev\n",
        "    return node.value\n",
        "\n",
        "  def popleft(self):\n",
        "    if self.nil.next == self.nil:\n",
        "      raise IndexError(\"pop from empty list\")\n",
        "    node = self.nil.next\n",
        "    next = node.next\n",
        "    self.nil.next = next\n",
        "    next.prev = self.nil\n",
        "    return node.value\n",
        "\n",
        "  def remove(self, value):\n",
        "    current = self.nil.next\n",
        "    while current != self.nil:\n",
        "      if current.value == value:\n",
        "        current.prev.next = current.next\n",
        "        current.next.prev = current.prev\n",
        "        return\n",
        "      current = current.next\n",
        "    raise ValueError(f\"{value} is not in list\")\n",
        "\n",
        "  def __iter__(self):\n",
        "    current = self.nil.next\n",
        "    while current != self.nil:\n",
        "      yield current.value\n",
        "      current = current.next\n",
        "\n",
        "  def __getitem__(self, index):\n",
        "    if index >= 0:\n",
        "      current = self.nil.next\n",
        "      for _ in range(index):\n",
        "        if current == self.nil:\n",
        "          raise IndexError(\"list index out of range\")\n",
        "        current = current.next\n",
        "    else:\n",
        "      current = self.nil.prev\n",
        "      for _ in range(-index - 1):\n",
        "        if current == self.nil:\n",
        "          raise IndexError(\"list index out of range\")\n",
        "        current = current.prev\n",
        "    if current == self.nil:\n",
        "      raise IndexError(\"list index out of range\")\n",
        "    return current.value"
      ]
    },
    {
      "cell_type": "markdown",
      "source": "## まとめ",
      "metadata": {}
    },
    {
      "cell_type": "markdown",
      "source": "\nライブラリを使う場合\n\n-   スタック，キュー，連結リストは全てライブラリの`collection.deque`で実現できる。\n\nライブラリを使わない場合\n\n次を実装した。\n\n-   スタックのためのクラス`Stack`\n-   キューのためのクラス`Queue`\n-   連結リストのためのクラス`List`\n\n♠連結リストがあれば，スタックとキューは実現できる。次の2問を，`List`を使ってやり直してみるとよいだろう。`List`の定義を追加して，`deque()`を`List()`に代えるだけで動くはずである。\n\n-   [A51](https://atcoder.jp/contests/tessoku-book/tasks/tessoku_book_ay) (Stack)\n-   [A52](https://atcoder.jp/contests/tessoku-book/tasks/tessoku_book_az) (Queue)",
      "metadata": {}
    },
    {
      "cell_type": "markdown",
      "source": "## 宿題",
      "metadata": {}
    },
    {
      "cell_type": "markdown",
      "source": "\n以下の問題をAC（Accepted）にする。Pythonを使うこと。\n\n-   [A51](https://atcoder.jp/contests/tessoku-book/tasks/tessoku_book_ay) (Stack)\n-   ♠[ALDS1_3_A](https://onlinejudge.u-aizu.ac.jp/courses/lesson/1/ALDS1/3/ALDS1_3_A) (Stack)\n-   [A52](https://atcoder.jp/contests/tessoku-book/tasks/tessoku_book_az) (Queue)\n-   ♠[ALDS1_3_B](https://onlinejudge.u-aizu.ac.jp/courses/lesson/1/ALDS1/3/ALDS1_3_B) (Queue)\n-   [ALDS1_3_C](https://onlinejudge.u-aizu.ac.jp/courses/lesson/1/ALDS1/3/ALDS1_3_C) (Doubly Linked List)\n-   ♠[ALDS1_3_D](https://onlinejudge.u-aizu.ac.jp/courses/lesson/1/ALDS1/3/ALDS1_3_D) (Areas on the Cross-Section Diagram)\n\n以上",
      "metadata": {}
    }
  ],
  "nbformat": 4,
  "nbformat_minor": 5,
  "metadata": {}
}
