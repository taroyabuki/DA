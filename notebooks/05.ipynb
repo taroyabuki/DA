{
  "cells": [
    {
      "cell_type": "markdown",
      "source": "# 5 探索",
      "metadata": {}
    },
    {
      "cell_type": "markdown",
      "source": "",
      "metadata": {}
    },
    {
      "cell_type": "markdown",
      "source": "## 5.1 探索：問題にチャレンジする前に",
      "metadata": {}
    },
    {
      "cell_type": "markdown",
      "source": "\n`[8, 13, 5, 7, 21, 11]`の中で7は何番目に現れるか？",
      "metadata": {}
    },
    {
      "cell_type": "code",
      "execution_count": null,
      "metadata": {},
      "outputs": [],
      "source": [
        "A = [8, 13, 5, 7, 21, 11]\n",
        "print(A.index(7))"
      ]
    },
    {
      "cell_type": "markdown",
      "source": "3は？",
      "metadata": {}
    },
    {
      "cell_type": "code",
      "execution_count": null,
      "metadata": {},
      "outputs": [],
      "source": [
        "print(A.index(3))"
      ]
    },
    {
      "cell_type": "markdown",
      "source": "このように，探索は簡単に実現できる。ではなぜ探索について学ぶのか。（再）\n\n> プログラミングのほぼ**すべて**の重要な側面がソートや探索の文脈中のどこかに現れているはずだ。（TAOCP Vol. 3「序」）\n\n概要\n\n| 手法     | 探索の計算量 | ライブラリを使う場合    | ライブラリを使わない場合               |\n|------------------|------------------|------------------|------------------|\n| 線形探索 | $O(n)$       | `key in A`              | 関数`lenearSearch(A, key)`を実装する。 |\n| 二分探索 | $O(\\log n)$  | `bisect_left(A, key)`   | 関数`binarySearch(A, key)`を実装する。 |\n| ハッシュ | $O(1)$       | `key in A`（`A`は集合） | クラス`Table`を実装する。              |\n\n目標：次のプロンプトで何を調べようとしているかがわかるようになる。\n\n> n=1000000, m=1000とする。0以上10^8未満の整数をランダムに重複なくn個生成してリストA，ランダムに重複なくm個生成してリストBとする。AとBの共通部分を次の五つの方法で数えて，実行時間を比較する。<br>\n> 1：Aについてのfor文と線形探索（in）を使う。<br>\n> 2：Bについてのfor文と線形探索（in）を使う。<br>\n> 3：Aをソートしてから，Bについてのfor文と二分探索（bisect_left）を使う。<br>\n> 4：Bをソートしてから，Aについてのfor文と二分探索（bisect_left）を使う。<br>\n> 5：AとBを集合に変換して共通部分の要素数を数える。\n\n生成されるコードの例を示す。",
      "metadata": {}
    },
    {
      "cell_type": "code",
      "execution_count": null,
      "metadata": {},
      "outputs": [],
      "source": [
        "import random\n",
        "import time\n",
        "from bisect import bisect_left\n",
        "\n",
        "# パラメータ\n",
        "n = 10**6\n",
        "m = 10**3\n",
        "MAX_VALUE = 10**8\n",
        "\n",
        "# 重複なしのリスト生成\n",
        "A = random.sample(range(MAX_VALUE), n)\n",
        "B = random.sample(range(MAX_VALUE), m)\n",
        "\n",
        "print(f\"データ準備完了: A={n}件, B={m}件, 範囲=[0,{MAX_VALUE})\")\n",
        "\n",
        "# 方法1: Aをforで回して、Bに対してin探索（線形）\n",
        "start = time.time()\n",
        "count1 = 0\n",
        "for a in A:\n",
        "    if a in B:\n",
        "        count1 += 1\n",
        "end = time.time()\n",
        "print(f\"方法1: A→B 線形探索: 共通要素数 = {count1}, 時間 = {end - start:.4f}秒\")\n",
        "\n",
        "# 方法2: Bをforで回して、Aに対してin探索（線形）\n",
        "start = time.time()\n",
        "count2 = 0\n",
        "for b in B:\n",
        "    if b in A:\n",
        "        count2 += 1\n",
        "end = time.time()\n",
        "print(f\"方法2: B→A 線形探索: 共通要素数 = {count2}, 時間 = {end - start:.4f}秒\")\n",
        "\n",
        "# 方法3: Aをソート → Bに対して二分探索\n",
        "A_sorted = sorted(A)\n",
        "start = time.time()\n",
        "count3 = 0\n",
        "for b in B:\n",
        "    i = bisect_left(A_sorted, b)\n",
        "    if i < len(A_sorted) and A_sorted[i] == b:\n",
        "        count3 += 1\n",
        "end = time.time()\n",
        "print(f\"方法3: Aソート＋B二分探索: 共通要素数 = {count3}, 時間 = {end - start:.4f}秒\")\n",
        "\n",
        "# 方法4: Bをソート → Aに対して二分探索\n",
        "B_sorted = sorted(B)\n",
        "start = time.time()\n",
        "count4 = 0\n",
        "for a in A:\n",
        "    i = bisect_left(B_sorted, a)\n",
        "    if i < len(B_sorted) and B_sorted[i] == a:\n",
        "        count4 += 1\n",
        "end = time.time()\n",
        "print(f\"方法4: Bソート＋A二分探索: 共通要素数 = {count4}, 時間 = {end - start:.4f}秒\")\n",
        "\n",
        "# 方法5: 集合で共通部分を数える\n",
        "start = time.time()\n",
        "count5 = len(set(A) & set(B))\n",
        "end = time.time()\n",
        "print(f\"方法5: setで共通部分: 共通要素数 = {count5}, 時間 = {end - start:.4f}秒\")"
      ]
    },
    {
      "cell_type": "markdown",
      "source": "## 5.2 線形探索",
      "metadata": {}
    },
    {
      "cell_type": "markdown",
      "source": "",
      "metadata": {}
    },
    {
      "cell_type": "markdown",
      "source": "### 問題1",
      "metadata": {}
    },
    {
      "cell_type": "markdown",
      "source": "\n問題：[AD02](https://atcoder.jp/contests/tessoku-book/tasks/tessoku_book_b) (Linear Search)",
      "metadata": {}
    },
    {
      "cell_type": "code",
      "execution_count": null,
      "metadata": {},
      "outputs": [],
      "source": [
        "%%writefile input.dat\n",
        "5 40\n",
        "10 20 30 40 50"
      ]
    },
    {
      "cell_type": "markdown",
      "source": "#### ライブラリを使う場合",
      "metadata": {}
    },
    {
      "cell_type": "markdown",
      "source": "\n`in`を使う。",
      "metadata": {}
    },
    {
      "cell_type": "code",
      "execution_count": null,
      "metadata": {},
      "outputs": [],
      "source": [
        "N, X = map(int, input().split())\n",
        "A = list(map(int, input().split()))\n",
        "\n",
        "# あとは自分で書く"
      ]
    },
    {
      "cell_type": "code",
      "execution_count": null,
      "metadata": {},
      "outputs": [],
      "source": [
        "!python3 test.py < input.dat"
      ]
    },
    {
      "cell_type": "markdown",
      "source": "問題なさそうなら提出する。\n\n♠入力を整数にする必要はあるだろうか。",
      "metadata": {}
    },
    {
      "cell_type": "markdown",
      "source": "#### ライブラリを使わない場合",
      "metadata": {}
    },
    {
      "cell_type": "markdown",
      "source": "\n線形探索を行う関数`linearSearch(A, key)`を実装する（探索には`in`を使わない）。",
      "metadata": {}
    },
    {
      "cell_type": "code",
      "execution_count": null,
      "metadata": {},
      "outputs": [],
      "source": [
        "N, X = map(int, input().split())\n",
        "A = list(map(int, input().split()))\n",
        "\n",
        "def linearSearch(A, key):\n",
        "  # あとは自分で書く"
      ]
    },
    {
      "cell_type": "code",
      "execution_count": null,
      "metadata": {},
      "outputs": [],
      "source": [
        "!python3 test.py < input.dat"
      ]
    },
    {
      "cell_type": "markdown",
      "source": "問題なさそうなら提出する。\n\n♠線形探索は O(n)のアルゴリズムですが、番兵を使った実装は定数倍の高速化が見込まれ、大きなデータに対して効果が期待できます。 （教科書p.121）",
      "metadata": {}
    },
    {
      "cell_type": "markdown",
      "source": "### 問題2",
      "metadata": {}
    },
    {
      "cell_type": "markdown",
      "source": "\n問題：[ALDS1_4_A](https://onlinejudge.u-aizu.ac.jp/courses/lesson/1/ALDS1/4/ALDS1_4_A) (Linear Search)",
      "metadata": {}
    },
    {
      "cell_type": "code",
      "execution_count": null,
      "metadata": {},
      "outputs": [],
      "source": [
        "%%writefile input.dat\n",
        "5\n",
        "1 2 3 4 5\n",
        "3\n",
        "3 4 1"
      ]
    },
    {
      "cell_type": "markdown",
      "source": "#### ライブラリを使う場合",
      "metadata": {}
    },
    {
      "cell_type": "markdown",
      "source": "\n**集合**の**共通部分**を求める。",
      "metadata": {}
    },
    {
      "cell_type": "code",
      "execution_count": null,
      "metadata": {},
      "outputs": [],
      "source": [
        "%%writefile test.py\n",
        "n = int(input())\n",
        "S = set(map(int, input().split()))\n",
        "q = int(input())\n",
        "T = set(map(int, input().split()))\n",
        "\n",
        "print(len(S.intersection(T)))"
      ]
    },
    {
      "cell_type": "code",
      "execution_count": null,
      "metadata": {},
      "outputs": [],
      "source": [
        "!python3 test.py < input.dat"
      ]
    },
    {
      "cell_type": "markdown",
      "source": "#### ライブラリを使わない場合",
      "metadata": {}
    },
    {
      "cell_type": "markdown",
      "source": "\n関数`linearSearch(A, key)`を再利用する。",
      "metadata": {}
    },
    {
      "cell_type": "markdown",
      "source": "## 5.3 二分探索",
      "metadata": {}
    },
    {
      "cell_type": "markdown",
      "source": "",
      "metadata": {}
    },
    {
      "cell_type": "markdown",
      "source": "### 問題1",
      "metadata": {}
    },
    {
      "cell_type": "markdown",
      "source": "\n問題：[A11](https://atcoder.jp/contests/tessoku-book/tasks/tessoku_book_k) (Binary Search 1)",
      "metadata": {}
    },
    {
      "cell_type": "code",
      "execution_count": null,
      "metadata": {},
      "outputs": [],
      "source": [
        "%%writefile input.dat\n",
        "15 47\n",
        "11 13 17 19 23 29 31 37 41 43 47 53 59 61 67"
      ]
    },
    {
      "cell_type": "markdown",
      "source": "#### ライブラリを使う場合",
      "metadata": {}
    },
    {
      "cell_type": "markdown",
      "source": "\n線形探索でもオンラインジャッジはACになるが，二分探索で解く。\n\n`bisect`モジュールを使う。指定した値が挿入される位置を返す`bisect_left`を使う。使い方：",
      "metadata": {}
    },
    {
      "cell_type": "code",
      "execution_count": null,
      "metadata": {},
      "outputs": [],
      "source": [
        "from bisect import bisect_left\n",
        "\n",
        "X = 5\n",
        "A = [2, 3, 5, 7]\n",
        "p = bisect_left(A, X)\n",
        "print(p)\n",
        "if p < len(A) and A[p] == X: print(\"Yes\")\n",
        "\n",
        "print(bisect_left(A, 1))\n",
        "print(bisect_left(A, 4))\n",
        "print(bisect_left(A, 8))"
      ]
    },
    {
      "cell_type": "code",
      "execution_count": null,
      "metadata": {},
      "outputs": [],
      "source": [
        "%%writefile test.py\n",
        "N, X = map(int, input().split())\n",
        "A = list(map(int, input().split()))\n",
        "\n",
        "# あとは自分で書く"
      ]
    },
    {
      "cell_type": "code",
      "execution_count": null,
      "metadata": {},
      "outputs": [],
      "source": [
        "!python3 test.py < input.dat"
      ]
    },
    {
      "cell_type": "markdown",
      "source": "問題なさそうなら提出する。",
      "metadata": {}
    },
    {
      "cell_type": "markdown",
      "source": "#### ライブラリを使わない場合",
      "metadata": {}
    },
    {
      "cell_type": "markdown",
      "source": "\n線形探索を行う関数`binarySearch(A, key)`を実装する。\n\n> **`left`は探索範囲の先頭の要素を指し，`right`は末尾の次の要素を指します。**（教科書p.123）",
      "metadata": {}
    },
    {
      "cell_type": "code",
      "execution_count": null,
      "metadata": {},
      "outputs": [],
      "source": [
        "%%writefile test.py\n",
        "N, X = map(int, input().split())\n",
        "A = list(map(int, input().split()))\n",
        "\n",
        "def binarySearch(A, key):\n",
        "  # あとは自分で書く"
      ]
    },
    {
      "cell_type": "code",
      "execution_count": null,
      "metadata": {},
      "outputs": [],
      "source": [
        "!python3 test.py < input.dat"
      ]
    },
    {
      "cell_type": "markdown",
      "source": "問題なさそうなら提出する。",
      "metadata": {}
    },
    {
      "cell_type": "markdown",
      "source": "### 問題2",
      "metadata": {}
    },
    {
      "cell_type": "markdown",
      "source": "\n二分探索は線形探索に比べて圧倒的に速いが，対象はソート済みでなければならない。\n\n対象がソート済みでない場合，①そのまま線形探索を行うか，②ソートしてから二分探索を行うかを選ぶ。線形探索の計算量が $O(n)$ であるのに対して，ソート＋二分探索の計算量は $O(n\\log n)+O(\\log n)=O(n\\log n)$ だから，1回探索して終わりなら，ソートは時間の無駄である。何回も探索することがわかっているなら，最初にソートするとよいだろう。\n\n問題：[B11](https://atcoder.jp/contests/tessoku-book/tasks/tessoku_book_cj) (Binary Search 2)",
      "metadata": {}
    },
    {
      "cell_type": "code",
      "execution_count": null,
      "metadata": {},
      "outputs": [],
      "source": [
        "%%writefile input.dat\n",
        "15\n",
        "83 31 11 17 32 19 23 37 43 47 53 61 67 5 55\n",
        "5\n",
        "10\n",
        "20\n",
        "30\n",
        "40\n",
        "50"
      ]
    },
    {
      "cell_type": "markdown",
      "source": "次のような線形探索ではTLE（time limit exceeded）になる。",
      "metadata": {}
    },
    {
      "cell_type": "code",
      "execution_count": null,
      "metadata": {},
      "outputs": [],
      "source": [
        "%%writefile input.dat\n",
        "n = int(input())\n",
        "A = list(map(int, input().split()))\n",
        "Q = int(input())\n",
        "\n",
        "for _ in range(Q):\n",
        "  X = int(input())\n",
        "  c = 0\n",
        "  for a in A:\n",
        "    if a <= X: c += 1\n",
        "  print(c)"
      ]
    },
    {
      "cell_type": "code",
      "execution_count": null,
      "metadata": {},
      "outputs": [],
      "source": [
        "!python3 test.py < input.dat"
      ]
    },
    {
      "cell_type": "markdown",
      "source": "提出してみる。",
      "metadata": {}
    },
    {
      "cell_type": "markdown",
      "source": "#### ライブラリを使う場合",
      "metadata": {}
    },
    {
      "cell_type": "markdown",
      "source": "\n`bisect_left`を使う。",
      "metadata": {}
    },
    {
      "cell_type": "code",
      "execution_count": null,
      "metadata": {},
      "outputs": [],
      "source": [
        "%%writefile test.py\n",
        "n = int(input())\n",
        "A = sorted(map(int, input().split()))\n",
        "Q = int(input())\n",
        "\n",
        "from bisect import bisect_left\n",
        "\n",
        "#あとは自分で書く"
      ]
    },
    {
      "cell_type": "code",
      "execution_count": null,
      "metadata": {},
      "outputs": [],
      "source": [
        "!python3 test.py < input.dat"
      ]
    },
    {
      "cell_type": "markdown",
      "source": "問題なさそうなら提出する。",
      "metadata": {}
    },
    {
      "cell_type": "markdown",
      "source": "#### ライブラリを使わない場合",
      "metadata": {}
    },
    {
      "cell_type": "markdown",
      "source": "\n関数`binarySearch(A, key)`を再利用する。",
      "metadata": {}
    },
    {
      "cell_type": "code",
      "execution_count": null,
      "metadata": {},
      "outputs": [],
      "source": [
        "%%writefile test.py\n",
        "n = int(input())\n",
        "A = sorted(map(int, input().split()))\n",
        "Q = int(input())\n",
        "\n",
        "def binarySearch(A, key):\n",
        "  # 再利用"
      ]
    },
    {
      "cell_type": "code",
      "execution_count": null,
      "metadata": {},
      "outputs": [],
      "source": [
        "!python3 test.py < input.dat"
      ]
    },
    {
      "cell_type": "markdown",
      "source": "問題なさそうなら提出する。",
      "metadata": {}
    },
    {
      "cell_type": "markdown",
      "source": "### 問題3",
      "metadata": {}
    },
    {
      "cell_type": "markdown",
      "source": "\n問題：[ALDS1_4_B](https://onlinejudge.u-aizu.ac.jp/courses/lesson/1/ALDS1/4/ALDS1_4_B) (Binary Search)\n\n入出力の形式は[ALDS1_4_A](https://onlinejudge.u-aizu.ac.jp/courses/lesson/1/ALDS1/4/ALDS1_4_A)と同じだが，同じコードを提出するとTLEになる（**試してみる**）。",
      "metadata": {}
    },
    {
      "cell_type": "code",
      "execution_count": null,
      "metadata": {},
      "outputs": [],
      "source": [
        "%%writefile input.dat\n",
        "5\n",
        "1 2 3 4 5\n",
        "3\n",
        "3 4 1"
      ]
    },
    {
      "cell_type": "markdown",
      "source": "#### ライブラリを使う場合",
      "metadata": {}
    },
    {
      "cell_type": "markdown",
      "source": "\n`bisect_left`を使う。",
      "metadata": {}
    },
    {
      "cell_type": "code",
      "execution_count": null,
      "metadata": {},
      "outputs": [],
      "source": [
        "%%writefile test.py\n",
        "n = int(input())\n",
        "S = list(map(int, input().split()))\n",
        "q = int(input())\n",
        "T = list(map(int, input().split()))\n",
        "\n",
        "from bisect import bisect_left\n",
        "\n",
        "#あとは自分で書く"
      ]
    },
    {
      "cell_type": "code",
      "execution_count": null,
      "metadata": {},
      "outputs": [],
      "source": [
        "!python3 test.py < input.dat"
      ]
    },
    {
      "cell_type": "markdown",
      "source": "問題なさそうなら提出する。",
      "metadata": {}
    },
    {
      "cell_type": "markdown",
      "source": "#### ライブラリを使わない場合",
      "metadata": {}
    },
    {
      "cell_type": "markdown",
      "source": "\n関数`binarySearch(A, key)`を再利用する。",
      "metadata": {}
    },
    {
      "cell_type": "code",
      "execution_count": null,
      "metadata": {},
      "outputs": [],
      "source": [
        "%%writefile test.py\n",
        "N, X = map(int, input().split())\n",
        "A = list(map(int, input().split()))\n",
        "\n",
        "def binarySearch(A, key):\n",
        "  # 再利用"
      ]
    },
    {
      "cell_type": "code",
      "execution_count": null,
      "metadata": {},
      "outputs": [],
      "source": [
        "!python3 test.py < input.dat"
      ]
    },
    {
      "cell_type": "markdown",
      "source": "問題なさそうなら提出する。",
      "metadata": {}
    },
    {
      "cell_type": "markdown",
      "source": "### ♠二分探索の有名なバグ",
      "metadata": {}
    },
    {
      "cell_type": "markdown",
      "source": "\nアルベルト・サボイア「ビューティフル・テスト」（Andy Oram, Greg Wilson編『ビューティフルコード』（オライリー・ジャパン, 2008）の第7章）より：\n\n> 2分探索木は，非常に単純でありながら，実装を間違いやすいので，格好の例題です。ベントリーは『珠玉のプログラミング』の中で，何年も掛けて何百人ものプログラマに，基本的なアルゴリズムの説明を与えて2分探索木を実装してもらった様子を報告しています。ベントリーはそのプログラムを書くのに気前良く2時間も与えた上，好きな高水準言語（擬似コードも含みます）を選んでよいとさえしています。その結果ですが，驚いたことに，プログラムのたったの1割程度しか，2分探索を正しく実装できなかったのです。\n>\n> さらに驚くべきことがあります。ドナルド・クヌース（Donald Knuth）は『Sorting and Searching』（Donald Knuth, The Art of Computer Programming, Vol.3: Sorting and Searching, Second Edition, Addison-Wesley, 1988）において，2分探索木のアイデアは1946年に最初に公表されたにも関わらず，バグのない2分探索木のコードがはじめて公表されたのは12年以上も経ってからであると指摘しています。\n>\n> しかし，最も驚くべきことは，何千回も実装され作り変えられてきた（と思わざるを得ない），ベントリーの公式の証明済みアルゴリズムでさえ，配列が十分大きくアルゴリズムが固定小数点演算を使用した言語で実装されているときに出現する問題がある，と判ったことです。\n> Javaでは，バグは例外ArrayIndexOutOfBoundsExceptionが投げられるという形で現れます。しかしCでは，添字が配列の範囲をはみ出しても実行が続き，予期できない結果をもたらします。この最後のバグについては，ジョシュア・ブロック（Josyua Bloch）のブログ（[http://googleresearch.blogspot.com/2006/06/extra-extra-read-all-about-it-nearly.html](https://research.google/blog/extra-extra-read-all-about-it-nearly-all-binary-searches-and-mergesorts-are-broken/)）を見てください。\n>\n> 有名なバグのあるJava版の実装を示します。\n> （後略）\n\n参考：https://bugs.java.com/bugdatabase/view_bug?bug_id=5045582",
      "metadata": {}
    },
    {
      "cell_type": "code",
      "execution_count": null,
      "metadata": {},
      "outputs": [],
      "source": [
        "%%writefile BinarySearch.java\n",
        "public class BinarySearch {\n",
        "  public static int binarySearch(int[] a, int key) {\n",
        "    int low = 0;\n",
        "    int high = a.length - 1;\n",
        "\n",
        "    while (low <= high) {\n",
        "      int mid = (low + high) / 2;\n",
        "      // int mid = low + ((high - low) / 2);\n",
        "      int midVal = a[mid];\n",
        "\n",
        "      if (midVal < key)\n",
        "        low = mid + 1;\n",
        "      else if (midVal > key)\n",
        "        high = mid - 1;\n",
        "      else\n",
        "        return mid; // key found\n",
        "    }\n",
        "    return -(low + 1);  // key not found.\n",
        "  }\n",
        "\n",
        "  public static void main(String[] args) {\n",
        "    int N = Integer.MAX_VALUE - 2;\n",
        "    //N = 100;\n",
        "    int[] array = new int[N];\n",
        "    for (int i = 0; i < N; i++) {\n",
        "      array[i] = i;\n",
        "    }\n",
        "\n",
        "    int key = N;\n",
        "    int result = binarySearch(array, key);\n",
        "\n",
        "    if (result >= 0)\n",
        "      System.out.println(\"Element found at index \" + result);\n",
        "    else\n",
        "      System.out.println(\"Element not found\");\n",
        "  }\n",
        "}"
      ]
    },
    {
      "cell_type": "markdown",
      "source": "利用可能メモリを10Gにして実行する。",
      "metadata": {}
    },
    {
      "cell_type": "code",
      "execution_count": null,
      "metadata": {},
      "outputs": [],
      "source": [
        "!javac BinarySearch.java\n",
        "!java -Xmx10g BinarySearch"
      ]
    },
    {
      "cell_type": "markdown",
      "source": "## 5.4 ハッシュ",
      "metadata": {}
    },
    {
      "cell_type": "markdown",
      "source": "\nアルゴリズム図鑑（チェイン法）\n\n問題：[ALDS1_4_C](https://onlinejudge.u-aizu.ac.jp/courses/lesson/1/ALDS1/4/ALDS1_4_C) (Dictionary)",
      "metadata": {}
    },
    {
      "cell_type": "code",
      "execution_count": null,
      "metadata": {},
      "outputs": [],
      "source": [
        "%%writefile input.dat\n",
        "6\n",
        "insert AAA\n",
        "insert AAC\n",
        "find AAA\n",
        "find CCC\n",
        "insert CCC\n",
        "find CCC"
      ]
    },
    {
      "cell_type": "markdown",
      "source": "線形探索を試す。",
      "metadata": {}
    },
    {
      "cell_type": "code",
      "execution_count": null,
      "metadata": {},
      "outputs": [],
      "source": [
        "%%writefile test.py\n",
        "n = int(input())\n",
        "\n",
        "A = []\n",
        "for _ in range(n):\n",
        "  com, s = input().split()\n",
        "  if com[0] == \"i\": A.append(s)\n",
        "  else:\n",
        "    if s in A: print(\"yes\")\n",
        "    else: print(\"no\")"
      ]
    },
    {
      "cell_type": "code",
      "execution_count": null,
      "metadata": {},
      "outputs": [],
      "source": [
        "!python3 test.py < input.dat"
      ]
    },
    {
      "cell_type": "markdown",
      "source": "提出してみる。TLEになるはず。",
      "metadata": {}
    },
    {
      "cell_type": "markdown",
      "source": "### ライブラリを使う場合",
      "metadata": {}
    },
    {
      "cell_type": "markdown",
      "source": "\nデータを集合で管理する。集合への追加はメソッド`add`，検索は演算子`in`を使う。",
      "metadata": {}
    },
    {
      "cell_type": "code",
      "execution_count": null,
      "metadata": {},
      "outputs": [],
      "source": [
        "%%writefile test.py\n",
        "A = set()\n",
        "\n",
        "n = int(input())\n",
        "\n",
        "for _ in range(n):\n",
        "  com, s = input().split()\n",
        "  if com[0] == \"i\": A.add(s)\n",
        "  else:\n",
        "    if s in A: print(\"yes\")\n",
        "    else: print(\"no\")"
      ]
    },
    {
      "cell_type": "code",
      "execution_count": null,
      "metadata": {},
      "outputs": [],
      "source": [
        "!python3 test.py < input.dat"
      ]
    },
    {
      "cell_type": "markdown",
      "source": "問題がなければ提出する。",
      "metadata": {}
    },
    {
      "cell_type": "markdown",
      "source": "### ライブラリを使わない場合",
      "metadata": {}
    },
    {
      "cell_type": "markdown",
      "source": "\n文字列を数値に変換する方法を用意する。例として，文字列`\"ACGT\"`→文字列`\"1234\"`→整数1234なら，次のようになる。",
      "metadata": {}
    },
    {
      "cell_type": "code",
      "execution_count": null,
      "metadata": {},
      "outputs": [],
      "source": [
        "mapping = {'A': '1', 'C': '2', 'G': '3', 'T': '4'}\n",
        "\n",
        "key = \"ATCG\"\n",
        "int(''.join(mapping[c] for c in key))"
      ]
    },
    {
      "cell_type": "markdown",
      "source": "10000個の領域で管理するなら（♠素数がよいが，ここでは話を簡単にするために10000とする）",
      "metadata": {}
    },
    {
      "cell_type": "code",
      "execution_count": null,
      "metadata": {},
      "outputs": [],
      "source": [
        "n = 10000\n",
        "key = \"ATCG\"\n",
        "int(''.join(mapping[c] for c in key)) % n"
      ]
    },
    {
      "cell_type": "markdown",
      "source": "異なる文字列が同じ数値に変換される，**衝突**の問題がある。",
      "metadata": {}
    },
    {
      "cell_type": "code",
      "execution_count": null,
      "metadata": {},
      "outputs": [],
      "source": [
        "key = \"GATCG\"\n",
        "int(''.join(mapping[c] for c in key)) % n"
      ]
    },
    {
      "cell_type": "markdown",
      "source": "衝突に対応する方法：\n\n-   **チェイン法**：衝突したデータを連結リストで管理する。\n-   **オープンアドレス法**：衝突したデータを別の場所に保存する。\n    -   線形探索法：衝突したデータを次の空いている場所に保存する。\n    -   二次探索法：衝突したデータを次の空いている場所に保存する。探索の間隔を2, 4, 6, …と増やしていく。\n    -   ダブルハッシュ法：衝突したデータを次の空いている場所に保存する。探索の間隔を別のハッシュ関数で決める。（教科書の方法）\n\n教科書のダブルハッシュ法ではなく，実装が単純なチェイン法を試す。\n\nライブラリを使う場合のコードの変更が最小限になるようにする。\n\n> ACGTの4文字からなる文字列の集合をハッシュで管理するPythonのクラスTableを作る。チェイン法を使う。扱うデータは最大1000000件。集合への入力はメソッドadd，集合の検索は演算子inで行う。他のメソッドは不要。\n\n生成されるコードを修正した例を示す。",
      "metadata": {}
    },
    {
      "cell_type": "code",
      "execution_count": null,
      "metadata": {},
      "outputs": [],
      "source": [
        "%%writefile Table.py\n",
        "class Table:\n",
        "  def __init__(self, size=1048576):\n",
        "    self.size = size\n",
        "    self.table = [[] for _ in range(self.size)]\n",
        "\n",
        "  def _hash(self, key):\n",
        "    mapping = {'A': '1', 'C': '2', 'G': '3', 'T': '4'}\n",
        "    return int(''.join(mapping[c] for c in key)) % self.size\n",
        "\n",
        "  def add(self, key):\n",
        "    h = self._hash(key)\n",
        "    if key not in self.table[h]:\n",
        "      self.table[h].append(key)\n",
        "\n",
        "  def __contains__(self, key):\n",
        "    h = self._hash(key)\n",
        "    return key in self.table[h]"
      ]
    },
    {
      "cell_type": "markdown",
      "source": "`Table`の定義を追加して，`A = set()`を`A = Table()`に変えれば動くはず。",
      "metadata": {}
    },
    {
      "cell_type": "code",
      "execution_count": null,
      "metadata": {},
      "outputs": [],
      "source": [
        "%%writefile test.py\n",
        "# Tableの定義\n",
        "\n",
        "A = Table()\n",
        "\n",
        "n = int(input())\n",
        "\n",
        "for _ in range(n):\n",
        "  com, s = input().split()\n",
        "  if com[0] == \"i\": A.add(s)\n",
        "  else:\n",
        "    if s in A: print(\"yes\")\n",
        "    else: print(\"no\")"
      ]
    },
    {
      "cell_type": "code",
      "execution_count": null,
      "metadata": {},
      "outputs": [],
      "source": [
        "!python3 test.py < input.dat"
      ]
    },
    {
      "cell_type": "markdown",
      "source": "問題がなければ提出する。\n\n♠オープンアドレス法（線形探索法，二次探索法，ダブルハッシュ法）を試す。ダブルハッシュ法ならACになるだろう。",
      "metadata": {}
    },
    {
      "cell_type": "markdown",
      "source": "## ♠グローバーのアルゴリズム",
      "metadata": {}
    },
    {
      "cell_type": "markdown",
      "source": "\n暗記：線形探索は $O(n)$，ソート済みの対象での二分探索は $O(\\log n)$ である。\n\n**グローバーのアルゴリズム**：ソート済みでないにもかかわらず，$O(\\sqrt n)$で探索できる**量子アルゴリズム**\n\n> 0以上15以下の整数から，一つの整数を，グローバーのアルゴリズムで探索する。次の例において，探索のステップごとに確率がどのように変化するかを棒グラフで表示するPythonのコード。例1：{2, 3, 5, 7, 11, 13}から11を探索する。例2：{2, 3, 5, 7, 11, 13}から10を探索する。データの種類は0から15の16個を想定して",
      "metadata": {}
    },
    {
      "cell_type": "markdown",
      "source": "## 宿題",
      "metadata": {}
    },
    {
      "cell_type": "markdown",
      "source": "\n-   [AD02](https://atcoder.jp/contests/tessoku-book/tasks/tessoku_book_b) (Linear Search)\n-   [ALDS1_4_A](https://onlinejudge.u-aizu.ac.jp/courses/lesson/1/ALDS1/4/ALDS1_4_A) (Linear Search)\n-   [A11](https://atcoder.jp/contests/tessoku-book/tasks/tessoku_book_k) (Binary Search 1)\n-   [B11](https://atcoder.jp/contests/tessoku-book/tasks/tessoku_book_cj) (Binary Search 2)\n-   [ALDS1_4_B](https://onlinejudge.u-aizu.ac.jp/courses/lesson/1/ALDS1/4/ALDS1_4_B) (Binary Search)\n-   [ALDS1_4_C](https://onlinejudge.u-aizu.ac.jp/courses/lesson/1/ALDS1/4/ALDS1_4_C) (Dictionary)\n-   ♠[ALDS1_4_D](https://onlinejudge.u-aizu.ac.jp/courses/lesson/1/ALDS1/4/ALDS1_4_D) (Allocation)",
      "metadata": {}
    }
  ],
  "nbformat": 4,
  "nbformat_minor": 5,
  "metadata": {}
}
