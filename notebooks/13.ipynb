{
  "cells": [
    {
      "cell_type": "markdown",
      "source": "# 重み付きグラフ",
      "metadata": {}
    },
    {
      "cell_type": "markdown",
      "source": "",
      "metadata": {}
    },
    {
      "cell_type": "markdown",
      "source": "## 重み付きグラフ：問題にチャレンジする前に",
      "metadata": {}
    },
    {
      "cell_type": "markdown",
      "source": "\nファイルからグラフを構築し描画する関数を作っておく。各関数は`sol='mst`とすると最小全域木，`sol='ssdp'`とすると単一始点最短経路木を描画する。\n\n対応するパターン\n\n| ファイル名  | 関数             | グラフ | パターン             | 問題                                                                                                                                                                     |\n|---------------|---------------|---------------|---------------|---------------|\n| input-e.dat | `draw_pattern_e` | 無向   | エッジ/行，重みあり  | [A67](https://atcoder.jp/contests/tessoku-book/tasks/tessoku_book_bo), [A64](https://atcoder.jp/contests/tessoku-book/tasks/tessoku_book_bl)                             |\n| input-f.dat | `draw_pattern_f` | 無向   | 隣接行列，重みあり   | [ALDS1_12_A](https://onlinejudge.u-aizu.ac.jp/courses/lesson/1/ALDS1/12/ALDS1_12_A)                                                                                      |\n| input-g.dat | `draw_pattern_g` | 有向   | 隣接リスト，重みあり | [ALDS1_12_B](https://onlinejudge.u-aizu.ac.jp/courses/lesson/1/ALDS1/12/ALDS1_12_B), [ALDS1_12_C](https://onlinejudge.u-aizu.ac.jp/courses/lesson/1/ALDS1/12/ALDS1_12_C) |",
      "metadata": {}
    },
    {
      "cell_type": "code",
      "execution_count": null,
      "metadata": {},
      "outputs": [],
      "source": [
        "import networkx as nx\n",
        "import matplotlib.pyplot as plt\n",
        "\n",
        "# 入力：エッジ/行\n",
        "def draw_pattern_a():\n",
        "  with open('input-a.dat', 'r') as f:\n",
        "    input = f.readline # 標準入力の場合と合わせるため\n",
        "    n, m = map(int, input().split())\n",
        "    G = nx.Graph()\n",
        "    G.add_nodes_from(range(1, 1 + n)) # エッジをもたないノードがあり得るため\n",
        "    for _ in range(m):\n",
        "      u, v = map(int, input().split())\n",
        "      G.add_edge(u, v)\n",
        "    draw(G)\n",
        "\n",
        "\n",
        "# 入力：隣接リスト\n",
        "def draw_pattern_b():\n",
        "  with open('input-b.dat', 'r') as f:\n",
        "    n = int(f.readline())\n",
        "    G = nx.DiGraph()\n",
        "    for _ in range(n):\n",
        "      u, k, *x = map(int, input().split())\n",
        "      for v in x: G.add_edge(u, v)\n",
        "    draw(G)\n",
        "\n",
        "\n",
        "# 実行中にエッジが追加される。\n",
        "def draw_pattern_c():\n",
        "  with open('input-c.dat', 'r') as f:\n",
        "    input = f.readline\n",
        "    n, q = map(int, input().split())\n",
        "    G = nx.Graph()\n",
        "    G.add_nodes_from(range(1, 1 + n))\n",
        "    for _ in range(q):\n",
        "      t, u, v = map(int, input().split())\n",
        "      if t == 1:\n",
        "        G.add_edge(u, v)\n",
        "        draw(G)\n",
        "\n",
        "\n",
        "# 入力：エッジ/行。その後，パスの存在確認\n",
        "def draw_pattern_d():\n",
        "  with open('input-d.dat', 'r') as f:\n",
        "    input = f.readline\n",
        "    n, m = map(int, input().split())\n",
        "    G = nx.Graph()\n",
        "    G.add_nodes_from(range(n))\n",
        "    for _ in range(m):\n",
        "      u, v = map(int, input().split())\n",
        "      G.add_edge(u, v)\n",
        "    draw(G)\n",
        "\n",
        "\n",
        "def draw(G, *, highlight_edges=None, edge_labels=False):\n",
        "  pos = nx.spring_layout(G, seed=42)\n",
        "  plt.figure(figsize=(6, 4))\n",
        "\n",
        "  nx.draw(G, pos, with_labels=True, node_color='greenyellow', width=1)\n",
        "\n",
        "  if highlight_edges:\n",
        "    nx.draw_networkx_edges(G, pos, edgelist=highlight_edges, width=3)\n",
        "\n",
        "  if edge_labels:\n",
        "    labels = {(u, v): d['weight'] for u, v, d in G.edges(data=True)}\n",
        "    nx.draw_networkx_edge_labels(G, pos, edge_labels=labels, label_pos=0.5)\n",
        "\n",
        "  plt.show()\n",
        "\n",
        "\n",
        "# 最小全域木\n",
        "def draw_mst(G):\n",
        "    edges = nx.minimum_spanning_tree(G, weight='weight').edges()\n",
        "    draw(G, highlight_edges=edges, edge_labels=True)\n",
        "\n",
        "\n",
        "# 単一始点最短経路\n",
        "def draw_ssdp(G, start=0):\n",
        "    paths = nx.single_source_dijkstra_path(G, start, weight='weight')\n",
        "    edges = set()\n",
        "    for path in paths.values():  edges.update(zip(path, path[1:]))\n",
        "    draw(G, highlight_edges=edges, edge_labels=True)\n",
        "\n",
        "\n",
        "# 入力：エッジの重み/行\n",
        "def draw_pattern_e(sol=None, start=0):\n",
        "  with open('input-e.dat', 'r') as f:\n",
        "    input = f.readline\n",
        "    n, m = map(int, input().split())\n",
        "    G = nx.Graph()\n",
        "    for _ in range(m):\n",
        "      u, v, w = map(int, input().split())\n",
        "      G.add_edge(u, v, weight=w)\n",
        "    if sol == 'mst': draw_mst(G)\n",
        "    elif sol == 'ssdp': draw_ssdp(G, start)\n",
        "    else: draw(G, edge_labels=True)\n",
        "\n",
        "\n",
        "# 入力：隣接行列（エッジ無しは-1）\n",
        "def draw_pattern_f(sol=None, start=0):\n",
        "  with open('input-f.dat', 'r') as f:\n",
        "    input = f.readline\n",
        "    n = int(input())\n",
        "    G = nx.Graph()\n",
        "    G.add_nodes_from(range(n))\n",
        "    for u in range(n):\n",
        "      for v, w in enumerate(map(int, input().split())):\n",
        "        if w != -1: G.add_edge(u, v, weight=w)\n",
        "    if sol == 'mst': draw_mst(G)\n",
        "    elif sol == 'ssdp': draw_ssdp(G, start)\n",
        "    else: draw(G, edge_labels=True)\n",
        "\n",
        "# 入力：隣接リスト（重みあり）\n",
        "def draw_pattern_g(sol=None, start=0):\n",
        "  with open('input-g.dat', 'r') as f:\n",
        "    input = f.readline\n",
        "    n = int(input())\n",
        "    G = nx.DiGraph()\n",
        "    G.add_nodes_from(range(n))\n",
        "    for _ in range(n):\n",
        "      u, k, *x = map(int, input().split())\n",
        "      for j in range(k):\n",
        "        G.add_edge(u, x[2 * j], weight=x[2 * j + 1])\n",
        "    if sol == 'mst': draw_mst(G)\n",
        "    elif sol == 'ssdp': draw_ssdp(G, start)\n",
        "    else: draw(G, edge_labels=True)"
      ]
    },
    {
      "cell_type": "markdown",
      "source": "## 最小全域木",
      "metadata": {}
    },
    {
      "cell_type": "markdown",
      "source": "",
      "metadata": {}
    },
    {
      "cell_type": "markdown",
      "source": "### ♥networkxを使う",
      "metadata": {}
    },
    {
      "cell_type": "markdown",
      "source": "\n♠♥問題：[A67 - MST (Minimum Spanning Tree)](https://atcoder.jp/contests/tessoku-book/tasks/tessoku_book_bo)",
      "metadata": {}
    },
    {
      "cell_type": "code",
      "execution_count": null,
      "metadata": {},
      "outputs": [],
      "source": [
        "%%writefile input-e.dat\n",
        "7 9\n",
        "1 2 12\n",
        "1 3 10\n",
        "2 6 160\n",
        "2 7 15\n",
        "3 4 1\n",
        "3 5 4\n",
        "4 5 3\n",
        "4 6 120\n",
        "6 7 14"
      ]
    },
    {
      "cell_type": "code",
      "execution_count": null,
      "metadata": {},
      "outputs": [],
      "source": [
        "draw_pattern_e()"
      ]
    },
    {
      "cell_type": "markdown",
      "source": "紙とペンで，このグラフのMSTを求めてみよう。\n\nMSTには複数の可能性があり得るが，重みの総和は同じになる。",
      "metadata": {}
    },
    {
      "cell_type": "code",
      "execution_count": null,
      "metadata": {},
      "outputs": [],
      "source": [
        "draw_pattern_e(sol='mst')"
      ]
    },
    {
      "cell_type": "markdown",
      "source": "networkxにはMSTを求める関数`nx.minimum_spanning_tree`がある。それを使えば，入力例には対応できる。（本番ではTLEになるかもしれない。）",
      "metadata": {}
    },
    {
      "cell_type": "code",
      "execution_count": null,
      "metadata": {},
      "outputs": [],
      "source": [
        "%%writefile test.py\n",
        "import networkx as nx\n",
        "\n",
        "n, m = map(int, input().split())\n",
        "G = nx.Graph()\n",
        "for _ in range(m):\n",
        "  u, v, w = map(int, input().split())\n",
        "  G.add_edge(u, v, weight=w)\n",
        "\n",
        "mst = nx.minimum_spanning_tree(G, weight=\"weight\")\n",
        "total_weight = mst.size(weight=\"weight\")\n",
        "print(int(total_weight))"
      ]
    },
    {
      "cell_type": "code",
      "execution_count": null,
      "metadata": {},
      "outputs": [],
      "source": [
        "!python test.py < input-e.dat"
      ]
    },
    {
      "cell_type": "markdown",
      "source": "### ♦networkxを使わない",
      "metadata": {}
    },
    {
      "cell_type": "markdown",
      "source": "\n♦問題：[ALDS1_12_A](https://onlinejudge.u-aizu.ac.jp/courses/lesson/1/ALDS1/12/ALDS1_12_A) (Minimum Spanning Tree I)\n\n教科書の図13.7を再現する。次の点に注意。\n\n-   1でノード0はGLEYにならない。\n-   一度GLEYになったノードはWHITEには戻らない。",
      "metadata": {}
    },
    {
      "cell_type": "code",
      "execution_count": null,
      "metadata": {},
      "outputs": [],
      "source": [
        "%%writefile input-f.dat\n",
        "7\n",
        " -1 10 3 -1 18 11 -1\n",
        " 10 -1 5 1 -1 -1 -1\n",
        " 3 5 -1 2 -1 7 5\n",
        " -1 1 2 -1 -1 -1 2\n",
        " 18 -1 -1 -1 -1 1 -1\n",
        " 11 -1 7 -1 1 -1 2\n",
        " -1 -1 5 2 -1 2 -1"
      ]
    },
    {
      "cell_type": "markdown",
      "source": "♠ここでは試さないが，networkxを使う場合，隣接行列`m`を作って，`G = nx.from_numpy_array(m)`としたいところだが，この問題では重み0のエッジがあるのに対して，`nx.from_numpy_array`は重み0をエッジとみなさないため，工夫が必要である。",
      "metadata": {}
    },
    {
      "cell_type": "code",
      "execution_count": null,
      "metadata": {},
      "outputs": [],
      "source": [
        "draw_pattern_f()"
      ]
    },
    {
      "cell_type": "markdown",
      "source": "紙とペンで，このグラフのMSTを求めてみよう。",
      "metadata": {}
    },
    {
      "cell_type": "code",
      "execution_count": null,
      "metadata": {},
      "outputs": [],
      "source": [
        "draw_pattern_f(sol='mst')"
      ]
    },
    {
      "cell_type": "markdown",
      "source": "プリムのアルゴリズムを実装する。",
      "metadata": {}
    },
    {
      "cell_type": "code",
      "execution_count": null,
      "metadata": {},
      "outputs": [],
      "source": [
        "%%writefile test.py\n",
        "def prim(M):\n",
        "  INFTY = (1<<22)\n",
        "  WHITE, GRAY, BLACK = 0, 1, 2\n",
        "  n = len(M)\n",
        "  d = [INFTY] * n\n",
        "  p = [None] * n\n",
        "  color = [WHITE] * n\n",
        "  \n",
        "  d[0] = 0\n",
        "  p[0] = -1\n",
        "  \n",
        "  while True:\n",
        "    mincost = INFTY\n",
        "    for i in range(n):\n",
        "      if color[i] != BLACK and d[i] < mincost:\n",
        "        mincost = d[i]\n",
        "        u = i\n",
        "      \n",
        "    if mincost == INFTY: break\n",
        "\n",
        "    color[u] = BLACK\n",
        "\n",
        "    for v in range(n):\n",
        "      if color[v] != BLACK and M[u][v] >= 0:\n",
        "        if M[u][v] < d[v]:\n",
        "          d[v] = M[u][v]\n",
        "          p[v] = u\n",
        "          color[v] = GRAY\n",
        "  return d\n",
        "\n",
        "\n",
        "n = int(input())\n",
        "M = [list(map(int, input().split())) for _ in range(n)]\n",
        "\n",
        "d = prim(M)\n",
        "print(sum(d))"
      ]
    },
    {
      "cell_type": "code",
      "execution_count": null,
      "metadata": {},
      "outputs": [],
      "source": [
        "!python test.py < input-f.dat"
      ]
    },
    {
      "cell_type": "markdown",
      "source": "## 単一始点最短経路",
      "metadata": {}
    },
    {
      "cell_type": "markdown",
      "source": "\nアルゴリズム図鑑",
      "metadata": {}
    },
    {
      "cell_type": "markdown",
      "source": "### ♥networkxを使う",
      "metadata": {}
    },
    {
      "cell_type": "markdown",
      "source": "\n♥問題：[A64 - Shortest Path 2](https://atcoder.jp/contests/tessoku-book/tasks/tessoku_book_bl)",
      "metadata": {}
    },
    {
      "cell_type": "code",
      "execution_count": null,
      "metadata": {},
      "outputs": [],
      "source": [
        "%%writefile input-e.dat\n",
        "6 7\n",
        "1 2 15\n",
        "1 4 20\n",
        "2 3 65\n",
        "2 5 4\n",
        "3 6 50\n",
        "4 5 30\n",
        "5 6 8"
      ]
    },
    {
      "cell_type": "code",
      "execution_count": null,
      "metadata": {},
      "outputs": [],
      "source": [
        "draw_pattern_e()"
      ]
    },
    {
      "cell_type": "markdown",
      "source": "紙とペンで，ノード1を起点とする単一始点最短経路を求めてみよう。",
      "metadata": {}
    },
    {
      "cell_type": "code",
      "execution_count": null,
      "metadata": {},
      "outputs": [],
      "source": [
        "draw_pattern_e(sol='ssdp', start=1)"
      ]
    },
    {
      "cell_type": "markdown",
      "source": "networkxには単一始点最短経路長を求める関数`nx.single_source_shortest_path_length`がある。",
      "metadata": {}
    },
    {
      "cell_type": "code",
      "execution_count": null,
      "metadata": {},
      "outputs": [],
      "source": [
        "%%writefile test.py\n",
        "import networkx as nx\n",
        "n, m = map(int, input().split())\n",
        "G = nx.Graph()\n",
        "G.add_nodes_from(range(1, n + 1))\n",
        "for _ in range(m):\n",
        "  u, v, w = map(int, input().split())\n",
        "  G.add_edge(u, v, weight=w)\n",
        "result = nx.single_source_dijkstra_path_length(G, 1, weight='weight')\n",
        "for u in range(1, n + 1): print(result.get(u, -1))"
      ]
    },
    {
      "cell_type": "code",
      "execution_count": null,
      "metadata": {},
      "outputs": [],
      "source": [
        "!python3 test.py < input-e.dat"
      ]
    },
    {
      "cell_type": "markdown",
      "source": "### ♦networkxを使わない",
      "metadata": {}
    },
    {
      "cell_type": "markdown",
      "source": "\n-   ♦問題：[ALDS1_12_B](https://onlinejudge.u-aizu.ac.jp/courses/lesson/1/ALDS1/12/ALDS1_12_B) (Single Source Shortest Path I)\n-   ♠♦問題：[ALDS1_12_C](https://onlinejudge.u-aizu.ac.jp/courses/lesson/1/ALDS1/12/ALDS1_12_C) (Single Source Shortest Path II)\n\n教科書の図13.11を再現する。",
      "metadata": {}
    },
    {
      "cell_type": "code",
      "execution_count": null,
      "metadata": {},
      "outputs": [],
      "source": [
        "%%writefile input-g.dat\n",
        "7\n",
        "0 4 1 10 2 3 4 18 5 11\n",
        "1 3 0 10 2 5 3 1\n",
        "2 5 0 3 1 5 3 2 5 7 6 5\n",
        "3 3 1 1 2 2 6 2\n",
        "4 2 0 18 5 1\n",
        "5 4 0 11 2 7 4 1 6 2\n",
        "6 3 2 5 3 2 5 2"
      ]
    },
    {
      "cell_type": "code",
      "execution_count": null,
      "metadata": {},
      "outputs": [],
      "source": [
        "draw_pattern_g()"
      ]
    },
    {
      "cell_type": "markdown",
      "source": "紙とペンで，ノード0を起点とする単一始点最短経路を求めてみよう。",
      "metadata": {}
    },
    {
      "cell_type": "code",
      "execution_count": null,
      "metadata": {},
      "outputs": [],
      "source": [
        "draw_pattern_g(sol='ssdp')"
      ]
    },
    {
      "cell_type": "markdown",
      "source": "ダイクストラのアルゴリズムを実装する。",
      "metadata": {}
    },
    {
      "cell_type": "code",
      "execution_count": null,
      "metadata": {},
      "outputs": [],
      "source": [
        "%%writefile test.py\n",
        "def dijkstra(M):\n",
        "  INFTY = (1<<22)\n",
        "  WHITE, GRAY, BLACK = 0, 1, 2\n",
        "  n = len(M)\n",
        "  d = [INFTY] * n\n",
        "  p = [None] * n\n",
        "  color = [WHITE] * n\n",
        "\n",
        "  d[0] = 0\n",
        "  p[0] = -1\n",
        "\n",
        "  while True:\n",
        "    mincost = INFTY\n",
        "    for i in range(n):\n",
        "      if color[i] != BLACK and d[i] < mincost:\n",
        "        mincost = d[i]\n",
        "        u = i\n",
        "\n",
        "    if mincost == INFTY: break\n",
        "\n",
        "    color[u] = BLACK\n",
        "\n",
        "    for v in range(n):\n",
        "      if color[v] != BLACK and M[u][v] >= 0:\n",
        "        if d[u] + M[u][v] < d[v]:\n",
        "          d[v] = d[u] + M[u][v]\n",
        "          p[v] = u\n",
        "          color[v] = GRAY\n",
        "  return d\n",
        "\n",
        "n = int(input())\n",
        "M = [[-1] * n for _ in range(n)]\n",
        "for _ in range(n):\n",
        "  u, k, *x = map(int, input().split())\n",
        "  for j in range(k):\n",
        "    v = x[2 * j]\n",
        "    w = x[2 * j + 1]\n",
        "    M[u][v] = w\n",
        "\n",
        "d = dijkstra(M)\n",
        "for u in range(n): print(u, d[u])"
      ]
    },
    {
      "cell_type": "code",
      "execution_count": null,
      "metadata": {},
      "outputs": [],
      "source": [
        "!python test.py < input-g.dat"
      ]
    },
    {
      "cell_type": "markdown",
      "source": "## プリムのアルゴリズムとダイクストラのアルゴリズム",
      "metadata": {}
    },
    {
      "cell_type": "markdown",
      "source": "",
      "metadata": {}
    },
    {
      "cell_type": "markdown",
      "source": "### 似ているところ",
      "metadata": {}
    },
    {
      "cell_type": "markdown",
      "source": "\n構造はほとんど同じ。\n\nプリムのアルゴリズム（一部）\n\n``` python\n    for v in range(n):\n      if color[v] != BLACK and M[u][v] >= 0:\n        if M[u][v] < d[v]: # 辺がコストより小さければ\n          d[v] = M[u][v]     # コストを更新する。 \n```\n\nダイクストラのアルゴリズム（一部）\n\n``` python\n    for v in range(n):\n      if color[v] != BLACK and M[u][v] >= 0:\n        if d[u] + M[u][v] < d[v]: # 辺が暫定の最短経路長より短ければ\n          d[v] = d[u] + M[u][v]     # 最短経路長を更新する。\n```",
      "metadata": {}
    },
    {
      "cell_type": "markdown",
      "source": "### 違うところ",
      "metadata": {}
    },
    {
      "cell_type": "markdown",
      "source": "\nプリムのアルゴリズムは最小全域木，ダイクストラのアルゴリズムは最短経路木を作る。最小全域木と最短経路木は異なる。",
      "metadata": {}
    },
    {
      "cell_type": "code",
      "execution_count": null,
      "metadata": {},
      "outputs": [],
      "source": [
        "%%writefile input-e.dat\n",
        "8 15\n",
        "0 1 3\n",
        "0 2 5\n",
        "1 2 1\n",
        "1 3 10\n",
        "1 4 11\n",
        "2 3 2\n",
        "2 4 3\n",
        "3 4 2\n",
        "3 5 7\n",
        "3 6 12\n",
        "4 5 11\n",
        "4 6 2\n",
        "5 6 3\n",
        "5 7 2\n",
        "6 7 2"
      ]
    },
    {
      "cell_type": "code",
      "execution_count": null,
      "metadata": {},
      "outputs": [],
      "source": [
        "draw_pattern_e(sol='mst')"
      ]
    },
    {
      "cell_type": "code",
      "execution_count": null,
      "metadata": {},
      "outputs": [],
      "source": [
        "draw_pattern_e(sol='ssdp', start=0)"
      ]
    },
    {
      "cell_type": "markdown",
      "source": "## 宿題",
      "metadata": {}
    },
    {
      "cell_type": "markdown",
      "source": "\n以下の問題をAC（Accepted）にする。Pythonを使うこと。\n\nnetworkxの使い方を学びたい（手軽）。\n\n-   ♠♥[A67 - MST (Minimum Spanning Tree)](https://atcoder.jp/contests/tessoku-book/tasks/tessoku_book_bo)\n-   ♥[A64 - Shortest Path 2](https://atcoder.jp/contests/tessoku-book/tasks/tessoku_book_bl)\n\nアルゴリズムを自分で実装したい。\n\n-   ♦[ALDS1_12_A](https://onlinejudge.u-aizu.ac.jp/courses/lesson/1/ALDS1/12/ALDS1_12_A) (Minimum Spanning Tree I)\n-   ♦[ALDS1_12_B](https://onlinejudge.u-aizu.ac.jp/courses/lesson/1/ALDS1/12/ALDS1_12_B) (Single Source Shortest Path I)\n-   ♠♦[ALDS1_12_C](https://onlinejudge.u-aizu.ac.jp/courses/lesson/1/ALDS1/12/ALDS1_12_C) (Single Source Shortest Path II)\n\n以上",
      "metadata": {}
    }
  ],
  "nbformat": 4,
  "nbformat_minor": 5,
  "metadata": {}
}
