{
  "cells": [
    {
      "cell_type": "markdown",
      "source": "# 6 再帰・分割統治法",
      "metadata": {}
    },
    {
      "cell_type": "markdown",
      "source": "",
      "metadata": {}
    },
    {
      "cell_type": "markdown",
      "source": "## 6.1 再帰と分割統治：問題にチャレンジする前に",
      "metadata": {}
    },
    {
      "cell_type": "markdown",
      "source": "",
      "metadata": {}
    },
    {
      "cell_type": "markdown",
      "source": "### 階乗",
      "metadata": {}
    },
    {
      "cell_type": "markdown",
      "source": "\n問題：[abc273_a](https://atcoder.jp/contests/abc273/tasks/abc273_a) (A Recursive Function)",
      "metadata": {}
    },
    {
      "cell_type": "markdown",
      "source": "### 1 2 1 3 1 2 1",
      "metadata": {}
    },
    {
      "cell_type": "markdown",
      "source": "\n再帰の練習のための問題\n\n問題：[abc247_c](https://atcoder.jp/contests/abc247/tasks/abc247_c) (1 2 1 3 1 2 1)",
      "metadata": {}
    },
    {
      "cell_type": "markdown",
      "source": "### 最大公約数（教科書p.441）",
      "metadata": {}
    },
    {
      "cell_type": "markdown",
      "source": "\n問題：[ALDS1_1_B](https://onlinejudge.u-aizu.ac.jp/courses/lesson/1/ALDS1/1/ALDS1_1_B) (Greatest Common Divisor)\n\nProgram 18.5を実装して提出するとTLEになる。",
      "metadata": {}
    },
    {
      "cell_type": "code",
      "execution_count": null,
      "metadata": {},
      "outputs": [],
      "source": [
        "def gcd(x, y):\n",
        "  n = min(x, y)\n",
        "  for d in range(n, 0, -1):\n",
        "    if x % d == 0 and y % d == 0:\n",
        "      return d\n",
        "\n",
        "x, y = map(int, input().split())\n",
        "print(gcd(x, y))"
      ]
    },
    {
      "cell_type": "markdown",
      "source": "> ここでEuclidのアルゴリズムを示しておくことは，無意味ではあるまい。（TAOCP 1）\n\nアルゴリズム図鑑",
      "metadata": {}
    },
    {
      "cell_type": "markdown",
      "source": "## 6.2 全探索",
      "metadata": {}
    },
    {
      "cell_type": "markdown",
      "source": "\n練習：{1, 2, 3}の部分集合を全て列挙する。",
      "metadata": {}
    },
    {
      "cell_type": "code",
      "execution_count": null,
      "metadata": {},
      "outputs": [],
      "source": [
        "A = [1, 2, 3]\n",
        "\n",
        "def subset(A, s):\n",
        "  if len(A) == 0:\n",
        "    print(s)\n",
        "  else:\n",
        "    subset(A[1:], s + [A[0]])\n",
        "    subset(A[1:], s)\n",
        "\n",
        "subset(A, [])"
      ]
    },
    {
      "cell_type": "markdown",
      "source": "問題：[ALDS1_5_A](https://onlinejudge.u-aizu.ac.jp/courses/lesson/1/ALDS1/5/ALDS1_5_A) (Exhaustive Search)\n\nまずは，Program 6.4をPythonで実装して，次のコードで動作を確認する。",
      "metadata": {}
    },
    {
      "cell_type": "code",
      "execution_count": null,
      "metadata": {},
      "outputs": [],
      "source": [
        "# ここでsolve(i, m)を定義する。\n",
        "\n",
        "A = [1, 5, 7]\n",
        "n = len(A)\n",
        "solve(0, 8)"
      ]
    },
    {
      "cell_type": "markdown",
      "source": "それができたら，データを読み込んで処理できるようにする。",
      "metadata": {}
    },
    {
      "cell_type": "code",
      "execution_count": null,
      "metadata": {},
      "outputs": [],
      "source": [
        "%%writefile input.dat\n",
        "5\n",
        "1 5 7 10 21\n",
        "4\n",
        "2 4 17 8"
      ]
    },
    {
      "cell_type": "code",
      "execution_count": null,
      "metadata": {},
      "outputs": [],
      "source": [
        "%%writefile test.py\n",
        "n = ...\n",
        "A = ...\n",
        "q = ...\n",
        "m = ...\n",
        "\n",
        "for x in m:\n",
        "..."
      ]
    },
    {
      "cell_type": "markdown",
      "source": "``` coede\n!python3 test.py < input.dat\n```\n\nTLEになってしまう場合：\n\n-   PyPy3を使う。\n-   ♠Aの部分集合で作れる数を全て求めて集合にしておいて，mについてのループで探索する。（mの要素ごとに全探索するのは効率が悪い。）",
      "metadata": {}
    },
    {
      "cell_type": "markdown",
      "source": "## ♠6.3 コッホ曲線",
      "metadata": {}
    },
    {
      "cell_type": "markdown",
      "source": "\n♠回転を考えない，シェルピンスキーの三角形の方が，再帰の練習には向いていると思う。\n\n> Google Colabで実行できる，シェルピンスキーの三角形をPythonで描くコード。再帰の回数を指定できるようにして\n\n（割愛）\n\n問題：[ALDS1_5_C](https://onlinejudge.u-aizu.ac.jp/courses/lesson/1/ALDS1/5/ALDS1_5_C) (Koch Curve)\n\nおまけ：コッホ曲線の描画\n\n正しく動くようになったら，次のように結果をoutput.datに保存して，それを読み込んで可視化する。",
      "metadata": {}
    },
    {
      "cell_type": "code",
      "execution_count": null,
      "metadata": {},
      "outputs": [],
      "source": [
        "!python3 test.py < input.dat > output.dat"
      ]
    },
    {
      "cell_type": "markdown",
      "source": "出力例2で試す。",
      "metadata": {}
    },
    {
      "cell_type": "code",
      "execution_count": null,
      "metadata": {},
      "outputs": [],
      "source": [
        "%%writefile output.dat\n",
        "0.00000000 0.00000000\n",
        "11.11111111 0.00000000\n",
        "16.66666667 9.62250449\n",
        "22.22222222 0.00000000\n",
        "33.33333333 0.00000000\n",
        "38.88888889 9.62250449\n",
        "33.33333333 19.24500897\n",
        "44.44444444 19.24500897\n",
        "50.00000000 28.86751346\n",
        "55.55555556 19.24500897\n",
        "66.66666667 19.24500897\n",
        "61.11111111 9.62250449\n",
        "66.66666667 0.00000000\n",
        "77.77777778 0.00000000\n",
        "83.33333333 9.62250449\n",
        "88.88888889 0.00000000\n",
        "100.00000000 0.00000000"
      ]
    },
    {
      "cell_type": "markdown",
      "source": "> 1行に1個，点の座標が記録されたファイルoutput.datを読み込んで，点を順番に直線で結んだ結果を描く。\n\n生成されるコードの例を示す。",
      "metadata": {}
    },
    {
      "cell_type": "code",
      "execution_count": null,
      "metadata": {},
      "outputs": [],
      "source": [
        "import matplotlib.pyplot as plt\n",
        "\n",
        "# ファイルから座標を読み込む\n",
        "points = []\n",
        "with open(\"output.dat\") as f:\n",
        "  for line in f:\n",
        "    x, y = map(float, line.strip().split())\n",
        "    points.append((x, y))\n",
        "\n",
        "# x座標とy座標に分割\n",
        "xs, ys = zip(*points)\n",
        "\n",
        "# 直線で結ぶ\n",
        "plt.plot(xs, ys, marker='o')  # 点も見えるように marker をつける\n",
        "plt.title(\"Points from output.dat\")\n",
        "plt.xlabel(\"X\")\n",
        "plt.ylabel(\"Y\")\n",
        "plt.grid(True)\n",
        "plt.axis(\"equal\")  # 比率を正確にする\n",
        "plt.show()"
      ]
    },
    {
      "cell_type": "markdown",
      "source": "## 宿題",
      "metadata": {}
    },
    {
      "cell_type": "markdown",
      "source": "\n以下の問題をAC（Accepted）にする。Pythonを使うこと。\n\n-   [abc273_a](https://atcoder.jp/contests/abc273/tasks/abc273_a) (A Recursive Function)\n-   [abc247_c](https://atcoder.jp/contests/abc247/tasks/abc247_c) (1 2 1 3 1 2 1)\n-   [ALDS1_1_B](https://onlinejudge.u-aizu.ac.jp/courses/lesson/1/ALDS1/1/ALDS1_1_B) (Greatest Common Divisor)\n-   [ALDS1_5_A](https://onlinejudge.u-aizu.ac.jp/courses/lesson/1/ALDS1/5/ALDS1_5_A) (Exhaustive Search)\n-   ♠[ALDS1_5_C](https://onlinejudge.u-aizu.ac.jp/courses/lesson/1/ALDS1/5/ALDS1_5_C) (Koch Curve)\n\n以上",
      "metadata": {}
    }
  ],
  "nbformat": 4,
  "nbformat_minor": 5,
  "metadata": {}
}
