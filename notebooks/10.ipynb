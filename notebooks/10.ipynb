{
  "cells": [
    {
      "cell_type": "markdown",
      "source": "# ヒープ",
      "metadata": {}
    },
    {
      "cell_type": "markdown",
      "source": "",
      "metadata": {}
    },
    {
      "cell_type": "markdown",
      "source": "## ヒープ：問題にチャレンジする前に",
      "metadata": {}
    },
    {
      "cell_type": "markdown",
      "source": "\nアルゴリズム図鑑（有料）",
      "metadata": {}
    },
    {
      "cell_type": "markdown",
      "source": "## 完全二分木",
      "metadata": {}
    },
    {
      "cell_type": "markdown",
      "source": "\n問題：[ALDS1_9_A](https://onlinejudge.u-aizu.ac.jp/courses/lesson/1/ALDS1/9/ALDS1_9_A) (Complete Binary Tree)",
      "metadata": {}
    },
    {
      "cell_type": "code",
      "execution_count": null,
      "metadata": {},
      "outputs": [],
      "source": [
        "%%writefile input.dat\n",
        "5\n",
        "7 8 1 2 3"
      ]
    },
    {
      "cell_type": "markdown",
      "source": "教科書では，ヒープを1オリジンの配列で表そうとしている。CやC++の配列は0オリジンだから，先頭要素を使わないことで，1オリジンを実現する。ここでもその方法を使う。先頭要素はNoneや空文字列にする。",
      "metadata": {}
    },
    {
      "cell_type": "code",
      "execution_count": null,
      "metadata": {},
      "outputs": [],
      "source": [
        "%%writefile test.py\n",
        "def parent(i): return i // 2\n",
        "def left(i): return 2 * i\n",
        "def right(i): return 2 * i + 1\n",
        "\n",
        "H = int(input())\n",
        "A = [None] + list(map(int, input().split()))\n",
        "\n",
        "for i in range(1, H + 1):\n",
        "  key = A[i]\n",
        "  print(f'node {i}: {key = }, ', end='')\n",
        "  # 自分で書く"
      ]
    },
    {
      "cell_type": "code",
      "execution_count": null,
      "metadata": {},
      "outputs": [],
      "source": [
        "!python3 test.py < input.dat"
      ]
    },
    {
      "cell_type": "markdown",
      "source": "## 最大・最小ヒープ",
      "metadata": {}
    },
    {
      "cell_type": "markdown",
      "source": "\n問題：[ALDS1_9_B](https://onlinejudge.u-aizu.ac.jp/courses/lesson/1/ALDS1/9/ALDS1_9_B) (Maxiumum Heap)",
      "metadata": {}
    },
    {
      "cell_type": "code",
      "execution_count": null,
      "metadata": {},
      "outputs": [],
      "source": [
        "%%writefile input.dat\n",
        "10\n",
        "4 1 3 2 16 9 10 14 8 7"
      ]
    },
    {
      "cell_type": "markdown",
      "source": "> Google Colabでクラス図を描くコード<br>（ここにコードを貼り付ける）",
      "metadata": {}
    },
    {
      "cell_type": "code",
      "execution_count": null,
      "metadata": {},
      "outputs": [],
      "source": [
        "from graphviz import Digraph\n",
        "\n",
        "dot = Digraph(format='png')\n",
        "dot.attr('node', shape='record')\n",
        "\n",
        "# Heap クラス\n",
        "dot.node('Heap', '''{ Heap |\n",
        "  - H : int\\\\l\n",
        "  - A : list\\\\l|\n",
        "  + __init__(A, dummy)\\\\l\n",
        "  + maxHeapify(i)\\\\l\n",
        "  + buildMaxHeap()\\\\l\n",
        "}''')\n",
        "\n",
        "# Heap2 クラス\n",
        "dot.node('Heap2', '''{ Heap2 |\n",
        "  + insert(key)\\\\l\n",
        "  + heapIncreaseKey(i, key)\\\\l\n",
        "  + heapExtractMax()\\\\l\n",
        "}''')\n",
        "\n",
        "# 継承関係\n",
        "dot.edge('Heap', 'Heap2', arrowhead='onormal')\n",
        "\n",
        "# 表示\n",
        "dot.render('heap_class_diagram', view=True)\n",
        "dot"
      ]
    },
    {
      "cell_type": "markdown",
      "source": "`A`と`H`をグローバル変数にするとプログラム中で一つしかヒープを作れなくてよくない。そこで，ヒープのためのクラスheapを作る。ヒープの実体であるリストを`self.A`とするのは面倒だから，メソッドの最初の方で`A = self.A`とする。",
      "metadata": {}
    },
    {
      "cell_type": "code",
      "execution_count": null,
      "metadata": {},
      "outputs": [],
      "source": [
        "%%writefile test.py\n",
        "def parent(i): return i // 2\n",
        "def left(i): return 2 * i\n",
        "def right(i): return 2 * i + 1\n",
        "\n",
        "class Heap:\n",
        "  def __init__(self, A, dummy=''):\n",
        "    self.H = len(A)\n",
        "    self.A = [dummy] + A\n",
        "\n",
        "  def maxHeapify(self, i):\n",
        "    # 自分で書く\n",
        "  \n",
        "  def buildMaxHeap(self):\n",
        "    for i in range(self.H // 2, 0, -1):\n",
        "      self.maxHeapify(i)\n",
        "\n",
        "H = int(input())\n",
        "A = list(map(int, input().split()))\n",
        "heap = Heap(A)\n",
        "heap.buildMaxHeap()\n",
        "print(*heap.A)"
      ]
    },
    {
      "cell_type": "code",
      "execution_count": null,
      "metadata": {},
      "outputs": [],
      "source": [
        "!python3 test.py < input.dat"
      ]
    },
    {
      "cell_type": "markdown",
      "source": "## 優先度付きキュー",
      "metadata": {}
    },
    {
      "cell_type": "markdown",
      "source": "\n問題：[ALDS1_9_C](https://onlinejudge.u-aizu.ac.jp/courses/lesson/1/ALDS1/9/ALDS1_9_C) (Priority Queue)",
      "metadata": {}
    },
    {
      "cell_type": "code",
      "execution_count": null,
      "metadata": {},
      "outputs": [],
      "source": [
        "%%writefile input.dat\n",
        "insert 8\n",
        "insert 2\n",
        "extract\n",
        "insert 10\n",
        "extract\n",
        "insert 11\n",
        "extract\n",
        "extract\n",
        "end"
      ]
    },
    {
      "cell_type": "markdown",
      "source": "### ライブラリを使う場合",
      "metadata": {}
    },
    {
      "cell_type": "markdown",
      "source": "\nheapqを使う。ただし，heapqは最小ヒープだから，最大ヒープにするために値に $(-1)$ を掛けて格納する。取り出すときに $(-1)$ を掛けて元に戻す。",
      "metadata": {}
    },
    {
      "cell_type": "code",
      "execution_count": null,
      "metadata": {},
      "outputs": [],
      "source": [
        "%%writefile test.py\n",
        "import heapq\n",
        "\n",
        "heap = []\n",
        "\n",
        "while True:\n",
        "  com = input().split()\n",
        "  if com[0] == 'insert': heapq.heappush(heap, -int(com[1]))\n",
        "  elif com[0] == 'extract': print(-heapq.heappop(heap))\n",
        "  elif com[0] == 'end': break"
      ]
    },
    {
      "cell_type": "code",
      "execution_count": null,
      "metadata": {},
      "outputs": [],
      "source": [
        "!python3 test.py < input.dat"
      ]
    },
    {
      "cell_type": "markdown",
      "source": "### ライブラリを使わない場合",
      "metadata": {}
    },
    {
      "cell_type": "markdown",
      "source": "\n先に作ったHeapを継承したHeap2を作り，要素を挿入する`insert`，指定した要素を持ち上げる`heapIncreaseKey`，最大値を取り出す`heapExtractMax`を実装する。",
      "metadata": {}
    },
    {
      "cell_type": "code",
      "execution_count": null,
      "metadata": {},
      "outputs": [],
      "source": [
        "%%writefile test.py\n",
        "def parent(i): return i // 2\n",
        "def left(i): return 2 * i\n",
        "def right(i): return 2 * i + 1\n",
        "\n",
        "# Heapの定義（前問）\n",
        "\n",
        "class Heap2(Heap):\n",
        "  def insert(self, key):\n",
        "    self.H += 1\n",
        "    self.A.append(key)\n",
        "    self.heapIncreaseKey(self.H, key)\n",
        "  \n",
        "  def heapIncreaseKey(self, i, key):\n",
        "    A = self.A\n",
        "    # if key < A[i]: return # ここではチェックは不要\n",
        "    A[i] = key\n",
        "    # 自分で書く\n",
        "  \n",
        "  def heapExtractMax(self):\n",
        "    # 自分で書く\n",
        "\n",
        "heap = Heap2([])\n",
        "\n",
        "while True:\n",
        "  com = input().split()\n",
        "  if com[0] == 'insert': heap.insert(int(com[1]))\n",
        "  elif com[0] == 'extract': print(heap.heapExtractMax())\n",
        "  elif com[0] == 'end': break"
      ]
    },
    {
      "cell_type": "code",
      "execution_count": null,
      "metadata": {},
      "outputs": [],
      "source": [
        "!python3 test.py < input.dat"
      ]
    },
    {
      "cell_type": "markdown",
      "source": "## おまけ",
      "metadata": {}
    },
    {
      "cell_type": "markdown",
      "source": "",
      "metadata": {}
    },
    {
      "cell_type": "markdown",
      "source": "### その1：ヒープソート",
      "metadata": {}
    },
    {
      "cell_type": "markdown",
      "source": "\nアルゴリズム図鑑\n\n次のような手順で，ヒープを使って整列する。平均時間計算量は $O(n \\log n)$ ，平均空間計算量は $O(1)$ である。\n\n1.  ヒープを作る。\n2.  ヒープの最大値を取り出して，リストの末尾に置く。\n3.  ヒープのサイズを1つ小さくして，ヒープを再構築する。\n4.  ヒープのサイズが1になるまで2と3を繰り返す。",
      "metadata": {}
    },
    {
      "cell_type": "markdown",
      "source": "### その2：伏線回収",
      "metadata": {}
    },
    {
      "cell_type": "markdown",
      "source": "\nいろんなことを学んできた。\n\n教科書p.41の問題（Top N）の解法，今なら何個思い付くだろうか。最大ヒープは使えるか。最小ヒープは使えるか。例えば6個思い付くなら，次のようにAIでコードを書いて実験してみよう。参考：https://docs.python.org/ja/3.13/library/heapq.html\n\n> 0以上k以下のランダムな整数n個から最も小さいm個を取り出す。次の6個の方法の時間を比較するPythonのコード。<br>① 自分で書く<br>② 自分で書く<br>③ 自分で書く<br>④ 自分で書く<br>⑤ 自分で書く<br>⑥ 自分で書く<br>結果が等しくない場合はエラーメッセージを出して",
      "metadata": {}
    },
    {
      "cell_type": "markdown",
      "source": "## 宿題",
      "metadata": {}
    },
    {
      "cell_type": "markdown",
      "source": "\n以下の問題をAC（Accepted）にする。Pythonを使うこと。\n\n-   [ALDS1_9_A](https://onlinejudge.u-aizu.ac.jp/courses/lesson/1/ALDS1/9/ALDS1_9_A) (Complete Binary Tree)\n-   [ALDS1_9_B](https://onlinejudge.u-aizu.ac.jp/courses/lesson/1/ALDS1/9/ALDS1_9_B) (Maxiumum Heap)\n-   [ALDS1_9_C](https://onlinejudge.u-aizu.ac.jp/courses/lesson/1/ALDS1/9/ALDS1_9_C) (Priority Queue)\n\n以上",
      "metadata": {}
    }
  ],
  "nbformat": 4,
  "nbformat_minor": 5,
  "metadata": {}
}
