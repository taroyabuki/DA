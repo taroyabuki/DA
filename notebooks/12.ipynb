{
  "cells": [
    {
      "cell_type": "markdown",
      "source": "# グラフ",
      "metadata": {}
    },
    {
      "cell_type": "markdown",
      "source": "",
      "metadata": {}
    },
    {
      "cell_type": "markdown",
      "source": "## グラフ：問題にチャレンジする前に",
      "metadata": {}
    },
    {
      "cell_type": "markdown",
      "source": "\nPythonにはnetworkxというグラフのためのライブラリがある。とても強力なライブラリだから，基本的な使い方は知っておくべきなのだが，Aizu Online Judgeではその練習ができない。その分はAtCoderの問題で補うことにする。\n\n-   手軽なのがいい人→♥networkxを使う\n-   教科書どおりがいい人→♦networkxを使わない\n-   余裕がある人→♥♦\n\nこの資料で扱う問題で使う，networkxの要素は表のとおり。\n\n| 要素                                               | 機能                  |\n|----------------------------------------------------|-----------------------|\n| `G = nx.Graph()`                                   | 無向グラフの作成      |\n| `G = nx.DiGraph()`                                 | 有向グラフの作成      |\n| `G[u]`                                             | ノード`u`の隣接ノード |\n| `G.add_nodes_from(...)`                            | ノードのリストの追加  |\n| `G.add_edges_from(...)`                            | エッジのリストの追加  |\n| `G.add_edge(u, v)`                                 | エッジの追加          |\n| `G.degree`                                         | 各ノードの次数        |\n| `nx.adjacency_matrix(G)`                           | 隣接行列              |\n| `nx.is_connected(G)`                               | 連結である            |\n| `nx.dfs_preorder_nodes(G, source)`                 | 深さ優先探索          |\n| `nx.bfs_edges(G, source)`                          | 幅優先探索            |\n| `nx.draw(G, with_labels=True)`                     | グラフの描画          |\n| `nx.single_source_shortest_path_length(G, source)` | 単一始点最短経路長    |\n| `nx.utils.UnionFind(...)`                          | Union-Find            |",
      "metadata": {}
    },
    {
      "cell_type": "markdown",
      "source": "### 無向グラフ",
      "metadata": {}
    },
    {
      "cell_type": "code",
      "execution_count": null,
      "metadata": {},
      "outputs": [],
      "source": [
        "import networkx as nx\n",
        "\n",
        "G = nx.Graph()\n",
        "G.add_edges_from([(1, 2), (1, 2), (1, 4), (2, 4), (4, 3)])\n",
        "nx.draw(G, with_labels=True, node_color='greenyellow')"
      ]
    },
    {
      "cell_type": "code",
      "execution_count": null,
      "metadata": {},
      "outputs": [],
      "source": [
        "# 2の隣接ノード\n",
        "print(list(G[2]))\n",
        "\n",
        "# 各ノードの次数\n",
        "print(G.degree)"
      ]
    },
    {
      "cell_type": "markdown",
      "source": "### 有向グラフ",
      "metadata": {}
    },
    {
      "cell_type": "code",
      "execution_count": null,
      "metadata": {},
      "outputs": [],
      "source": [
        "import networkx as nx\n",
        "\n",
        "G = nx.DiGraph()\n",
        "G.add_edges_from([(1, 2), (1, 2), (1, 4), (2, 4), (4, 3)])\n",
        "nx.draw(G, with_labels=True, node_color='greenyellow')"
      ]
    },
    {
      "cell_type": "markdown",
      "source": "### グラフの描画",
      "metadata": {}
    },
    {
      "cell_type": "markdown",
      "source": "\nファイルからグラフを構築し描画する関数を作っておく。\n\n対応するパターン\n\n| ファイル名  | 関数             | グラフ | パターン     | 問題                                                                                                                                                                                                                                                          |\n|---------------|---------------|---------------|---------------|---------------|\n| input-a.dat | `draw_pattern_a` | 無向   | エッジ/行    | [A61](https://atcoder.jp/contests/tessoku-book/tasks/tessoku_book_bi), [B61](https://atcoder.jp/contests/tessoku-book/tasks/tessoku_book_eh)                                                                                                                  |\n| input-b.dat | `draw_pattern_b` | 有向   | 隣接リスト   | [ALDS1_11_A](https://onlinejudge.u-aizu.ac.jp/courses/lesson/1/ALDS1/11/ALDS1_11_A), [ALDS1_11_B](https://onlinejudge.u-aizu.ac.jp/courses/lesson/1/ALDS1/11/ALDS1_11_B), [ALDS1_11_C](https://onlinejudge.u-aizu.ac.jp/courses/lesson/1/ALDS1/11/ALDS1_11_C) |\n| input-c.dat | `draw_pattern_c` | 無向   | エッジの追加 | [A66](https://atcoder.jp/contests/tessoku-book/tasks/tessoku_book_bn)                                                                                                                                                                                         |\n| input-d.dat | `draw_pattern_d` | 無向   | 連結成分     | [ALDS1_11_D](https://onlinejudge.u-aizu.ac.jp/courses/lesson/1/ALDS1/11/ALDS1_11_D)                                                                                                                                                                           |\n\nこのコードはグラフの可視化のためのものである。問題を解くだけなら必要ない。",
      "metadata": {}
    },
    {
      "cell_type": "code",
      "execution_count": null,
      "metadata": {},
      "outputs": [],
      "source": [
        "import networkx as nx\n",
        "import matplotlib.pyplot as plt\n",
        "\n",
        "def plot(G,pos=None):\n",
        "  plt.figure(figsize=(6, 4))\n",
        "  nx.draw(G, pos, with_labels=True, node_color='greenyellow');\n",
        "  plt.show();\n",
        "\n",
        "def draw_pattern_a():\n",
        "  with open('input-a.dat', 'r') as f:\n",
        "    input = f.readline # 標準入力の場合と合わせるため\n",
        "    n, m = map(int, input().split())\n",
        "    G = nx.Graph()\n",
        "    G.add_nodes_from(range(1, n + 1)) # エッジをもたないノードがあり得るため\n",
        "    for _ in range(m):\n",
        "      u, v = map(int, input().split())\n",
        "      G.add_edge(u, v)\n",
        "    plot(G)\n",
        "\n",
        "def draw_pattern_b():\n",
        "  with open('input-b.dat', 'r') as f:\n",
        "    input = f.readline\n",
        "    n = int(input())\n",
        "    G = nx.DiGraph()\n",
        "    for _ in range(n):\n",
        "      u, k, *x = map(int, input().split())\n",
        "      for v in x: G.add_edge(u, v)\n",
        "    plot(G)\n",
        "\n",
        "def draw_pattern_c():\n",
        "  with open('input-c.dat', 'r') as f:\n",
        "    input = f.readline\n",
        "    n, q = map(int, input().split())\n",
        "    G = nx.Graph()\n",
        "    G.add_nodes_from(range(1, n + 1))\n",
        "    pos = nx.spring_layout(G)\n",
        "    for _ in range(q):\n",
        "      t, u, v = map(int, input().split())\n",
        "      if t == 1:\n",
        "        G.add_edge(u, v)\n",
        "        plot(G, pos)\n",
        "\n",
        "def draw_pattern_d():\n",
        "  with open('input-d.dat', 'r') as f:\n",
        "    input = f.readline\n",
        "    n, m = map(int, input().split())\n",
        "    G = nx.Graph()\n",
        "    G.add_nodes_from(range(n))\n",
        "    for _ in range(m):\n",
        "      u, v = map(int, input().split())\n",
        "      G.add_edge(u, v)\n",
        "    plot(G)"
      ]
    },
    {
      "cell_type": "markdown",
      "source": "## グラフの表現",
      "metadata": {}
    },
    {
      "cell_type": "markdown",
      "source": "",
      "metadata": {}
    },
    {
      "cell_type": "markdown",
      "source": "### ♥networkxを使う（エッジ→隣接リスト）",
      "metadata": {}
    },
    {
      "cell_type": "markdown",
      "source": "\n♥問題：[A61 - Adjacent Vertices](https://atcoder.jp/contests/tessoku-book/tasks/tessoku_book_bi)",
      "metadata": {}
    },
    {
      "cell_type": "code",
      "execution_count": null,
      "metadata": {},
      "outputs": [],
      "source": [
        "%%writefile input-a.dat\n",
        "5 4\n",
        "1 2\n",
        "2 3\n",
        "3 4\n",
        "3 5"
      ]
    },
    {
      "cell_type": "code",
      "execution_count": null,
      "metadata": {},
      "outputs": [],
      "source": [
        "draw_pattern_a()"
      ]
    },
    {
      "cell_type": "code",
      "execution_count": null,
      "metadata": {},
      "outputs": [],
      "source": [
        "%%writefile test.py\n",
        "import networkx as nx\n",
        "\n",
        "# 無向グラフを作る。\n",
        "n, m = map(int, input().split())\n",
        "G = nx.Graph()\n",
        "G.add_nodes_from(range(1, n + 1)) # エッジを追加するだけでは足りない。\n",
        "for _ in range(m):\n",
        "  u, v = map(int, input().split())\n",
        "  G.add_edge(u, v)\n",
        "\n",
        "# 隣接リストを出力する。\n",
        "for u in range(1, n + 1):\n",
        "  print(f'{u}: {{{\", \".join(map(str, G[u]))}}}')\n"
      ]
    },
    {
      "cell_type": "code",
      "execution_count": null,
      "metadata": {},
      "outputs": [],
      "source": [
        "!python3 test.py < input-a.dat"
      ]
    },
    {
      "cell_type": "markdown",
      "source": "問題：[B61 - Influencer](https://atcoder.jp/contests/tessoku-book/tasks/tessoku_book_eh)\n\nA61と同じデータを使う。グラフの構築方法は同じ。`G.degree`で次数を取得し，最大のものを出力する。\n\n準備`(数0, 数1)`のリストから，数1が最大のものを取得する方法を確認する。数1を取り出す関数「`lambda x: x[1]`」を`max`に渡せばよい。",
      "metadata": {}
    },
    {
      "cell_type": "code",
      "execution_count": null,
      "metadata": {},
      "outputs": [],
      "source": [
        "data = [(1, 2), (2, 5), (3, 3), (4, 0)]\n",
        "max(data, key = lambda x: x[1])"
      ]
    },
    {
      "cell_type": "markdown",
      "source": "この方法を使って，`(ノード, 次数)`のリストから次数が最大のノードを取得する。",
      "metadata": {}
    },
    {
      "cell_type": "code",
      "execution_count": null,
      "metadata": {},
      "outputs": [],
      "source": [
        "%%writefile test.py\n",
        "# 出力以外はA61と同じ\n",
        "\n",
        "# 結果の出力\n",
        "print(max(G.degree, key=lambda x: x[1])[0])"
      ]
    },
    {
      "cell_type": "code",
      "execution_count": null,
      "metadata": {},
      "outputs": [],
      "source": [
        "!python3 test.py < input-a.dat"
      ]
    },
    {
      "cell_type": "markdown",
      "source": "### ♦networkxを使わない（隣接リスト→隣接行列）",
      "metadata": {}
    },
    {
      "cell_type": "markdown",
      "source": "\n♦問題：[ALDS1_11_A](https://onlinejudge.u-aizu.ac.jp/courses/lesson/1/ALDS1/11/ALDS1_11_A) (Graph)",
      "metadata": {}
    },
    {
      "cell_type": "code",
      "execution_count": null,
      "metadata": {},
      "outputs": [],
      "source": [
        "%%writefile input-b.dat\n",
        "4\n",
        "1 2 2 4\n",
        "2 1 4\n",
        "3 0\n",
        "4 1 3"
      ]
    },
    {
      "cell_type": "code",
      "execution_count": null,
      "metadata": {},
      "outputs": [],
      "source": [
        "draw_pattern_b()"
      ]
    },
    {
      "cell_type": "code",
      "execution_count": null,
      "metadata": {},
      "outputs": [],
      "source": [
        "%%writefile test.py\n",
        "n = int(input())\n",
        "adj_matrix = [[0] * n for _ in range(n)]\n",
        "\n",
        "# データを読んで，隣接行列を更新する。\n",
        "\n",
        "for row in adj_matrix: print(*row)"
      ]
    },
    {
      "cell_type": "code",
      "execution_count": null,
      "metadata": {},
      "outputs": [],
      "source": [
        "!python3 test.py < input-b.dat"
      ]
    },
    {
      "cell_type": "markdown",
      "source": "## 深さ優先探索",
      "metadata": {}
    },
    {
      "cell_type": "markdown",
      "source": "\nアルゴリズム図鑑\n\nライブラリの使い方を確認する。",
      "metadata": {}
    },
    {
      "cell_type": "code",
      "execution_count": null,
      "metadata": {},
      "outputs": [],
      "source": [
        "import networkx as nx\n",
        "\n",
        "G = nx.Graph()\n",
        "G.add_edges_from([\n",
        "    ('A', 'B'), ('A', 'C'),\n",
        "    ('B', 'E'), ('B', 'F'), ('C', 'H'),\n",
        "    ('E', 'K'), ('X', 'Z')])\n",
        "nx.draw(G, with_labels=True, node_color='greenyellow')"
      ]
    },
    {
      "cell_type": "markdown",
      "source": "深さ優先探索（その1）",
      "metadata": {}
    },
    {
      "cell_type": "code",
      "execution_count": null,
      "metadata": {},
      "outputs": [],
      "source": [
        "list(nx.dfs_edges(G, source='A'))"
      ]
    },
    {
      "cell_type": "markdown",
      "source": "深さ優先探索（その2）",
      "metadata": {}
    },
    {
      "cell_type": "code",
      "execution_count": null,
      "metadata": {},
      "outputs": [],
      "source": [
        "list(nx.dfs_preorder_nodes(G, source='A'))"
      ]
    },
    {
      "cell_type": "markdown",
      "source": "### ♥networkxを使う",
      "metadata": {}
    },
    {
      "cell_type": "markdown",
      "source": "\n♥問題：[A62 - Depth First Search](https://atcoder.jp/contests/tessoku-book/tasks/math_and_algorithm_am)",
      "metadata": {}
    },
    {
      "cell_type": "code",
      "execution_count": null,
      "metadata": {},
      "outputs": [],
      "source": [
        "%%writefile input-a.dat\n",
        "6 6\n",
        "1 4\n",
        "2 3\n",
        "3 4\n",
        "5 6\n",
        "1 2\n",
        "2 4"
      ]
    },
    {
      "cell_type": "code",
      "execution_count": null,
      "metadata": {},
      "outputs": [],
      "source": [
        "draw_pattern_a()"
      ]
    },
    {
      "cell_type": "markdown",
      "source": "#### 方法1（連結かどうかを調べる）",
      "metadata": {}
    },
    {
      "cell_type": "markdown",
      "source": "\nグラフが連結かどうかを`nx.is_connected`で調べる。",
      "metadata": {}
    },
    {
      "cell_type": "code",
      "execution_count": null,
      "metadata": {},
      "outputs": [],
      "source": [
        "%%writefile test.py\n",
        "import networkx as nx\n",
        "\n",
        "# 無向グラフを作る。\n",
        "n, m = map(int, input().split())\n",
        "G = nx.Graph()\n",
        "G.add_nodes_from(range(1, n + 1))\n",
        "for _ in range(m):\n",
        "  u, v = map(int, input().split())\n",
        "  G.add_edge(u, v)\n",
        "\n",
        "if nx.is_connected(G): print(\"The graph is connected.\")\n",
        "else: print(\"The graph is not connected.\")"
      ]
    },
    {
      "cell_type": "code",
      "execution_count": null,
      "metadata": {},
      "outputs": [],
      "source": [
        "!python3 test.py < input-a.dat"
      ]
    },
    {
      "cell_type": "markdown",
      "source": "#### 方法2（深さ優先探索）",
      "metadata": {}
    },
    {
      "cell_type": "markdown",
      "source": "\n深さ優先探索を`nx.dfs_preorder_nodes`で行い，全ノードを訪問できるかどうかを調べる。",
      "metadata": {}
    },
    {
      "cell_type": "code",
      "execution_count": null,
      "metadata": {},
      "outputs": [],
      "source": [
        "%%writefile test.py\n",
        "import networkx as nx\n",
        "\n",
        "# 無向グラフを作る。\n",
        "n, m = map(int, input().split())\n",
        "G = nx.Graph()\n",
        "G.add_nodes_from(range(1, n + 1))\n",
        "for _ in range(m):\n",
        "  u, v = map(int, input().split())\n",
        "  G.add_edge(u, v)\n",
        "\n",
        "result = list(nx.dfs_preorder_nodes(G, source=1))\n",
        "if len(result) == n: print(\"The graph is connected.\")\n",
        "else: print(\"The graph is not connected.\")"
      ]
    },
    {
      "cell_type": "code",
      "execution_count": null,
      "metadata": {},
      "outputs": [],
      "source": [
        "!python3 test.py < input-a.dat"
      ]
    },
    {
      "cell_type": "markdown",
      "source": "### ♦networkxを使わない",
      "metadata": {}
    },
    {
      "cell_type": "markdown",
      "source": "\n♦問題：[ALDS1_11_B](https://onlinejudge.u-aizu.ac.jp/courses/lesson/1/ALDS1/11/ALDS1_11_B) (Depth First Search)",
      "metadata": {}
    },
    {
      "cell_type": "code",
      "execution_count": null,
      "metadata": {},
      "outputs": [],
      "source": [
        "%%writefile input-b.dat\n",
        "6\n",
        "1 2 2 3\n",
        "2 2 3 4\n",
        "3 1 5\n",
        "4 1 6\n",
        "5 1 6\n",
        "6 0"
      ]
    },
    {
      "cell_type": "code",
      "execution_count": null,
      "metadata": {},
      "outputs": [],
      "source": [
        "draw_pattern_b()"
      ]
    },
    {
      "cell_type": "markdown",
      "source": "この可視化結果を見ながら，紙とペンで出力を再現してみよう。\n\nここでは，スタックを使う実装は割愛し，再帰を使う実装のみを示す。また，教科書では隣接行列を使っているが，ここでは隣接リストを使う（入力が隣接リストだから，それをそのまま使うのが簡単。計算量は $O(|V|^2)$ ではなく $O(|V|+|E|)$ となる。$|E|$ が大きくなれば同じこと）。",
      "metadata": {}
    },
    {
      "cell_type": "code",
      "execution_count": null,
      "metadata": {},
      "outputs": [],
      "source": [
        "%%writefile test.py\n",
        "n = int(input())\n",
        "adj_list = [None] + [[] for _ in range(n)] # 隣接リスト\n",
        "\n",
        "# 隣接リストを完成させる。\n",
        "for _ in range(n):\n",
        "  u, k, *v = map(int, input().split())\n",
        "  adj_list[u] = v\n",
        "\n",
        "# 深さ優先探索の定義\n",
        "def dfs(u, t):\n",
        "  # 未発見の場合\n",
        "    # 発見時刻を記録し，時刻を進める。\n",
        "    # 再帰\n",
        "    # 完了時刻を記録し，時刻を進める。\n",
        "  return t # 時刻を返す。\n",
        "\n",
        "# 深さ優先探索の実行（連結でない場合を考慮する）\n",
        "d = [None] + [0] * n # 発見時刻\n",
        "f = [None] + [0] * n # 完了時刻         \n",
        "t = 1 # 時刻\n",
        "for u in range(1, n + 1): t = dfs(u, t)\n",
        "\n",
        "# 結果の表示\n",
        "for u in range(1, n + 1): print(u, d[u], f[u])"
      ]
    },
    {
      "cell_type": "code",
      "execution_count": null,
      "metadata": {},
      "outputs": [],
      "source": [
        "!python3 test.py < input-b.dat"
      ]
    },
    {
      "cell_type": "markdown",
      "source": "## 幅優先探索",
      "metadata": {}
    },
    {
      "cell_type": "markdown",
      "source": "\nアルゴリズム図鑑\n\nライブラリの使い方を確認する。",
      "metadata": {}
    },
    {
      "cell_type": "code",
      "execution_count": null,
      "metadata": {},
      "outputs": [],
      "source": [
        "import networkx as nx\n",
        "\n",
        "G = nx.Graph()\n",
        "G.add_edges_from([\n",
        "    ('A', 'B'), ('A', 'C'),\n",
        "    ('B', 'E'), ('B', 'F'), ('C', 'H'),\n",
        "    ('E', 'K'), ('X', 'Z')])\n",
        "nx.draw(G, with_labels=True, node_color='greenyellow')"
      ]
    },
    {
      "cell_type": "markdown",
      "source": "幅優先探索",
      "metadata": {}
    },
    {
      "cell_type": "code",
      "execution_count": null,
      "metadata": {},
      "outputs": [],
      "source": [
        "list(nx.bfs_edges(G, 'A'))"
      ]
    },
    {
      "cell_type": "markdown",
      "source": "幅優先探索を応用して最短経路長を求める。",
      "metadata": {}
    },
    {
      "cell_type": "code",
      "execution_count": null,
      "metadata": {},
      "outputs": [],
      "source": [
        "nx.single_source_shortest_path_length(G, 'A')"
      ]
    },
    {
      "cell_type": "markdown",
      "source": "### ♥networkxを使う",
      "metadata": {}
    },
    {
      "cell_type": "markdown",
      "source": "\n♥問題：[A63 - Shortest Path 1](https://atcoder.jp/contests/tessoku-book/tasks/math_and_algorithm_an)",
      "metadata": {}
    },
    {
      "cell_type": "code",
      "execution_count": null,
      "metadata": {},
      "outputs": [],
      "source": [
        "%%writefile input-a.dat\n",
        "6 6\n",
        "1 4\n",
        "2 3\n",
        "3 4\n",
        "5 6\n",
        "1 2\n",
        "2 4"
      ]
    },
    {
      "cell_type": "code",
      "execution_count": null,
      "metadata": {},
      "outputs": [],
      "source": [
        "draw_pattern_a()"
      ]
    },
    {
      "cell_type": "markdown",
      "source": "#### 方法1（最短経路）",
      "metadata": {}
    },
    {
      "cell_type": "markdown",
      "source": "\n指定したノードからの，グラフの全てのノードへの最短経路長を`nx.single_source_shortest_path_length`で求める。",
      "metadata": {}
    },
    {
      "cell_type": "code",
      "execution_count": null,
      "metadata": {},
      "outputs": [],
      "source": [
        "%%writefile test.py\n",
        "import networkx as nx\n",
        "\n",
        "# 無向グラフを作る。\n",
        "n, m = map(int, input().split())\n",
        "G = nx.Graph()\n",
        "G.add_nodes_from(range(1, n + 1))\n",
        "for _ in range(m):\n",
        "  u, v = map(int, input().split())\n",
        "  G.add_edge(u, v)\n",
        "\n",
        "result = nx.single_source_shortest_path_length(G, 1) # 最短経路長\n",
        "\n",
        "for u in range(1, n + 1):\n",
        "  if u in result: print(result[u])\n",
        "  else: print(-1)"
      ]
    },
    {
      "cell_type": "code",
      "execution_count": null,
      "metadata": {},
      "outputs": [],
      "source": [
        "!python3 test.py < input-a.dat"
      ]
    },
    {
      "cell_type": "markdown",
      "source": "#### 方法2（幅優先探索）",
      "metadata": {}
    },
    {
      "cell_type": "markdown",
      "source": "\n幅優先探索のためのエッジを`nx.bfs_edges`で取得し，それを使って最短経路長を求める。",
      "metadata": {}
    },
    {
      "cell_type": "code",
      "execution_count": null,
      "metadata": {},
      "outputs": [],
      "source": [
        "%%writefile test.py\n",
        "import networkx as nx\n",
        "\n",
        "# 無向グラフを作る。\n",
        "n, m = map(int, input().split())\n",
        "G = nx.Graph()\n",
        "G.add_nodes_from(range(1, n + 1))\n",
        "for _ in range(m):\n",
        "  u, v = map(int, input().split())\n",
        "  G.add_edge(u, v)\n",
        "\n",
        "d = [None] + [-1] * n # 距離を記録するリスト（到達できないノードは-1）\n",
        "d[1] = 0\n",
        "\n",
        "for parent, child in nx.bfs_edges(G, 1): # 幅優先探索\n",
        "  d[child] = d[parent] + 1\n",
        "\n",
        "for u in range(1, n + 1): print(d[u])"
      ]
    },
    {
      "cell_type": "code",
      "execution_count": null,
      "metadata": {},
      "outputs": [],
      "source": [
        "!python3 test.py < input-a.dat"
      ]
    },
    {
      "cell_type": "markdown",
      "source": "### ♦networkxを使わない",
      "metadata": {}
    },
    {
      "cell_type": "markdown",
      "source": "\n♦問題：[ALDS1_11_C](https://onlinejudge.u-aizu.ac.jp/courses/lesson/1/ALDS1/11/ALDS1_11_C) (Breadth First Search)",
      "metadata": {}
    },
    {
      "cell_type": "code",
      "execution_count": null,
      "metadata": {},
      "outputs": [],
      "source": [
        "%%writefile input-b.dat\n",
        "4\n",
        "1 2 2 4\n",
        "2 1 4\n",
        "3 0\n",
        "4 1 3"
      ]
    },
    {
      "cell_type": "code",
      "execution_count": null,
      "metadata": {},
      "outputs": [],
      "source": [
        "draw_pattern_b()"
      ]
    },
    {
      "cell_type": "code",
      "execution_count": null,
      "metadata": {},
      "outputs": [],
      "source": [
        "%%writefile test.py\n",
        "n = int(input())\n",
        "adj_list = [None] + [[] for _ in range(n)] # 隣接リスト\n",
        "\n",
        "# 隣接リストを完成させる。\n",
        "for _ in range(n):\n",
        "  u, k, *v = map(int, input().split())\n",
        "  adj_list[u] = v\n",
        "\n",
        "from collections import deque\n",
        "\n",
        "d = [None] + [-1] * n # 距離を記録するリスト（到達できないノードは-1）\n",
        "d[1] = 0\n",
        "\n",
        "# 幅優先探索\n",
        "# キューにノード1を入れる。\n",
        "# キューが空でない間は繰り返す。\n",
        "  # キューからノードを取り出す。\n",
        "  # ノードから行けるノードに対して\n",
        "    # 未探索なら\n",
        "    # 距離を更新して\n",
        "    # キューに入れる\n",
        "\n",
        "for u in range(1, n + 1): print(u, d[u])"
      ]
    },
    {
      "cell_type": "code",
      "execution_count": null,
      "metadata": {},
      "outputs": [],
      "source": [
        "!python3 test.py < input-b.dat"
      ]
    },
    {
      "cell_type": "markdown",
      "source": "## ♠連結成分",
      "metadata": {}
    },
    {
      "cell_type": "markdown",
      "source": "",
      "metadata": {}
    },
    {
      "cell_type": "markdown",
      "source": "### ♥networkxを使う",
      "metadata": {}
    },
    {
      "cell_type": "markdown",
      "source": "\n♠♥問題：[A66 - Connect Query](https://atcoder.jp/contests/tessoku-book/tasks/tessoku_book_bn)",
      "metadata": {}
    },
    {
      "cell_type": "code",
      "execution_count": null,
      "metadata": {},
      "outputs": [],
      "source": [
        "%%writefile input-c.dat\n",
        "3 4\n",
        "1 1 2\n",
        "2 1 3\n",
        "1 2 3\n",
        "2 2 3"
      ]
    },
    {
      "cell_type": "code",
      "execution_count": null,
      "metadata": {},
      "outputs": [],
      "source": [
        "draw_pattern_c()"
      ]
    },
    {
      "cell_type": "markdown",
      "source": "Union-Find（森を使って連結成分を管理する方法）を使う。",
      "metadata": {}
    },
    {
      "cell_type": "code",
      "execution_count": null,
      "metadata": {},
      "outputs": [],
      "source": [
        "%%writefile test.py\n",
        "import networkx as nx\n",
        "\n",
        "n, q = map(int, input().split())\n",
        "uf = nx.utils.UnionFind(range(1, n + 1))\n",
        "\n",
        "for _ in range(q):\n",
        "  t, u, v = map(int, input().split())\n",
        "  if t == 1: uf.union(u, v)\n",
        "  elif uf[u] == uf[v]: print('Yes')\n",
        "  else: print('No')"
      ]
    },
    {
      "cell_type": "code",
      "execution_count": null,
      "metadata": {},
      "outputs": [],
      "source": [
        "!python3 test.py < input-c.dat"
      ]
    },
    {
      "cell_type": "markdown",
      "source": "### ♦networkxを使わない",
      "metadata": {}
    },
    {
      "cell_type": "markdown",
      "source": "\n♠♦問題：[ALDS1_11_D](https://onlinejudge.u-aizu.ac.jp/courses/lesson/1/ALDS1/11/ALDS1_11_D) (Connected Components)",
      "metadata": {}
    },
    {
      "cell_type": "code",
      "execution_count": null,
      "metadata": {},
      "outputs": [],
      "source": [
        "%%writefile input-d.dat\n",
        "10 9\n",
        "0 1\n",
        "0 2\n",
        "3 4\n",
        "5 7\n",
        "5 6\n",
        "6 7\n",
        "6 8\n",
        "7 8\n",
        "8 9\n",
        "3\n",
        "0 1\n",
        "5 9\n",
        "1 3"
      ]
    },
    {
      "cell_type": "code",
      "execution_count": null,
      "metadata": {},
      "outputs": [],
      "source": [
        "draw_pattern_d()"
      ]
    },
    {
      "cell_type": "code",
      "execution_count": null,
      "metadata": {},
      "outputs": [],
      "source": [
        "%%writefile test.py\n",
        "import sys\n",
        "sys.setrecursionlimit(110000) # 再帰の回数の上限を増やしておく。\n",
        "\n",
        "# グラフの構築\n",
        "n, m = map(int, input().split())\n",
        "adj_list = [[] for _ in range(n)]\n",
        "\n",
        "for _ in range(m):\n",
        "  u, v = map(int, input().split())\n",
        "  adj_list[u].append(v)\n",
        "  adj_list[v].append(u) # 反対も必要\n",
        "\n",
        "# 深さ優先探索で到達できるノードのcolorをidにする関数\n",
        "def dfs(a, id):\n",
        "  # 未探索（colorがNone）なら\n",
        "    # 色をつけて\n",
        "    # 再帰的に探索する。\n",
        "\n",
        "# 色分け\n",
        "color = [None] * n\n",
        "id = 0\n",
        "# 全てのノードに対して\n",
        "  # DFSで色を付ける。\n",
        "  # 色を変える。\n",
        "\n",
        "# 質問の処理\n",
        "q = int(input())\n",
        "for _ in range(q):\n",
        "  a, b = map(int, input().split())\n",
        "  if color[a] == color[b]: print('yes')\n",
        "  else: print('no')"
      ]
    },
    {
      "cell_type": "code",
      "execution_count": null,
      "metadata": {},
      "outputs": [],
      "source": [
        "!python3 test.py < input-d.dat"
      ]
    },
    {
      "cell_type": "markdown",
      "source": "## 宿題",
      "metadata": {}
    },
    {
      "cell_type": "markdown",
      "source": "\nnetworkxの使い方を学びたい（手軽）。\n\n-   ♥[A61 - Adjacent Vertices](https://atcoder.jp/contests/tessoku-book/tasks/tessoku_book_bi)\n-   ♠♥[B61 - Influencer](https://atcoder.jp/contests/tessoku-book/tasks/tessoku_book_eh)\n-   ♥[A62 - Depth First Search](https://atcoder.jp/contests/tessoku-book/tasks/math_and_algorithm_am)\n-   ♥[A63 - Shortest Path 1](https://atcoder.jp/contests/tessoku-book/tasks/math_and_algorithm_an)\n-   ♠♥[A66 - Connect Query](https://atcoder.jp/contests/tessoku-book/tasks/tessoku_book_bn)\n\nアルゴリズムを自分で実装したい。\n\n-   ♦[ALDS1_11_A](https://onlinejudge.u-aizu.ac.jp/courses/lesson/1/ALDS1/11/ALDS1_11_A) (Graph)\n-   ♦[ALDS1_11_B](https://onlinejudge.u-aizu.ac.jp/courses/lesson/1/ALDS1/11/ALDS1_11_B) (Depth First Search)\n-   ♦[ALDS1_11_C](https://onlinejudge.u-aizu.ac.jp/courses/lesson/1/ALDS1/11/ALDS1_11_C) (Breadth First Search)\n-   ♠♦[ALDS1_11_D](https://onlinejudge.u-aizu.ac.jp/courses/lesson/1/ALDS1/11/ALDS1_11_D) (Connected Components)\n\n以上",
      "metadata": {}
    }
  ],
  "nbformat": 4,
  "nbformat_minor": 5,
  "metadata": {}
}
